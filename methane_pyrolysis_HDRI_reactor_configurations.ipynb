{
 "cells": [
  {
   "cell_type": "code",
   "execution_count": 1,
   "metadata": {},
   "outputs": [],
   "source": [
    "import pandas as pd \n",
    "import numpy as np\n",
    "import matplotlib.pyplot as plt\n",
    "%matplotlib inline\n",
    "plt.rcParams['savefig.dpi'] = 1200\n",
    "plt.rcParams[\"figure.figsize\"] = [10,10]"
   ]
  },
  {
   "cell_type": "code",
   "execution_count": 2,
   "metadata": {},
   "outputs": [],
   "source": [
    "mol_weight_fe=55.845 #in grams\n",
    "mol_weight_fe2o3=159.688 #in grams \n",
    "mol_weight_Sio2=60.0843 #in grams\n",
    "mol_weight_al2o3=101.9613 #in grams\n",
    "mol_weight_feo=71.844 #in grams\n",
    "mol_weight_H2=2.01588 #in grams\n",
    "mol_weight_H2O=18.0153 #in grams\n",
    "mol_weight_cao=56.077#in grams\n",
    "mol_weight_mgo=40.3044 #in grams\n",
    "mol_weight_al2o3=101.9613 #in grams"
   ]
  },
  {
   "cell_type": "markdown",
   "metadata": {},
   "source": [
    "## Stochiometric calculations for the amount of Hydrogen required for reduction of iron\n",
    "\n",
    "Iron ore is reducd by hydrogen at a temperature of 800-900 C in an endothermic reaction using 99.5 kJ/mol.<br />\n",
    "$Fe_{2}O_{3}+ 3H_{2}---> 2Fe + 3H_{2}O$"
   ]
  },
  {
   "cell_type": "code",
   "execution_count": 3,
   "metadata": {},
   "outputs": [
    {
     "name": "stdout",
     "output_type": "stream",
     "text": [
      "Hydrogen required to produce 1 ton of iron in kg/ton of iron: 54.146655922643035\n"
     ]
    }
   ],
   "source": [
    "# to produce 1 mole of iron 2/3 rd mole of hydrogen are required\n",
    "H2_per_mol=3/2 \n",
    "# Weight of H2 for producing one mole of Fe in gms\n",
    "H2_weight=(H2_per_mol)*mol_weight_H2 \n",
    "# Number of moles in 1 ton of Fe\n",
    "mol_per_ton_fe=(1000000)/mol_weight_fe\n",
    "# Weight of hydrogen in kg to reduce 1 ton of Fe2O3\n",
    "h2_per_ton_steel=(H2_weight*mol_per_ton_fe)/1000 \n",
    "\n",
    "print(\"Hydrogen required to produce 1 ton of iron in kg/ton of iron:\",h2_per_ton_steel)\n",
    "\n"
   ]
  },
  {
   "cell_type": "markdown",
   "metadata": {},
   "source": [
    "### Hydrogen required for reduction of iron oxide for  1 ton of Fe production (Actual)\n",
    " Actual amount of hydrogen entering the shaft furnace is higher than the stoichiometric value.The ration between the actual value and the stoichiometric value is defined as lambda_h2 in these calculations. The graph below shows the variation of mass flow rate of hydrogen with lamda_h2.\n",
    "\n"
   ]
  },
  {
   "cell_type": "code",
   "execution_count": 4,
   "metadata": {},
   "outputs": [
    {
     "name": "stdout",
     "output_type": "stream",
     "text": [
      "Amount of actual hydrogen required for reduction of iron oxide to produce 1 ton of iron in kg : 70.39065269943595\n"
     ]
    },
    {
     "data": {
      "text/plain": [
       "70.39065269943595"
      ]
     },
     "execution_count": 4,
     "metadata": {},
     "output_type": "execute_result"
    }
   ],
   "source": [
    "lambda_h2=1.3\n",
    "\n",
    "h2_per_ton_actual=(h2_per_ton_steel*lambda_h2) \n",
    "print(\"Amount of actual hydrogen required for reduction of iron oxide to produce 1 ton of iron in kg :\",\n",
    "h2_per_ton_actual)\n",
    "m3=h2_per_ton_actual\n",
    "m3"
   ]
  },
  {
   "cell_type": "markdown",
   "metadata": {},
   "source": [
    "# Calculations are based on the production of 200 kt of hydrogen per annum."
   ]
  },
  {
   "cell_type": "code",
   "execution_count": 5,
   "metadata": {},
   "outputs": [],
   "source": [
    "h2_prod_yr=200000000 #in kg per year "
   ]
  },
  {
   "cell_type": "code",
   "execution_count": 6,
   "metadata": {},
   "outputs": [],
   "source": [
    "# Plant is operational 95% of the time in an year \n",
    "operating_hours=365*24*0.95 "
   ]
  },
  {
   "cell_type": "code",
   "execution_count": 7,
   "metadata": {},
   "outputs": [
    {
     "data": {
      "text/plain": [
       "24032.68445085316"
      ]
     },
     "execution_count": 7,
     "metadata": {},
     "output_type": "execute_result"
    }
   ],
   "source": [
    "h2_prod_hr=h2_prod_yr/operating_hours\n",
    "h2_prod_hr"
   ]
  },
  {
   "cell_type": "code",
   "execution_count": 8,
   "metadata": {},
   "outputs": [],
   "source": [
    "#Stoichiometric value for reduction of iron ore\n",
    "h2_per_ton_steel=54.14 "
   ]
  },
  {
   "cell_type": "code",
   "execution_count": 9,
   "metadata": {},
   "outputs": [],
   "source": [
    "#Excess hydrogen fed in the dri shaft furnace for complete reduction of iron ore \n",
    "lambda_h2=1.47\n"
   ]
  },
  {
   "cell_type": "code",
   "execution_count": 10,
   "metadata": {},
   "outputs": [],
   "source": [
    "# Calculating the actual amount of hydrogen required for production of one ton of steel\n",
    "h2_per_ton_actual=lambda_h2*h2_per_ton_steel"
   ]
  },
  {
   "cell_type": "markdown",
   "metadata": {},
   "source": [
    "### Calculate the amount of steel produced per hour "
   ]
  },
  {
   "cell_type": "code",
   "execution_count": 11,
   "metadata": {},
   "outputs": [],
   "source": [
    "steel_per_hr=h2_prod_hr/h2_per_ton_actual\n",
    "steel_prod_yr=steel_per_hr*operating_hours\n"
   ]
  },
  {
   "cell_type": "markdown",
   "metadata": {},
   "source": [
    "### Carbon production from  methane pyrolysis"
   ]
  },
  {
   "cell_type": "code",
   "execution_count": 12,
   "metadata": {},
   "outputs": [
    {
     "name": "stdout",
     "output_type": "stream",
     "text": [
      "Carbon produced per year in kg 600000000.0\n",
      "Carbon produced per year in kg 72098.05335255948\n"
     ]
    }
   ],
   "source": [
    "carbon_per_hr=(h2_prod_hr*3) \n",
    "carbon_per_hr\n",
    "carbon_per_year=carbon_per_hr*operating_hours\n",
    "print(\"Carbon produced per year in kg\",carbon_per_year)\n",
    "print(\"Carbon produced per year in kg\",carbon_per_hr)"
   ]
  },
  {
   "cell_type": "markdown",
   "metadata": {},
   "source": [
    "## Energy analysis"
   ]
  },
  {
   "cell_type": "markdown",
   "metadata": {},
   "source": [
    "Based on the article : \n",
    "Coupled hydrodynamic and kinetic model of liquid\n",
    "metal bubble reactor for hydrogen production by\n",
    "noncatalytic thermal decomposition of methane \n",
    "Lionel jj catalan and Ebrahim rezaei"
   ]
  },
  {
   "cell_type": "markdown",
   "metadata": {},
   "source": [
    "![title](reactor_config.jpg)"
   ]
  },
  {
   "cell_type": "code",
   "execution_count": 13,
   "metadata": {},
   "outputs": [],
   "source": [
    "T_reactor=[1000,1050,1100,1100,1100,1100,1200,1200,1200,1200] #in C\n",
    "heat_source=['FH','FH','FH','FH','FH','FH','EH','EH','EH','EH']"
   ]
  },
  {
   "cell_type": "code",
   "execution_count": 14,
   "metadata": {},
   "outputs": [],
   "source": [
    "conversion_meth=[0.65,0.65,0.65,0.70,0.80,0.90,0.65,0.70,0.80,0.90]"
   ]
  },
  {
   "cell_type": "code",
   "execution_count": 15,
   "metadata": {},
   "outputs": [],
   "source": [
    "met_feed_rate=[2544,2544,2544,2362,2067,1837,2544,2362,2067,1837] #mol/sec"
   ]
  },
  {
   "cell_type": "code",
   "execution_count": 16,
   "metadata": {},
   "outputs": [],
   "source": [
    "#Multiplied by the molecular weight of methane\n",
    "met_feed_rate_kg=[x*0.016 for x in met_feed_rate]\n"
   ]
  },
  {
   "cell_type": "code",
   "execution_count": 17,
   "metadata": {},
   "outputs": [],
   "source": [
    "met_feed_rate_kg_hr=[x*(3600) for x in met_feed_rate_kg]\n",
    "hydrogen_per_hr_list=[]\n",
    "for i in range(len(met_feed_rate)):\n",
    "    hydrogen_per_hr_list.append((met_feed_rate_kg_hr[i]*conversion_meth[i])/4)\n",
    "np.asarray(hydrogen_per_hr_list)\n",
    "hydrogen_per_hr=np.round(hydrogen_per_hr_list,decimals=0).tolist()  \n"
   ]
  },
  {
   "cell_type": "code",
   "execution_count": 18,
   "metadata": {},
   "outputs": [],
   "source": [
    "#Reactor diameter\n",
    "dia_reac=[5.35,4.04,3.50,3.82,4.84,8.18,2.84,3.08,3.77,5.21]"
   ]
  },
  {
   "cell_type": "code",
   "execution_count": 19,
   "metadata": {},
   "outputs": [],
   "source": [
    "len_reac=[96.2,37.1,14.3,17.6,26.9,43.1,2.40,2.99,4.80,8.66]\n"
   ]
  },
  {
   "cell_type": "code",
   "execution_count": 20,
   "metadata": {},
   "outputs": [],
   "source": [
    "ratio=[]\n",
    "for i in range(len(dia_reac)):\n",
    "    ratio.append(len_reac[i]/dia_reac[i])"
   ]
  },
  {
   "cell_type": "code",
   "execution_count": 21,
   "metadata": {},
   "outputs": [],
   "source": [
    "sur_area_reac=[]\n",
    "\n",
    "\n",
    "vol_reac=[]\n",
    "for i in range(len(dia_reac)):\n",
    "    vol_reac.append((3.14*dia_reac[i]*dia_reac[i]*len_reac[i])/4)\n",
    "    sur_area_reac.append(((2*np.pi*(dia_reac[i]/2)) * len_reac[i]) + ((np.pi*(dia_reac[i]/2)**2)*2))"
   ]
  },
  {
   "cell_type": "code",
   "execution_count": 22,
   "metadata": {},
   "outputs": [],
   "source": [
    "p_reac_bot=[66.6,52.4,57.8,46.5,31.8,27.3,91.7,70.4,39.5,19.1]\n",
    "p_reac_top=[17.6,35.4,51.5,38.6,19.4,4.9,90.6,69.1,37.4,15.3]"
   ]
  },
  {
   "cell_type": "code",
   "execution_count": 23,
   "metadata": {},
   "outputs": [
    {
     "data": {
      "text/plain": [
       "<matplotlib.collections.PathCollection at 0x7fd0a141d940>"
      ]
     },
     "execution_count": 23,
     "metadata": {},
     "output_type": "execute_result"
    },
    {
     "data": {
      "image/png": "[encoded data removed]",
      "text/plain": [
       "<Figure size 432x288 with 1 Axes>"
      ]
     },
     "metadata": {
      "needs_background": "light"
     },
     "output_type": "display_data"
    }
   ],
   "source": [
    "gas_holdup_bot=[0.107,0.205,0.243,0.231,0.187,0.77,0.259,0.255,0.246,0.22]\n",
    "gas_holdup_top=[0.32,0.32,0.32,0.32,0.32,0.32,0.32,0.32,0.32,0.32]\n",
    "gas_holdup_avg=[0.199,0.262,0.297,0.292,0.269,0.172,0.306,0.306,0.305,0.294]\n",
    "plt.scatter(dia_reac,vol_reac,label='bottom')\n"
   ]
  },
  {
   "cell_type": "code",
   "execution_count": 24,
   "metadata": {},
   "outputs": [
    {
     "data": {
      "text/plain": [
       "[1731.3497513324999,\n",
       " 350.80248278880003,\n",
       " 96.67119962500003,\n",
       " 142.7388876672,\n",
       " 361.6013448344,\n",
       " 1874.4932075112001,\n",
       " 10.545739737599998,\n",
       " 15.452606609440002,\n",
       " 37.220174004,\n",
       " 130.27698418426002]"
      ]
     },
     "execution_count": 24,
     "metadata": {},
     "output_type": "execute_result"
    }
   ],
   "source": [
    "v_metal=[]\n",
    "for i in range(len(vol_reac)):\n",
    "    v_metal.append((vol_reac[i]*(1-gas_holdup_avg[i])))\n",
    "v_metal"
   ]
  },
  {
   "cell_type": "code",
   "execution_count": 25,
   "metadata": {},
   "outputs": [
    {
     "data": {
      "text/plain": [
       "[2161.4853325,\n",
       " 475.34211760000005,\n",
       " 137.51237500000002,\n",
       " 201.6085984,\n",
       " 494.66668239999996,\n",
       " 2263.8806854,\n",
       " 15.195590399999999,\n",
       " 22.266003760000004,\n",
       " 53.5542072,\n",
       " 184.52830621000004]"
      ]
     },
     "execution_count": 25,
     "metadata": {},
     "output_type": "execute_result"
    }
   ],
   "source": [
    "vol_reac"
   ]
  },
  {
   "cell_type": "markdown",
   "metadata": {},
   "source": [
    "## Liquid tin thermophysical property calculation\n",
    "\n",
    "#### Reference : https://link.springer.com/content/pdf/10.1134/S0036029518020143.pdf"
   ]
  },
  {
   "cell_type": "code",
   "execution_count": 26,
   "metadata": {},
   "outputs": [
    {
     "name": "stdout",
     "output_type": "stream",
     "text": [
      "32856.068 32.856068 278.2761751503346\n",
      "[230.08239180147373, 242.13083763868892, 254.17928347590413, 254.17928347590413, 254.17928347590413, 254.17928347590413, 278.27617515033455, 278.27617515033455, 278.27617515033455, 278.27617515033455]\n",
      "10\n"
     ]
    },
    {
     "data": {
      "text/plain": [
       "'plt.figure(figsize=(12,5))\\nplt.scatter(dia_reac,tin_cost_million)\\nplt.xlabel(\"Reactor diameter\")\\nplt.ylabel(\"Cost of tin in million Euros\")'"
      ]
     },
     "execution_count": 26,
     "metadata": {},
     "output_type": "execute_result"
    },
    {
     "data": {
      "image/png": "[encoded data removed]",
      "text/plain": [
       "<Figure size 432x288 with 1 Axes>"
      ]
     },
     "metadata": {
      "needs_background": "light"
     },
     "output_type": "display_data"
    }
   ],
   "source": [
    "T1=505\n",
    "#Calculation of delta h in j/mol\n",
    "tin_mol_weight=118.07\n",
    "h1=-5855.135+15.961*T1+((18.8702/1000)*T1*T1)-(6.2472334*10**-6*T1*T1*T1)-(123920/T1) \n",
    "\n",
    "h1_j_g=h1/tin_mol_weight\n",
    "T2=800\n",
    "\n",
    "h2=9496.31+8.2590486*T2+((16.814429/1000)*T2*T2)-(5.24626*10**-6*(1/T2**3))-(2162488/T2)\n",
    "\n",
    "T3=1200\n",
    "\n",
    "h3=-1285.372+28.4512*T3\n",
    "\n",
    "H=h3\n",
    "H_kj=H/1000 # in kJ/mol\n",
    "H_kj_g=(H_kj)/tin_mol_weight\n",
    "H_kj_kg=H_kj_g*1000\n",
    "\n",
    "print(H, H_kj,H_kj_kg)\n",
    "\n",
    "#### Heat required for heating tin inside the bubble column reactor from 298 K to T_final\n",
    "\n",
    "T_final=T_reactor\n",
    "\n",
    "H_tin=[]\n",
    "for i in range(len(T_reactor)):\n",
    "       H_tin.append((-1285.372+28.4512*T_final[i])/tin_mol_weight)\n",
    "print(H_tin)\n",
    "print(len(H_tin))\n",
    "plt.plot(T_final,H_tin)\n",
    "\n",
    "### Density variation of liquid tin with changing temperature\n",
    "\n",
    "#### Reference : https://sci-hub.se/https://doi.org/10.1063/1.3467496\n",
    "\n",
    "c3=6979 #kg/m3\n",
    "c4=0.652 \n",
    "t_ref=[505.08,505.08,505.08,505.08,505.08,505.08,505.08,505.08,505.08,505.08]\n",
    "rho_final=[]\n",
    "for i in range(len(t_ref)):\n",
    "    rho_final.append(c3-c4*(T_final[i]-t_ref[i]))\n",
    "\n",
    "\n",
    "### Calculation of weight of liquid tin \n",
    "\n",
    "weight_tin=[]\n",
    "for i in range(len(vol_reac)):\n",
    "    weight_tin.append(rho_final[i]*v_metal[i])\n",
    "\n",
    "\n",
    "\n",
    "\n",
    "\n",
    "\"\"\"plt.figure(figsize=(12,5))\n",
    "plt.scatter(dia_reac,tin_cost_million)\n",
    "plt.xlabel(\"Reactor diameter\")\n",
    "plt.ylabel(\"Cost of tin in million Euros\")\"\"\""
   ]
  },
  {
   "cell_type": "markdown",
   "metadata": {},
   "source": [
    "### Capital cost of the metal\n",
    "#### Source : http://www.metalary.com/tin-price/"
   ]
  },
  {
   "cell_type": "code",
   "execution_count": 27,
   "metadata": {},
   "outputs": [
    {
     "name": "stdout",
     "output_type": "stream",
     "text": [
      "Cost of tin in USD milliom [171.92717281839944, 34.6649151778486, 9.505650492044794, 14.03547264387892, 35.55615338159379, 184.31836316744636, 1.0267017559121527, 1.5044196741140508, 3.62364508854828, 12.68337847747413]\n"
     ]
    }
   ],
   "source": [
    "weight_perkg=14918.53/1000 # USD/kg\n",
    "tin_cost=[]\n",
    "for i in range(len(weight_tin)):\n",
    "    tin_cost.append(weight_tin[i]*weight_perkg)\n",
    "\n",
    "#Cost of tin in million Euros\n",
    "million=10**6\n",
    "tin_cost_million=[x / million for x in tin_cost]\n",
    "print(\"Cost of tin in USD milliom\",tin_cost_million)"
   ]
  },
  {
   "cell_type": "markdown",
   "metadata": {},
   "source": [
    "#### Cost of the bubble column reactor\n",
    "\n",
    "Considering that the reactor is made of 45 mm thick carbon steel. The cost of stainless steel is assumed to be USD 600 /ton. The reactor is lined with refractory (magnesium oxide) layer of 600 mm and the cost of refractory bricks is 400 USD/ton."
   ]
  },
  {
   "cell_type": "code",
   "execution_count": 28,
   "metadata": {},
   "outputs": [],
   "source": [
    "vol_steel_reactor=[]\n",
    "vol_refractory=[]\n",
    "steel_density=7700 #kg/m3\n",
    "refractory_density=2970 #kg/m3\n",
    "weight_steel_reactor=[]\n",
    "weight_refractory=[]\n",
    "steel_cost=600 #USD/ton\n",
    "refractory_cost=400 #USD/ton\n",
    "reactor_cost=[]\n",
    "tank_manufacturing=100 #USD/ton\n",
    "refractory_labour=50 #USD/ton\n",
    "for i in range(len(len_reac)):\n",
    "    vol_steel_reactor.append(np.pi*((dia_reac[i]/2+0.045)**2-(dia_reac[i]/2)**2)*len_reac[i])\n",
    "    vol_refractory.append(np.pi*((dia_reac[i]/2+0.4)**2-(dia_reac[i]/2)**2)*len_reac[i])\n",
    "    weight_steel_reactor.append((vol_steel_reactor[i]*steel_density)/1000)\n",
    "    weight_refractory.append((vol_refractory[i]*refractory_density)/1000)"
   ]
  },
  {
   "cell_type": "code",
   "execution_count": 29,
   "metadata": {},
   "outputs": [],
   "source": [
    "for i in range(len(conversion_meth)):\n",
    "    reactor_cost.append(((weight_steel_reactor[i]*steel_cost)+(weight_refractory[i]*refractory_cost)+(weight_steel_reactor[i]*100)+(weight_refractory[i]*50))/10**6+(tin_cost_million[i]))"
   ]
  },
  {
   "cell_type": "markdown",
   "metadata": {},
   "source": [
    "## Energy consumption and emissions from different reactor configurations "
   ]
  },
  {
   "cell_type": "markdown",
   "metadata": {},
   "source": [
    "### Energy calculations\n",
    "#### Enthalpy of carbon \n",
    "https://webbook.nist.gov/cgi/cbook.cgi?ID=C7440440&Type=JANAFG&Plot=on\n",
    "\n",
    "It is assumed that 75% of the energy going out from th carbon stream is recovered by passing the incoming natural gas stream through the hot carbon bed. The outlet temperature should not be more than 800 C, otherwise natural gas pyrolysis will start before entering the bubble column reactor."
   ]
  },
  {
   "cell_type": "code",
   "execution_count": 30,
   "metadata": {},
   "outputs": [],
   "source": [
    "### Carbon production from  methane pyrolysis\n",
    "carbon_per_hr=[]\n",
    "carbon_per_tls=[]\n",
    "for i in range(len(hydrogen_per_hr)):\n",
    "    carbon_per_hr.append(hydrogen_per_hr[i]*3) \n",
    "    carbon_per_tls.append(carbon_per_hr[i]/steel_per_hr)\n"
   ]
  },
  {
   "cell_type": "code",
   "execution_count": 31,
   "metadata": {},
   "outputs": [],
   "source": [
    "\n",
    "t=[]\n",
    "for i in range(len(T_reactor)):\n",
    "    t.append((T_reactor[i]+273)/1000)\n",
    "\n",
    "# It is assumed that the carbon deposited at the top \n",
    "#of the molten metal is at the same temperature as the reactor \n",
    "H_carbon_si_perkg=[]\n",
    "H_carbon_total=[]\n",
    "H_carbon_tls=[]"
   ]
  },
  {
   "cell_type": "code",
   "execution_count": 32,
   "metadata": {},
   "outputs": [],
   "source": [
    "H_carbon=[]\n",
    "A=21.17510\n",
    "B=-0.812428\n",
    "C=0.448537\n",
    "D=-0.043256\n",
    "E=-0.013103\n",
    "F=710.3470\n",
    "G=183.8734\n",
    "H=716.6690"
   ]
  },
  {
   "cell_type": "code",
   "execution_count": 33,
   "metadata": {},
   "outputs": [],
   "source": [
    "for i in range(len(T_reactor)):\n",
    "    H_carbon.append((A*(t[i]) + (B*t[i]**2)/2+ (C*t[i]**3)/3) + ((D*t[i]**4)/4)-(E/t[i])+ F-H)\n",
    "    H_carbon_si_perkg.append(H_carbon[i]/0.012)\n",
    "    H_carbon_total.append((H_carbon_si_perkg[i]*carbon_per_hr[i])/3600)\n",
    "    H_carbon_tls.append(H_carbon_total[i]/steel_per_hr)"
   ]
  },
  {
   "cell_type": "code",
   "execution_count": 34,
   "metadata": {},
   "outputs": [
    {
     "data": {
      "text/plain": [
       "Text(0, 0.5, 'Enthalpy of the carbon in KWh/tls')"
      ]
     },
     "execution_count": 34,
     "metadata": {},
     "output_type": "execute_result"
    },
    {
     "data": {
      "image/png": "[encoded data removed]",
      "text/plain": [
       "<Figure size 432x288 with 1 Axes>"
      ]
     },
     "metadata": {
      "needs_background": "light"
     },
     "output_type": "display_data"
    }
   ],
   "source": [
    "plt.scatter(conversion_meth,H_carbon_tls)\n",
    "plt.xlabel(\"Reactor temperature in C\")\n",
    "plt.ylabel(\"Enthalpy of the carbon in KWh/tls\")"
   ]
  },
  {
   "cell_type": "markdown",
   "metadata": {},
   "source": [
    "### Enthalpy of hydrogen exiting the reactor \n",
    "H° − H°298.15= A*t + B*t2/2 + C*t3/3 + D*t4/4 − E/t + F − H\n",
    "source : https://webbook.nist.gov/cgi/cbook.cgi?ID=C1333740&Mask=1&Type=JANAFG&Plot=on"
   ]
  },
  {
   "cell_type": "code",
   "execution_count": 35,
   "metadata": {},
   "outputs": [],
   "source": [
    "H_hydrogen=[]\n",
    "H_hydrogen_total=[]\n",
    "H_hydrogen_si_perkg=[]\n",
    "H_hydrogen_tls=[]\n",
    "A_h=18.563083\n",
    "B_h=12.257357\n",
    "C_h=-2.859786\n",
    "D_h=0.268238\n",
    "E_h=1.977990\n",
    "F_h=-1.147438\n",
    "G_h=156.288133\n",
    "H_h=0\n"
   ]
  },
  {
   "cell_type": "code",
   "execution_count": 36,
   "metadata": {},
   "outputs": [],
   "source": [
    "for i in range(len(T_reactor)):\n",
    "    H_hydrogen.append((A_h*(t[i]) + (B_h*t[i]**2)/2+ (C_h*t[i]**3)/3) + ((D_h*t[i]**4)/4)-(E_h/t[i])+ F_h-H_h)\n",
    "    H_hydrogen_si_perkg.append(H_hydrogen[i]/0.002)\n",
    "    H_hydrogen_total.append((H_hydrogen_si_perkg[i]*hydrogen_per_hr[i])/3600)\n",
    "    H_hydrogen_tls.append(H_hydrogen_total[i]/steel_per_hr)"
   ]
  },
  {
   "cell_type": "code",
   "execution_count": 37,
   "metadata": {},
   "outputs": [
    {
     "data": {
      "text/plain": [
       "Text(0, 0.5, 'Enthalpy of the hydrogen in KWh/tls')"
      ]
     },
     "execution_count": 37,
     "metadata": {},
     "output_type": "execute_result"
    },
    {
     "data": {
      "image/png": "[encoded data removed]",
      "text/plain": [
       "<Figure size 432x288 with 1 Axes>"
      ]
     },
     "metadata": {
      "needs_background": "light"
     },
     "output_type": "display_data"
    }
   ],
   "source": [
    "plt.scatter(T_reactor,H_hydrogen_tls)\n",
    "plt.xlabel(\"Reactor temperature in C\")\n",
    "plt.ylabel(\"Enthalpy of the hydrogen in KWh/tls\")"
   ]
  },
  {
   "cell_type": "markdown",
   "metadata": {},
   "source": [
    "### Energy required to heat methane \n",
    "\n",
    "Source : https://webbook.nist.gov/cgi/cbook.cgi?ID=C74828&Units=SI&Mask=1&Type=JANAFG&Plot=on\n"
   ]
  },
  {
   "cell_type": "code",
   "execution_count": 38,
   "metadata": {},
   "outputs": [],
   "source": [
    "H_methane=[]\n",
    "H_methane_total=[]\n",
    "H_methane_si_perkg=[]\n",
    "H_methane_tls=[]\n",
    "A_m=85.81217\n",
    "B_m=11.26467\n",
    "C_m=-2.114146\n",
    "D_m=0.138190\n",
    "E_m=-26.42221\n",
    "F_m=-153.5327\n",
    "G_m=224.4143\n",
    "H_m=-74.87310"
   ]
  },
  {
   "cell_type": "code",
   "execution_count": 39,
   "metadata": {},
   "outputs": [],
   "source": [
    "for i in range(len(T_reactor)):\n",
    "    H_methane.append((A_m*(t[i]) + (B_m*t[i]**2)/2+ (C_m*t[i]**3)/3) + ((D_m*t[i]**4)/4)-(E_m/t[i])+ F_m-H_m)\n",
    "    H_methane_si_perkg.append(H_methane[i]/0.016)\n",
    "    H_methane_total.append((H_methane_si_perkg[i]*met_feed_rate_kg_hr[i])/3600)\n",
    "    H_methane_tls.append(H_methane_total[i]/steel_per_hr)"
   ]
  },
  {
   "cell_type": "code",
   "execution_count": 40,
   "metadata": {},
   "outputs": [
    {
     "data": {
      "text/plain": [
       "Text(0, 0.5, 'Enthalpy of methane in KWh/tls')"
      ]
     },
     "execution_count": 40,
     "metadata": {},
     "output_type": "execute_result"
    },
    {
     "data": {
      "image/png": "[encoded data removed]",
      "text/plain": [
       "<Figure size 432x288 with 1 Axes>"
      ]
     },
     "metadata": {
      "needs_background": "light"
     },
     "output_type": "display_data"
    }
   ],
   "source": [
    "plt.scatter(T_reactor,H_methane_tls,color='red')\n",
    "plt.xlabel(\"Reactor temperature in C\")\n",
    "plt.ylabel(\"Enthalpy of methane in KWh/tls\")"
   ]
  },
  {
   "cell_type": "markdown",
   "metadata": {},
   "source": [
    "### Reaction enthalpy calculation\n",
    "CH<sub>4</sub>---->>  C+2H<sub>2</sub>"
   ]
  },
  {
   "cell_type": "code",
   "execution_count": 41,
   "metadata": {},
   "outputs": [],
   "source": [
    "H_reac=74.5 #kj/mole\n",
    "H_reac_kg=H_reac/0.016\n",
    "H_reac_total=[]\n",
    "H_reac_tls=[]\n"
   ]
  },
  {
   "cell_type": "code",
   "execution_count": 42,
   "metadata": {},
   "outputs": [],
   "source": [
    "for i in range(len(met_feed_rate_kg_hr)):\n",
    "    H_reac_total.append((met_feed_rate_kg_hr[i]*H_reac_kg*conversion_meth[i])/3600)\n",
    "    H_reac_tls.append(H_reac_total[i]/steel_per_hr)"
   ]
  },
  {
   "cell_type": "markdown",
   "metadata": {},
   "source": [
    "### Total energy requirement per hour "
   ]
  },
  {
   "cell_type": "code",
   "execution_count": 43,
   "metadata": {},
   "outputs": [],
   "source": [
    "H_total_per_hr=[]\n",
    "H_total_per_hr_MWh=[]\n",
    "H_per_ton_steel=[]\n",
    "for i in range(len(T_reactor)):\n",
    "    # 75% of the outgoing energy from the carbon stream is recovered, \n",
    "    # so only 25 % of the outgoing energy\n",
    "    # needs to be supplied.\n",
    "    H_total_per_hr.append(H_reac_total[i]+H_methane_total[i]+H_hydrogen_total[i]+(H_carbon_total[i])*0.25)\n",
    "    H_total_per_hr_MWh.append(H_total_per_hr[i]/1000)\n",
    "    H_per_ton_steel.append(H_total_per_hr_MWh[i]/steel_per_hr)#MWh"
   ]
  },
  {
   "cell_type": "code",
   "execution_count": null,
   "metadata": {},
   "outputs": [],
   "source": []
  },
  {
   "cell_type": "code",
   "execution_count": 44,
   "metadata": {},
   "outputs": [
    {
     "data": {
      "text/plain": [
       "Text(0.5, 0, 'Conversion factor')"
      ]
     },
     "execution_count": 44,
     "metadata": {},
     "output_type": "execute_result"
    },
    {
     "data": {
      "image/png": "[encoded data removed]",
      "text/plain": [
       "<Figure size 864x360 with 1 Axes>"
      ]
     },
     "metadata": {
      "needs_background": "light"
     },
     "output_type": "display_data"
    }
   ],
   "source": [
    "plt.figure(figsize=(12,5))\n",
    "plt.scatter(dia_reac,H_per_ton_steel)\n",
    "plt.ylabel('Energy required per tls in MWh')\n",
    "plt.xlabel('Conversion factor')"
   ]
  },
  {
   "cell_type": "markdown",
   "metadata": {},
   "source": [
    "## Natural gas required for providing  energy to the reactor \n",
    "\n",
    "Some of the natural gas remains unused in the reactor and can be separated and used for providing the heat for the reaction. "
   ]
  },
  {
   "cell_type": "code",
   "execution_count": 45,
   "metadata": {},
   "outputs": [],
   "source": [
    "ng_cal=55000 # Kj/kg\n",
    "ng_req=[]\n",
    "extra_ng_req_tls=[]\n",
    "total_ng_req_tls=[]\n",
    "gas_heater_cost=[]\n",
    "for i in range(len(T_reactor)):\n",
    "    if(heat_source[i]=='FH'):\n",
    "        ng_req.append((H_total_per_hr[i]*3600)/ng_cal)\n",
    "        extra_ng_req_tls.append(ng_req[i]/steel_per_hr)\n",
    "        total_ng_req_tls.append(extra_ng_req_tls[i]+(met_feed_rate_kg_hr[i]/steel_per_hr))\n",
    "        gas_heater_cost.append(1)\n",
    "    else :\n",
    "        extra_ng_req_tls.append(0)\n",
    "        total_ng_req_tls.append(extra_ng_req_tls[i]+(met_feed_rate_kg_hr[i]/steel_per_hr))\n",
    "        gas_heater_cost.append(0)\n",
    "    \n",
    "    "
   ]
  },
  {
   "cell_type": "code",
   "execution_count": 46,
   "metadata": {},
   "outputs": [
    {
     "data": {
      "text/plain": [
       "[567.2062266405063,\n",
       " 570.6720061369626,\n",
       " 574.1860082423966,\n",
       " 536.808014267656,\n",
       " 476.23955742655284,\n",
       " 429.0026478169903,\n",
       " 485.2582105577472,\n",
       " 450.5424109030657,\n",
       " 394.27229607816963,\n",
       " 350.4006811299456]"
      ]
     },
     "execution_count": 46,
     "metadata": {},
     "output_type": "execute_result"
    }
   ],
   "source": [
    "total_ng_req_tls"
   ]
  },
  {
   "cell_type": "markdown",
   "metadata": {},
   "source": [
    "### Electrical energy required for heating the reactor "
   ]
  },
  {
   "cell_type": "code",
   "execution_count": 47,
   "metadata": {},
   "outputs": [],
   "source": [
    "eta_el=0.9\n",
    "el_heat_reac=[]\n",
    "el_heater_cost=[]\n",
    "for i in range(len(H_per_ton_steel)):\n",
    "    if(heat_source[i]=='EH'):\n",
    "        el_heat_reac.append(H_per_ton_steel[i]/eta_el)\n",
    "        # Cost of electric heater has been assumed to be 50 Million\n",
    "        el_heater_cost.append(50)\n",
    "    else:\n",
    "        el_heat_reac.append(0)\n",
    "        el_heater_cost.append(0)"
   ]
  },
  {
   "cell_type": "code",
   "execution_count": null,
   "metadata": {},
   "outputs": [],
   "source": []
  },
  {
   "cell_type": "markdown",
   "metadata": {},
   "source": [
    "## Emission calculations "
   ]
  },
  {
   "cell_type": "code",
   "execution_count": 48,
   "metadata": {},
   "outputs": [],
   "source": [
    "## CO2 emission\n",
    "##The emissions are generated by burning methane in the\n",
    "##gas fired heater and by using electricity from the grid. \n",
    "\n",
    "methane_ems=2.75 # amount of CO2 released by burning 1 kg of CH4\n",
    "reac_ems_meth=[]\n",
    "reac_ems_el=[]\n",
    "grid_emission_factor=0.446 #ton/MWh\n",
    "\"\"\"Institute for Global Environmental Strategies (2020). List of Grid Emission Factors, version 10.8. Available at: https://pub.iges.or.jp/pub/iges-list-grid-emission-factors\n",
    "All copyrights are reserved. The source must be clearly stated when this database is reproduced or transmitted in any form or by any means.\n",
    "\n",
    "Value for Germany taken from : https://www.carbonfootprint.com/docs/2018_8_electricity_factors_august_2018_-_online_sources.pdf\"\"\"\n",
    "for i in range(len(el_heat_reac)):\n",
    "    reac_ems_meth.append((extra_ng_req_tls[i]*methane_ems)/1000)\n",
    "    reac_ems_el.append(el_heat_reac[i]*grid_emission_factor)\n",
    "\n",
    "\n",
    "\n",
    "\n",
    "\n",
    "\n"
   ]
  },
  {
   "cell_type": "code",
   "execution_count": 49,
   "metadata": {},
   "outputs": [],
   "source": [
    "#df=df_reactor_con.transpose()\n"
   ]
  },
  {
   "cell_type": "code",
   "execution_count": 50,
   "metadata": {},
   "outputs": [],
   "source": [
    "#print(df.to_latex(index=True)) "
   ]
  },
  {
   "cell_type": "code",
   "execution_count": 51,
   "metadata": {},
   "outputs": [
    {
     "data": {
      "text/plain": [
       "'\"\"## Heat required to raise the temperature of tin to 1200 C/1473 K\\nThis energy is not cyclic requirement, as the molten steel does not change its state. \\n\\nHeat_tin=[]\\nfor i in range(len(weight_tin)):\\n    Heat_tin.append((H_tin[i]*weight_tin[i]*2)/3600000)\\n#cosnidering 10 heating cycles of the metal\\n\\nplt.scatter(dia_reac,Heat_tin)#MWh'"
      ]
     },
     "execution_count": 51,
     "metadata": {},
     "output_type": "execute_result"
    }
   ],
   "source": [
    "\"\"\"\"\"## Heat required to raise the temperature of tin to 1200 C/1473 K\n",
    "This energy is not cyclic requirement, as the molten steel does not change its state. \n",
    "\n",
    "Heat_tin=[]\n",
    "for i in range(len(weight_tin)):\n",
    "    Heat_tin.append((H_tin[i]*weight_tin[i]*2)/3600000)\n",
    "#cosnidering 10 heating cycles of the metal\n",
    "\n",
    "plt.scatter(dia_reac,Heat_tin)#MWh\"\"\""
   ]
  },
  {
   "cell_type": "markdown",
   "metadata": {},
   "source": [
    "## HDRI-EAF calculations "
   ]
  },
  {
   "cell_type": "markdown",
   "metadata": {},
   "source": [
    "Mass and energy balance model of the HDRI-EAF system coupled with an electrolyser has been developed in this work. All the calculations are based on steady state conditions. Enthalpy values have been calculated from NIST data. All the relevant calculations are presented in the Github repository https://github.com/abhinavbhaskar/directreducediron\n",
    "Some of the important assumptions made for the model are listed below :\n",
    "\n",
    "  \n",
    "1. All calculations are done for the production of 1 ton of liquid steel from the system.\n",
    "2. 5% impurities are present in the raw materials. The assumption is consistent with the plant data available in the literature.Primary components of the impurities are silica and alumina.\n",
    "3. The iron ore pellets are heated from ambient temperature to 800 C,through an electrical heater of efficiency, $\\eta_{thermal}=0.85$.\n",
    "4. Output from the shaft furnace would be metallic Fe and FeO. Remaining FeO will be reduced to pure iron in the electric arc furnace. Although, in practice some amount of FeO does not get reduced and becomes a part of the EAF slag.\n",
    "5. The flow rate of hydrogen is considered to be higher than the stoichiometric requirements.\n",
    "6. Apparent activation energy of 35 kJ/mol has been considered in the model. \n",
    "7. Hydrogen produced from electrolysers are heated in an electrical heater with an efficiency of $\\eta_{thermal}=0.6$.\n",
    "\n",
    "8. DRI stream exiting the shaft furnace is considered to be at a temperature of  800C.\n",
    "9. The exhaust gas stream is assumed to be composed of hydrogen and water.The waste stream enthalpy varies with exhaust gas temperature and $\\lambda_{h{2}}$.\n",
    "10. Energy required to separate hydrogen and water from the waste stream is not considered in the present calculations.\n",
    "11. 100\\% DRI is fed into the furnace without any scrap. The quality of scrap has a significant effect on the energy consumption in a DRI. \n",
    "12. Hot DRI is fed into the DRI at 700 \\textdegree C as it saves considerable amount of electrical energy in the EAF.\n",
    "13. Natural gas is not used for heating the material as its the general practice to use natural gas with scrap for initial heating.\n",
    "14. As DRI is reduced only with Hydrogen, it is assumed that it does not contain any ferric carbide. Carbon required for reduction of remaining FeO in the EAF is supplied externally as coal or coke. \n",
    "15. Temperature of the DRI being fed into the EAF is not taken into account into empirical energy models (Pfeifer2003). Thermodynamic modelling of the EAF has been done to get the specific energy consumption of the EAF with 100% DRI. \n",
    "16. Carbon is added into the EAF to reduce the remaining FeO in the mix and also to generate CO for froth formation,which is essential for the operation of the EAF and to extend the life of the graphite electrodes and the refractory.\n",
    "17. CaO and MgO are added in the EAF as slag formers to maintain the basicity of the EAF.The weight of CaO and MgO used are according to data published in the literature (Dilmac2015).\n",
    "18. Efficiency parameters used in the EAF model for electrical and chemical energy are according to the reference \n",
    "\n",
    "\n",
    "# Mass and energy balance for a direct reduction shaft furnace \n",
    "\n",
    "Iron ore pellets containing upto 5% impurities eneter the direct shaft furnace after being heated to the reaction temperature of $800 C $ by electrical heaters.\n",
    "\n",
    "${M_{Fe_{2}O_{3}}=\\frac{1}{({Fe_{2}O_{3}}_{pure}*FeO_{ratio}*alpha)}}$ <br />\n",
    "Where, <br />\n",
    "$M_{Fe_{2}O_{3}}$= Mass flow rate of iron ore for production of 1 ton of liquid steel in kg/tls<br />\n",
    "${Fe_{2}O_{3}}_{pure}$=Percentage of pure iron ore in the iron ore stream (assumed to be 0.95)<br />\n",
    "$FeO_{ratio}$=Ratio of molecular weight of iron contained in iron oxide (0.7) <br />\n"
   ]
  },
  {
   "cell_type": "markdown",
   "metadata": {},
   "source": [
    "Mass flow rate of iron ore into the shaft : m1 <br />\n",
    "Mass flow rate of Silica into the shaft : m1_sio2   <br /> \n",
    "Mass flow rate of Alumina into the shaft : m1_al2o3: <br />\n",
    "Mass flow rate of Wustite from the DRI shaft furnace to the EAF :m4_feo <br />"
   ]
  },
  {
   "cell_type": "code",
   "execution_count": 52,
   "metadata": {},
   "outputs": [
    {
     "name": "stdout",
     "output_type": "stream",
     "text": [
      "FeO percentage : 0.06382978723404262\n",
      "Mass of iron ore fed to the shaft furnace in ton/tls: 1.5997440409534478\n",
      "Mass of wustite  DRI_EAF processin ton/tls: 0.06382978723404262\n",
      "Mass of SiO2 in ton/tls 0.04799232122860343\n",
      "Mass of Al2O3 0.031994880819068955\n"
     ]
    }
   ],
   "source": [
    "# Metallization rates considered for the DRI reduction shaft furnace\n",
    "alpha=0.94 \n",
    "# Percentage of hematite in the raw material. \n",
    "fe2O3_pure=0.95 \n",
    "# percentage of iron in one mole of iron ore \n",
    "Fe_O_ratio=(112/160)\n",
    "# Tons of steel produced in the DRI-EAF system\n",
    "m6=1\n",
    "# Weight of total iron ore fed to the DRI-EAF system\n",
    "m1=m6/(fe2O3_pure*Fe_O_ratio*alpha)\n",
    "# Depends on the slag content , metallization rate \n",
    "m4_feo=(m1*fe2O3_pure*(1-alpha)*Fe_O_ratio) \n",
    "print(\"FeO percentage :\",m4_feo)\n",
    "# Percentage of silica in the ore pellets\n",
    "SIO2_per=3 \n",
    "#Percentage of alumina in the ore pellets\n",
    "Al2O3_per=2 \n",
    "m1_sio2=(m1*SIO2_per)/100 # SiO2 weight in ton\n",
    "m1_al2o3=(m1*Al2O3_per)/100 # weight in ton\n",
    "print(\"Mass of iron ore fed to the shaft furnace in ton/tls:\",m1)\n",
    "print(\"Mass of wustite  DRI_EAF processin ton/tls:\",m4_feo)\n",
    "print(\"Mass of SiO2 in ton/tls\",m1_sio2)\n",
    "print(\"Mass of Al2O3\",m1_al2o3)"
   ]
  },
  {
   "cell_type": "code",
   "execution_count": 53,
   "metadata": {},
   "outputs": [
    {
     "data": {
      "text/plain": [
       "[68.32405097302126,\n",
       " 85.6902140571779,\n",
       " 103.17965893140834,\n",
       " 103.17965893140834,\n",
       " 103.17965893140834,\n",
       " 103.17965893140834,\n",
       " 138.52811210074373,\n",
       " 138.52811210074373,\n",
       " 138.52811210074373,\n",
       " 138.52811210074373]"
      ]
     },
     "execution_count": 53,
     "metadata": {},
     "output_type": "execute_result"
    }
   ],
   "source": [
    "T_dri_shaft=1073 # 800C \n",
    "def H2_enthalpy_1(T):\n",
    "    t=T/1000\n",
    "    mol_wt_h2=0.002 #kg/mol\n",
    "    A=33.066718\n",
    "    B=-11.363417\n",
    "    C=11.432816\n",
    "    D=-2.772874\n",
    "    E=-0.158558\n",
    "    F=-9.980797\n",
    "    G=172.707974\n",
    "    H=0\n",
    "    H_t=(A*t +(B*t*t)/2 +(C*t*t*t)/3 + (D*t*t*t*t)/4-(E/t)+F-H)/mol_wt_h2\n",
    "    return H_t\n",
    "H2_en_per_kg=[]\n",
    "H2_en_per_tls=[]\n",
    "for i in range(len(T_reactor)):\n",
    "    t_r=(T_reactor[i]+273.15)\n",
    "    #print(t_r)#Bubble column reactor temperature\n",
    "    H2_en_per_kg.append(H2_enthalpy_1(t_r)-H2_enthalpy_1(T_dri_shaft))\n",
    "    H2_en_per_tls.append((H2_en_per_kg[i]*h2_per_ton_actual)/3600)\n",
    "#Amount of heat available in hydrogen stream for heating the pellets\n",
    "#H_pellet_heating=(H_hydrogen_si_perkg[i]-(H2_en_per_mol/0.002))#kj/kg\n",
    "#H_pellet_heating_total=((H_pellet_heating*h2_prod_hr)/3600)\n",
    "#H_pellet_heating_total\n",
    "\n",
    "H2_en_per_tls"
   ]
  },
  {
   "cell_type": "markdown",
   "metadata": {},
   "source": [
    "### Heat required to heat the pellets \n",
    "The raw materials (ore and impurities) are both heated from ambient temperature to 900 C, which is the reaction temperature.The heat is provided through electrical heaters at an electrical efficiency of 0.85. The input temperature of the pellets is considered to be 298 K and the exit temperature to be 1073 K."
   ]
  },
  {
   "cell_type": "code",
   "execution_count": 54,
   "metadata": {},
   "outputs": [],
   "source": [
    "T1=298 # K Inlet temperature\n",
    "\n",
    "# Enthalpy calculations for the different raw materials fed to the shaft furnace.\n",
    "m2=m1\n",
    "# T1 and T2 should be in the range of 298-950 K \n",
    "def fe2o3_enthalpy_1(T):\n",
    "    t=T/1000\n",
    "    A=93.43834\n",
    "    B=108.3577\n",
    "    C=-50.86447\n",
    "    D=25.58683\n",
    "    E=-1.611330\n",
    "    F=-863.2094   \n",
    "    G=161.0719\n",
    "    H=-825.5032 \n",
    "    H_t=A*t +(B*t*t)/2 +(C*t*t*t)/3 + (D*t*t*t*t)/4-(E/t)+F-H\n",
    "    return H_t\n",
    "# T1 and T2 should be in the range of 1050-2500 K \n",
    "def fe2o3_enthalpy_2(T):\n",
    "    t=T/1000\n",
    "    A=150.6240\n",
    "    B=0\n",
    "    C=0\n",
    "    D=0\n",
    "    E=0\n",
    "    F=-875.6066\n",
    "    G=252.8814\n",
    "    H=-825.5032\n",
    "    H_t=A*t +(B*t*t)/2 +(C*t*t*t)/3 + (D*t*t*t*t)/4-(E/t)+F-H\n",
    "    return H_t\n",
    "def fe2o3_enthalpy_3(T):# T1 and T2 should be in the range of 1050-2500 K \n",
    "    t=T/1000\n",
    "    A=110.9362\n",
    "    B=32.04714\n",
    "    C=-9.192333\n",
    "    D=0.901506\n",
    "    E=5.433677\n",
    "    F=-843.1471\n",
    "    G=228.3548\n",
    "    H=-825.5032\n",
    "    H_t=A*t +(B*t*t)/2 +(C*t*t*t)/3 + (D*t*t*t*t)/4-(E/t)+F-H\n",
    "    return H_t\n",
    "\"\"\"Enthalpy data for sio2/quartz : https://webbook.nist.gov/cgi/cbook.cgi?ID=C14808607&Mask=2\"\"\"\n",
    "def sio2_enthalpy(T):\n",
    "    t=T/1000\n",
    "    A=58.75\n",
    "    B=10.279\n",
    "    C=-0.131384\n",
    "    D=0.025210\n",
    "    E=0.025601\n",
    "    F=-929.3292\n",
    "    G=105.8092\n",
    "    H=-910.8568   \n",
    "    H_t=A*t +(B*t*t)/2 +(C*t*t*t)/3 + (D*t*t*t*t)/4-(E/t)+F-H\n",
    "    return H_t\n",
    "\n",
    "\"\"\"Reference : https://webbook.nist.gov/cgi/cbook.cgi?ID=C1344281&Mask=2\"\"\"\n",
    "def Al2O3_enthalpy(T):\n",
    "    t=T/1000\n",
    "    A=106.0880\n",
    "    B=36.33740\n",
    "    C=-13.86730\n",
    "    D=2.141221\n",
    "    E=-3.133231\n",
    "    F=-1705.970\n",
    "    G=153.9350\n",
    "    H=-1662.300  \n",
    "    H_t=A*t +(B*t*t)/2 +(C*t*t*t)/3 + (D*t*t*t*t)/4-(E/t)+F-H\n",
    "    return H_t\n",
    "\n"
   ]
  },
  {
   "cell_type": "code",
   "execution_count": 55,
   "metadata": {},
   "outputs": [],
   "source": [
    " # K outlet temperature\n",
    "def pellet_heating(T2):\n",
    "    if T2 in range(298,951):\n",
    "        h2=fe2o3_enthalpy_1(T2)-fe2o3_enthalpy_1(T1)\n",
    "    elif T2 in range(951,1051):\n",
    "        h2=fe2o3_enthalpy_2(T2)-fe2o3_enthalpy_1(T1)\n",
    "    elif T2 in range(1051,2501):\n",
    "        h2=fe2o3_enthalpy_3(T2)-fe2o3_enthalpy_1(T1)\n",
    "    mol_per_ton_Fe2o3=1000000/mol_weight_fe2o3 # 1 ton= 10^6 grams \n",
    "    h2_ton=h2*mol_per_ton_Fe2o3\n",
    "    H2=((h2_ton))*m2 # Energy consumption in KJ\n",
    "    #print(\"Enthalpy of Iron ore in KJ/kg :\",h2_ton/1000)\n",
    "    #print(\" Enthalpy of iron ore in kJ :\",H2) \n",
    "    h1_sio2=sio2_enthalpy(T1) \n",
    "    h2_sio2=sio2_enthalpy(T2) \n",
    "    En_per_mol_sio2=h2_sio2-h1_sio2\n",
    "    #print(\"Energy per mol\",En_per_mol)\n",
    "    # 1 ton= 10^6 grams\n",
    "    mol_per_ton_sio2=1000000/mol_weight_Sio2 \n",
    "    #Energy per ton of SiO2 multiplied by the weight of sio2 \n",
    "    En_sio2=(En_per_mol_sio2*mol_per_ton_sio2)*m1_sio2 \n",
    "    H2_sio2=En_sio2 \n",
    "    #print(\"Enthalpy of sio2 in KJ :\",H2_sio2)\n",
    "    h1_al2o3=Al2O3_enthalpy(T1)\n",
    "    h2_al2o3=Al2O3_enthalpy(T2) \n",
    "    En_per_mol_al2o3=h2_al2o3-h1_al2o3\n",
    "    #print(\"Energy per mole al2o3\",En_per_mol_al2o3)\n",
    "    mol_per_ton_al2o3=1000000/mol_weight_al2o3 # 1 ton= 10^6 grams \n",
    "    # Energy per ton of Al2O3 multiplied by the weight of Al2O3\n",
    "    En_al2o3=En_per_mol_al2o3*mol_per_ton_al2o3*m1_al2o3 \n",
    "    H2_al2o3=En_al2o3\n",
    "    #print(\"Energy to heat aluminium oxide:\",H2_al2o3) #In Kj/ton\n",
    "    pellet_heating=(H2+H2_sio2+H2_al2o3)# In KJ\n",
    "    pellet_heating_KWh=pellet_heating/3600\n",
    "    return(pellet_heating_KWh)\n"
   ]
  },
  {
   "cell_type": "markdown",
   "metadata": {},
   "source": [
    "### Calculate the pellet temperature from pre-heating with hydrogen stream"
   ]
  },
  {
   "cell_type": "code",
   "execution_count": 56,
   "metadata": {},
   "outputs": [
    {
     "data": {
      "text/plain": [
       "[492, 536, 579, 579, 579, 579, 663, 663, 663, 663]"
      ]
     },
     "execution_count": 56,
     "metadata": {},
     "output_type": "execute_result"
    }
   ],
   "source": [
    "T_pellet=[] # Temperature of pellets after pre-heating\n",
    "for i in range(len(T_reactor)):\n",
    "    for j in range(298,1073):\n",
    "        T2=j\n",
    "        p=pellet_heating(T2)\n",
    "        q=H2_en_per_tls[i]\n",
    "        if(p>=q):\n",
    "            T_pellet.append(T2)\n",
    "            break\n",
    "T_pellet\n"
   ]
  },
  {
   "cell_type": "markdown",
   "metadata": {},
   "source": [
    "### Additional heat required in the reactor for pellet heating"
   ]
  },
  {
   "cell_type": "markdown",
   "metadata": {},
   "source": [
    "![title](DRI_energy_balance.jpg)"
   ]
  },
  {
   "cell_type": "markdown",
   "metadata": {},
   "source": [
    "## Input energy streams"
   ]
  },
  {
   "cell_type": "code",
   "execution_count": 57,
   "metadata": {},
   "outputs": [],
   "source": [
    "T5=523 # Temperature of the hydrogen and water stream exiting the shaft furnace in K\n",
    "H2_dri_kg=[]\n",
    "H2_dri_tls=[]\n",
    "for i in range(len(T_reactor)):\n",
    "    t_s=(T_pellet[i])\n",
    "    #print(t_r)#Bubble column reactor temperature\n",
    "    H2_dri_kg.append((H2_enthalpy_1(T_dri_shaft)-H2_enthalpy_1(t_s))/3600)\n",
    "    H2_dri_tls.append((H2_en_per_kg[i]*h2_per_ton_actual)/3600)"
   ]
  },
  {
   "cell_type": "markdown",
   "metadata": {},
   "source": [
    "## Energy contained in the pellets + impurities "
   ]
  },
  {
   "cell_type": "code",
   "execution_count": 58,
   "metadata": {},
   "outputs": [],
   "source": [
    "def pellet_input_energy(T):#per tls\n",
    "    if T2 in range(298,951):\n",
    "        h2_en=fe2o3_enthalpy_1(T)\n",
    "    elif T2 in range(951,1051):\n",
    "        h2_en=fe2o3_enthalpy_2(T)\n",
    "    elif T2 in range(1051,2501):\n",
    "        h2_en=fe2o3_enthalpy_3(T2)\n",
    "    mol_per_ton_Fe2o3=1000000/mol_weight_fe2o3 # 1 ton= 10^6 grams \n",
    "    h2_ton=h2_en*mol_per_ton_Fe2o3\n",
    "    H2_en=((h2_ton))*m2 # Energy consumption in KJ\n",
    "    #print(\"Enthalpy of Iron ore in KJ/kg :\",h2_ton/1000)\n",
    "    #print(\" Enthalpy of iron ore in kJ :\",H2) \n",
    "    h1_sio2=sio2_enthalpy(T) \n",
    "    \n",
    "    En_per_mol_sio2=h1_sio2\n",
    "    #print(\"Energy per mol\",En_per_mol)\n",
    "    # 1 ton= 10^6 grams\n",
    "    mol_per_ton_sio2=1000000/mol_weight_Sio2 \n",
    "    #Energy per ton of SiO2 multiplied by the weight of sio2 \n",
    "    En_sio2=(En_per_mol_sio2*mol_per_ton_sio2)*m1_sio2 \n",
    "    H2_sio2_en=En_sio2 \n",
    "    #print(\"Enthalpy of sio2 in KJ :\",H2_sio2)\n",
    "    h1_al2o3=Al2O3_enthalpy(T1)\n",
    "    #h2_al2o3=Al2O3_enthalpy(T2) \n",
    "    En_per_mol_al2o3=h1_al2o3\n",
    "    #print(\"Energy per mole al2o3\",En_per_mol_al2o3)\n",
    "    mol_per_ton_al2o3=1000000/mol_weight_al2o3 # 1 ton= 10^6 grams \n",
    "    # Energy per ton of Al2O3 multiplied by the weight of Al2O3\n",
    "    En_al2o3=En_per_mol_al2o3*mol_per_ton_al2o3*m1_al2o3 \n",
    "    H2_al2o3_en=En_al2o3\n",
    "    #print(\"Energy to heat aluminium oxide:\",H2_al2o3) #In Kj/ton\n",
    "    pellet_energy=(H2_en+H2_sio2_en+H2_al2o3_en)# In KJ\n",
    "    pellet_energy_KWh=pellet_energy/3600\n",
    "    return(pellet_energy_KWh)\n",
    "pellet_en_KWh=[]# per tls\n",
    "for i in range(len(T_pellet)):\n",
    "    T=T_pellet[i]\n",
    "    pellet_en_KWh.append(pellet_input_energy(T))#tls\n"
   ]
  },
  {
   "cell_type": "code",
   "execution_count": 59,
   "metadata": {},
   "outputs": [
    {
     "data": {
      "text/plain": [
       "[492, 536, 579, 579, 579, 579, 663, 663, 663, 663]"
      ]
     },
     "execution_count": 59,
     "metadata": {},
     "output_type": "execute_result"
    }
   ],
   "source": [
    "T_pellet"
   ]
  },
  {
   "cell_type": "markdown",
   "metadata": {},
   "source": [
    "## Calulation of energy streams exiting the shaft furnace"
   ]
  },
  {
   "cell_type": "markdown",
   "metadata": {},
   "source": [
    "### Mass flow rate of waste gases from the shaft furnace "
   ]
  },
  {
   "cell_type": "markdown",
   "metadata": {},
   "source": [
    "It is assumed that the waste gas stream is a mixture of unreacted hydrogen and water/steam produced from the reduction reaction. Amount of water produced would depend on the metallization rate. For ease of calculations, it is assumed that metallization is complete. Amount of unused hydrogen in the waste stream depends on the amount of hydrogen entering the shaft furnace or lambda_h2. Hydrogen is assumed to enter the shaft furnace at 800 C.\n"
   ]
  },
  {
   "cell_type": "code",
   "execution_count": 60,
   "metadata": {},
   "outputs": [
    {
     "name": "stdout",
     "output_type": "stream",
     "text": [
      "Amount of water in the waste stream per ton of steel production in kg/tls 483.89202256244965\n",
      "Amount of hydrogen in the waste stream per ton of steel production in kg/tls 33.083606768734896 483.89202256244965\n"
     ]
    }
   ],
   "source": [
    "# Mass flow rate of water in the waste stream per ton of steel production\n",
    "\n",
    "water_tls=((3*mol_weight_H2O)/(2*mol_weight_fe))*1000\n",
    "print(\"Amount of water in the waste stream per ton of steel production in kg/tls\",water_tls)\n",
    "## Calculation of the hydrogen in the waste stream \n",
    "m5_h2=(m3*(lambda_h2-1)) #Kg/tls\n",
    "m5_h2o=(water_tls)\n",
    "# The value varies with input flow rate of hydrogen inside the shaft furnace\n",
    "print(\"Amount of hydrogen in the waste stream per ton of steel production in kg/tls\",m5_h2,m5_h2o)\n"
   ]
  },
  {
   "cell_type": "markdown",
   "metadata": {},
   "source": [
    "### Energy contained in the DRI exhaust"
   ]
  },
  {
   "cell_type": "markdown",
   "metadata": {},
   "source": [
    "Temperature of the waste gas stream could vary according to the input temperature and flow rate of the hydrogen stream.Plant data from Syngas based DRI shaft furnace show that the temperature could vary from 275 C to 400 C.Higher temperatures are witnessed when the content of CO in the Syngas is higher.The reduction reaction between heamtite and CO is exothermic.On the other hand , hydrogen reduction of hematite is endothermic. We have assumed a temperature of 250 C for the calculation of energy content in the waste gas stream."
   ]
  },
  {
   "cell_type": "markdown",
   "metadata": {},
   "source": [
    "### Energy contained in water stream"
   ]
  },
  {
   "cell_type": "code",
   "execution_count": 61,
   "metadata": {},
   "outputs": [],
   "source": [
    "# Reference :https://webbook.nist.gov/cgi/cbook.cgi?ID=C7732185&Mask=1\n",
    "\n",
    "def H2O_enthalpy(T):\n",
    "    t=T/1000\n",
    "    A=30.09200\n",
    "    B=6.832514\n",
    "    C=6.793435\n",
    "    D=-2.534480\n",
    "    E=0.082139\n",
    "    F=-250.8810\n",
    "    G=223.3967\n",
    "    H=-241.8264\n",
    "    H_t=A*t +(B*t*t)/2 +(C*t*t*t)/3 + (D*t*t*t*t)/4-(E/t)+F-H\n",
    "    return H_t\n",
    "H2O_en_per_mol=H2O_enthalpy(T5)\n",
    "mol_per_kg_H2O=1000/mol_weight_H2O # Number of moles in one kg\n",
    "h5_h2o=(mol_per_kg_H2O)*(H2O_en_per_mol)\n",
    "\n",
    "#print(\"Enthalpy per Kg of Water in kJ/kg at T5:\",h5_h2o)\n",
    "# Multiplying the specific enthalpy with mass flow rate \n",
    "H5_h2o=m5_h2o*h5_h2o\n",
    "\n",
    "#print(\"Enthalpy in water stream per Kg of steel in kJ:\",H5_h2o)"
   ]
  },
  {
   "cell_type": "markdown",
   "metadata": {},
   "source": [
    "### Energy in the hydrogen from the DRI exhaust stream"
   ]
  },
  {
   "cell_type": "code",
   "execution_count": 62,
   "metadata": {},
   "outputs": [],
   "source": [
    "def H2_enthalpy_2(T):# T1 and T2 should be in the range of 298-1000 K \n",
    "    t=T/1000\n",
    "    A=33.066718\n",
    "    B=-11.363417\n",
    "    C=11.432816\n",
    "    D=-2.772874\n",
    "    E=-0.158558\n",
    "    F=-9.980797\n",
    "    G=172.707974\n",
    "    H=0\n",
    "    H_t=A*t +(B*t*t)/2 +(C*t*t*t)/3 + (D*t*t*t*t)/4-(E/t)+F-H\n",
    "    return H_t\n",
    "H2_en_per_mol=H2_enthalpy_2(T5)     \n",
    "#mol_per_kg_H2=(1000/mol_weight_H2) # Number of moles in one kg \n",
    "h5_h2=((1000/mol_weight_H2)*H2_en_per_mol)\n",
    "H5_h2=(h5_h2*(m5_h2))\n",
    "\n"
   ]
  },
  {
   "cell_type": "markdown",
   "metadata": {},
   "source": [
    "### Total energy content of the DRI waste stream"
   ]
  },
  {
   "cell_type": "code",
   "execution_count": 63,
   "metadata": {},
   "outputs": [
    {
     "name": "stdout",
     "output_type": "stream",
     "text": [
      "Energy contained in the waste stream in kJ 315413.31130831526\n",
      "Energy contained in the waste stream in KWh 87.61480869675424\n"
     ]
    }
   ],
   "source": [
    "H5=((H5_h2+H5_h2o))\n",
    "print(\"Energy contained in the waste stream in kJ\",H5)\n",
    "\n",
    "H5_KWh=(H5/3600)\n",
    "print(\"Energy contained in the waste stream in KWh\",H5_KWh )"
   ]
  },
  {
   "cell_type": "markdown",
   "metadata": {},
   "source": [
    "## Reaction enthalpy calculation\n",
    "The reaction enthalpy has been taken as 99.5 kJ/mol based on stoichiometric calculations.Activation enethalpy has not been considered in these calculations."
   ]
  },
  {
   "cell_type": "code",
   "execution_count": 64,
   "metadata": {},
   "outputs": [],
   "source": [
    "h_activation=35 # kJ/mol activation enthalpy\n",
    "h_endothermic=99.5 # reaction enthalpy kJ/mol\n",
    "#Adding the activation enthalpy to the reaction enthalpy\n",
    "# value in kJ/mol\n",
    "h_reaction=h_activation+h_endothermic\n",
    "# Amount of heat to be supplied in kJ for production of 1 ton of molten steel\n",
    "h_reac=((h_reaction*m1*fe2O3_pure*alpha*1000000)/mol_weight_fe2o3)/3600\n",
    "#print(\"Reaction enthalpy in kJ/ton of liquid steel:\",h_reac) \n",
    "#print(\"Reaction enthalpy in KWh/ton of liquid steel:\",h_reac/3600) "
   ]
  },
  {
   "cell_type": "markdown",
   "metadata": {},
   "source": [
    "## Energy contained in the solid stream exiting the DRI\n",
    "It is assumed that the solid stream is a mixture of iron, iron oxide and impurities such as silica and alumina. The solid stream exits the reactor at a temperature of 700 C."
   ]
  },
  {
   "cell_type": "code",
   "execution_count": 65,
   "metadata": {},
   "outputs": [
    {
     "data": {
      "text/plain": [
       "107.49889585989698"
      ]
     },
     "execution_count": 65,
     "metadata": {},
     "output_type": "execute_result"
    }
   ],
   "source": [
    "# The constants are used for a temperature range of 298-1650 K \n",
    "# Exit temperature of the FeO stream contained in the solid stream exiting the reactor\n",
    "\n",
    "T4=973 \n",
    "\n",
    "def feo_enthalpy(T):\n",
    "    t=T/1000\n",
    "    A=45.75120\n",
    "    B=18.78553\n",
    "    C=-5.952201\n",
    "    D=0.852779\n",
    "    E=-0.081265\n",
    "    F=-286.7429\n",
    "    G=110.3120\n",
    "    H=-272.0441\n",
    "    H_t=A*t +(B*t*t)/2 +(C*t*t*t)/3 + (D*t*t*t*t)/4-(E/t)+F-H\n",
    "    return H_t\n",
    "h4_feo_mol=(feo_enthalpy(T4)) \n",
    "mol_per_ton_feo=1000000/mol_weight_feo# 1 ton= 10^6 grams\n",
    "\n",
    "h4_feo_ton=(h4_feo_mol*mol_per_ton_feo) \n",
    "\n",
    "H4_feo=(h4_feo_ton*m4_feo)\n",
    "def fe_enthalpy(T):\n",
    "    t=T/1000\n",
    "    A=23.97449\n",
    "    B=8.367750\n",
    "    C=0.000277\n",
    "    D=-0.000088\n",
    "    E=-0.000005\n",
    "    F=0.268027\n",
    "    G=62.06336\n",
    "    H=7.788015    \n",
    "    H_t=A*t +(B*t*t)/2 +(C*t*t*t)/3 + (D*t*t*t*t)/4-(E/t)+F-H\n",
    "    return H_t\n",
    "\n",
    "h4_fe_mol=(fe_enthalpy(T4))# Enthalpy of direct reduced iron at the output of the reactor\n",
    "mol_per_ton_fe=1000000/mol_weight_fe # 1 ton= 10^6 grams\n",
    "m4_fe=m1*fe2O3_pure*alpha*Fe_O_ratio\n",
    "m4=m4_fe+m4_feo\n",
    "H4_fe=(h4_fe_mol*mol_per_ton_fe*m4_fe)\n",
    "H4=((H4_fe+H4_feo)/3600)\n",
    "\n",
    "\n",
    "#print(\"Total energy in the outgoing metallic stream in KWh\",H4,m4)\n",
    "\n",
    "        #print(\"Temperature\",T_dri_exit[j])\n",
    "        #print(\"alpha\",alpha[i])\n",
    "#print(\"Energy per mole feo :\",En_per_mol_feo)\n",
    "#print(\"Energy per ton feo :\",En_per_ton_feo)\n",
    "#print(\"Energy contained in the feo stream exiting the reactor\",En_feo) #In Kj/tls\n",
    "H4"
   ]
  },
  {
   "cell_type": "markdown",
   "metadata": {},
   "source": [
    "## Shaft furnace energy balance"
   ]
  },
  {
   "cell_type": "code",
   "execution_count": 66,
   "metadata": {},
   "outputs": [],
   "source": [
    "Q_shaft_tls=[]\n",
    "for i in range(len(T_reactor)):\n",
    "    Q_shaft_tls.append((H4+h_reac+H5_KWh)-(H2_dri_tls[i]+pellet_en_KWh[i]))"
   ]
  },
  {
   "cell_type": "code",
   "execution_count": 67,
   "metadata": {},
   "outputs": [
    {
     "name": "stdout",
     "output_type": "stream",
     "text": [
      "Extra energy required in shaft furnace per tls in KWh [394.41498779881937, 360.1311728302422, 325.5994834004007, 325.5994834004007, 325.5994834004007, 325.5994834004007, 255.60054331407116, 255.60054331407116, 255.60054331407116, 255.60054331407116]\n"
     ]
    }
   ],
   "source": [
    "print(\"Extra energy required in shaft furnace per tls in KWh\",Q_shaft_tls)"
   ]
  },
  {
   "cell_type": "markdown",
   "metadata": {},
   "source": [
    "## Amount of electricity required for supplying the energy to the shaft furnace"
   ]
  },
  {
   "cell_type": "code",
   "execution_count": 68,
   "metadata": {},
   "outputs": [],
   "source": [
    "dri_elec=[]\n",
    "eta_el_dri=0.9\n",
    "for i in range(len(Q_shaft_tls)):\n",
    "    dri_elec.append(Q_shaft_tls[i]/eta_el_dri)"
   ]
  },
  {
   "cell_type": "code",
   "execution_count": null,
   "metadata": {},
   "outputs": [],
   "source": []
  },
  {
   "cell_type": "code",
   "execution_count": null,
   "metadata": {},
   "outputs": [],
   "source": []
  },
  {
   "cell_type": "markdown",
   "metadata": {},
   "source": [
    "## EAF\n",
    "Electric energy is required to melt the incoming iron stream or DRI from the shaft furnace. Carbon is used to reduce the remaining FeO in the iron stream. It is an exothermic reaction and produces heat. It is assumed that the incoming DRI is at a temperature of 700 C. This reduces the electricity required to melt the DRI. Apart from the heat supplied to the molten metal, the impurities get heated up and consume significant amount of electricity. The different equations and the modelling concept for the EAF is explained through the equations below :\n",
    "\n",
    "The modelling work is baseed on the  https://www.sciencedirect.com/science/article/pii/S036054421100524X. <br/>\n",
    "**_EAF energy balance  - Equation 1_**<br/>\n"
   ]
  },
  {
   "cell_type": "code",
   "execution_count": 69,
   "metadata": {},
   "outputs": [],
   "source": [
    "## input and tap temperatures\n",
    "T4=973# # Temperature input to the EAF \n",
    "T6=1923 # Tap temperature of the molten steel 1650 C"
   ]
  },
  {
   "cell_type": "markdown",
   "metadata": {},
   "source": [
    "### Amount of carbon added  kg/tls"
   ]
  },
  {
   "cell_type": "code",
   "execution_count": 70,
   "metadata": {},
   "outputs": [
    {
     "data": {
      "text/plain": [
       "'print(\"Weight of metallic iron\",m4_fe) #in ton\\nprint(\"Weight of iron oxide\",m4_feo) # in ton\\nprint(\"Weight of Al2O3\",m1_al2o3)# in ton\\nprint(\"Weight of SiO2\",m1_sio2)# in ton\\nprint(\"Weight of carbon/tls\",m10)\\nprint(\"Weight of CaO /tls\",m11_cao)# in kg\\nprint(\"Weight of MgO /tls\",m11_mgo)# in kg'"
      ]
     },
     "execution_count": 70,
     "metadata": {},
     "output_type": "execute_result"
    }
   ],
   "source": [
    "\n",
    "m10=10\n",
    "m11=50\n",
    "m11_cao=0.75*m11\n",
    "m11_mgo=0.25*m11\n",
    "# Weight of carbon in Kg added per ton for reduction of remaining FeO and\n",
    "#production of carbon monoxide in the EAF for froth making which is essential for the smooth functioning of then EAF\n",
    "\"\"\"print(\"Weight of metallic iron\",m4_fe) #in ton\n",
    "print(\"Weight of iron oxide\",m4_feo) # in ton\n",
    "print(\"Weight of Al2O3\",m1_al2o3)# in ton\n",
    "print(\"Weight of SiO2\",m1_sio2)# in ton\n",
    "print(\"Weight of carbon/tls\",m10)\n",
    "print(\"Weight of CaO /tls\",m11_cao)# in kg\n",
    "print(\"Weight of MgO /tls\",m11_mgo)# in kg\"\"\""
   ]
  },
  {
   "cell_type": "markdown",
   "metadata": {},
   "source": [
    "## Exothermic reactions in the EAF\n",
    "\n",
    "If trace amounts of Si, Al, P, Mn are present in the ore, they get oxidized inside the electric arc furnace, producing heat and help in advancing the reaction. In this model we have considered the percentage of these elements to be negligible. However, we have considered only sio2 and al2o3 and no free metals in our analysis. In practice, these metals are added to the EAF for making alloyed steel with specific properties. We have however, included the codes so that these can be analyzed in the future.Mass percentages have been assumed randomly at this stage. Enthalpy values have been taken as KWh/kg of the primary reactant. "
   ]
  },
  {
   "cell_type": "code",
   "execution_count": 71,
   "metadata": {},
   "outputs": [
    {
     "data": {
      "text/plain": [
       "0.18921772516397378"
      ]
     },
     "execution_count": 71,
     "metadata": {},
     "output_type": "execute_result"
    }
   ],
   "source": [
    "reactions_EAF={\n",
    "  'Reactants':[\"Si\",\"Mn\",\"Cr\",\"Fe\",\"C\",\"Al\",\"MO\",\"S\",\"P\"],\n",
    "  'Atomic weight':[28.085,54.93,51.996,55.847,12,26.9815,95.94,32.06,30.9738],\n",
    "  'Products': [\"SiO2\",\"MnO\",\"Cr2O3\",\"FeO\",\"CO\",\"Al2O3\",\"MOO2\",\"SO2\",\"P2O5\"],\n",
    "  'Enthalpy':[ 8.94,1.93,3.05,1.32,2.55,5.29,1.70,2.75,5.54],\n",
    "'Percentage':[(0.5),0.1,0.3,0.1,0.6,0.3,0.3,0.1,0.4],\n",
    "    'Weight':[((0.5)/100*m1),((0.1)/100*m1),((0.3)/100*m1),((0.1)/100*m1),((0.6)/100*m1),((0.3)/100*m1),((0.3)/100*m1),((0.1)/100*m1),((0.4)/100*m1)]\n",
    "}\n",
    "df=pd.DataFrame.from_dict(reactions_EAF)\n",
    "df['Energy']= df['Weight']*df['Enthalpy']\n",
    "df\n",
    "df['Energy'].sum()\n"
   ]
  },
  {
   "cell_type": "markdown",
   "metadata": {},
   "source": [
    "#### Carbon dissolution in liquid metal is an endothermic reaction \n",
    "Solution enthalpy for carbon =0.62 kWh/kgc"
   ]
  },
  {
   "cell_type": "code",
   "execution_count": 72,
   "metadata": {},
   "outputs": [],
   "source": [
    "## Endothermic reactions\n",
    "H_carbon=0.62*m10\n",
    "#print(\"carbon_sol_enthalpy\",H_carbon)"
   ]
  },
  {
   "cell_type": "code",
   "execution_count": 73,
   "metadata": {},
   "outputs": [
    {
     "data": {
      "text/plain": [
       "44.680851063829834"
      ]
     },
     "execution_count": 73,
     "metadata": {},
     "output_type": "execute_result"
    }
   ],
   "source": [
    "\n",
    "#FeO+C---Fe + CO   Exothermic reaction\n",
    "reduction_enthalpy=3.59 #kWh/kg of carbon\n",
    "#lets conider that 70% of the FeO is converted \n",
    "#into iron and rest remains in the slag\n",
    "m4_feo_reduced=(m4_feo*0.7)*1000\n",
    "feo_weight=71.845 #g/mol\n",
    "c_weight=12 #g/mol\n",
    "c_required=(c_weight/feo_weight)*m4_feo_reduced\n",
    "H_feo_red=c_required*reduction_enthalpy\n",
    "#print(\"carbon required\",c_required)\n",
    "#print(\"Iron oxide reduction enthalpy\",H_feo_red)\n",
    "m4_feo_reduced"
   ]
  },
  {
   "cell_type": "markdown",
   "metadata": {},
   "source": [
    "#### Oxidation reaction of carbon with oxygen"
   ]
  },
  {
   "cell_type": "code",
   "execution_count": 74,
   "metadata": {},
   "outputs": [],
   "source": [
    "\n",
    "c_remaining=m10-c_required\n",
    "# Oxidation of carbon to carbon monoxide consider that remaining carbon is converted to CO\n",
    "# reaction C+0.5 O2---- CO + 9.10 kWh/kg of carbon\n",
    "H_co=c_remaining*9.10 "
   ]
  },
  {
   "cell_type": "code",
   "execution_count": 75,
   "metadata": {},
   "outputs": [
    {
     "name": "stdout",
     "output_type": "stream",
     "text": [
      "CO_enthalpy 23.087842770266295\n",
      "Chemical enthalpy 43.67956194111728\n"
     ]
    }
   ],
   "source": [
    "# certain portion of the CO escapes from the furnace and is also converted into CO2\n",
    "print(\"CO_enthalpy\",H_co) \n",
    "H_che_ent=H_feo_red+H_co-H_carbon\n",
    "print(\"Chemical enthalpy\",H_che_ent)"
   ]
  },
  {
   "cell_type": "markdown",
   "metadata": {},
   "source": [
    "## Energy required to melt Fe in the EAF"
   ]
  },
  {
   "cell_type": "code",
   "execution_count": 76,
   "metadata": {},
   "outputs": [
    {
     "name": "stdout",
     "output_type": "stream",
     "text": [
      "613962.400853441\n",
      "239.1562224592892\n",
      "Energy per ton in kJ 1161280.7290991822\n",
      "Enthalpy change in kWh 15.481266052087431\n"
     ]
    }
   ],
   "source": [
    "# Reference : NIST https://webbook.nist.gov/cgi/cbook.cgi?ID=C7439896&Mask=2&Type=JANAFS&Table=on\n",
    "Hfe_f=247000 # Melting enthalpy of steel per ton in Kj/ton \n",
    "#https://materialsdata.nist.gov/bitstream/handle/11115/166/Thermophysical%20Properties.pdf?sequence=3\n",
    "Hfe_T4=fe_enthalpy(T4) # Enthalpy of DRI at the input \n",
    "Hfe_T6=fe_enthalpy(T6) # Enthalpy of molten steel at the output\n",
    "h6=Hfe_T6-Hfe_T4\n",
    "#print(En_per_mol)\n",
    "mol_per_ton=1000000/mol_weight_fe # 1 ton= 10^6 grams \n",
    "h6_ton=h6*mol_per_ton\n",
    "print(h6_ton) #In Kj/ton\n",
    "H6=((h6_ton+Hfe_f)/3600)*m4_fe# Specific energy consumption KWh)n_per_hr,2)\n",
    "print(H6) \n",
    "\"\"\" Energy contained in the slag\"\"\"\n",
    "T7=T6\n",
    "\n",
    "mol_weight_Sio2=60.0843 #in grams\n",
    " # Enthalpy of DRI at the input \n",
    "h7_sio2=sio2_enthalpy(T7)-sio2_enthalpy(T4)\n",
    "#print(\"Energy per mol\",h7_sio2)\n",
    "mol_per_ton=1000000/mol_weight_Sio2# 1 ton= 10^6 grams \n",
    "h7_sio2_ton=h7_sio2*mol_per_ton\n",
    "#En_total=En_per_ton # H_f needs to be added only when there is a conversion from solid to liquid \n",
    "print(\"Energy per ton in kJ\",h7_sio2_ton) #In Kj/ton\n",
    "#print((En_total)/3600)# Specific energy consumption KWh)\n",
    "H7_sio2=(h7_sio2_ton/3600)*(m1_sio2)\n",
    "print(\"Enthalpy change in kWh\",H7_sio2)"
   ]
  },
  {
   "cell_type": "code",
   "execution_count": 77,
   "metadata": {},
   "outputs": [
    {
     "name": "stdout",
     "output_type": "stream",
     "text": [
      "Energy per mol 1249554.494087817\n",
      "Enthalpy change in Al2o3 in EAF in kWH 11.105374198686585\n"
     ]
    }
   ],
   "source": [
    "\"\"\"Reference : https://webbook.nist.gov/cgi/cbook.cgi?ID=C1344281&Mask=2\"\"\"\n",
    "# Specific enthalpy per mol\n",
    "h7_al2o3=Al2O3_enthalpy(T7)-Al2O3_enthalpy(T4) \n",
    "# 1 ton= 10^6 grams \n",
    "h7_al2o3_ton=h7_al2o3*(1000000/mol_weight_al2o3)\n",
    "#En_total=En_per_ton\n",
    "print(\"Energy per mol\",h7_al2o3_ton) #In Kj/ton\n",
    "#print((En_total)/3600)# Specific energy consumption KWh)\n",
    "H7_AL2O3=(h7_al2o3_ton/3600)*(m1_al2o3)\n",
    "print(\"Enthalpy change in Al2o3 in EAF in kWH\",H7_AL2O3)\n",
    "\n"
   ]
  },
  {
   "cell_type": "code",
   "execution_count": 78,
   "metadata": {},
   "outputs": [
    {
     "name": "stdout",
     "output_type": "stream",
     "text": [
      "Energy per mol 1551084.7865699586\n",
      "Enthalpy change in cao in EAF in kWH 16.157133193437065\n"
     ]
    }
   ],
   "source": [
    "\"\"\"reference : https://webbook.nist.gov/cgi/cbook.cgi?ID=C1305788&Mask=2\"\"\"\n",
    "T0=298  # Ambient temperature\n",
    "def cao_enthalpy(T):\n",
    "    t=T/1000\n",
    "    A=49.95403\n",
    "    B=4.887916\n",
    "    C=-0.353056\n",
    "    D=0.046187\n",
    "    E=-0.825097\n",
    "    F=-652.9718\n",
    "    G=92.56096\n",
    "    H=-635.0894\n",
    "    H_t=A*t +(B*t*t)/2 +(C*t*t*t)/3 + (D*t*t*t*t)/4-(E/t)+F-H\n",
    "    return H_t\n",
    " #in grams\n",
    "#H_f=(635.09 /mol_weight_cao)*1000 # Melting point of cao is 2572 C\n",
    "h7_cao=cao_enthalpy(T7)-cao_enthalpy(T0)\n",
    "mol_per_ton=1000000/mol_weight_cao# 1 ton= 10^6 grams \n",
    "h7_cao_ton=h7_cao*mol_per_ton\n",
    "print(\"Energy per mol\",h7_cao_ton) #In Kj/ton\n",
    "#print((En_total)/3600)# Specific energy consumption KWh)\n",
    "H7_cao=(h7_cao_ton/3600)*(m11_cao/1000)\n",
    "print(\"Enthalpy change in cao in EAF in kWH\",H7_cao)"
   ]
  },
  {
   "cell_type": "code",
   "execution_count": 79,
   "metadata": {},
   "outputs": [
    {
     "name": "stdout",
     "output_type": "stream",
     "text": [
      "82.35709418670433\n",
      "Energy per mol 2043377.2537664457\n",
      "Enthalpy change in cao in EAF in kWh 7.095059908911271\n"
     ]
    }
   ],
   "source": [
    "def mgo_enthalpy(T):\n",
    "    t=T/1000\n",
    "    A=47.25995\n",
    "    B=5.681621\n",
    "    C=-0.872665\n",
    "    D=0.104300\n",
    "    E=-1.053955\n",
    "    F=-619.1316\n",
    "    G=76.46176\n",
    "    H=-601.2408\n",
    "    H_t=A*t +(B*t*t)/2 +(C*t*t*t)/3 + (D*t*t*t*t)/4-(E/t)+F-H\n",
    "    return H_t\n",
    "\n",
    "#H_f=(601.24/mol_weight_mgo)*1000 # Melting point of Mgo is 2852 C\n",
    "\n",
    "h7_mgo=mgo_enthalpy(T7)-mgo_enthalpy(T0)\n",
    "print(h7_mgo)\n",
    "\n",
    "mol_per_ton=1000000/mol_weight_mgo# 1 ton= 10^6 grams \n",
    "h7_mgo_ton=h7_mgo*mol_per_ton\n",
    "\n",
    "print(\"Energy per mol\",h7_mgo_ton) #In Kj/ton\n",
    "#print((En_total)/3600)# Specific energy consumption KWh)\n",
    "H7_mgo=(h7_mgo_ton/3600)*(m11_mgo/1000)\n",
    "print(\"Enthalpy change in cao in EAF in kWh\",H7_mgo)\n"
   ]
  },
  {
   "cell_type": "code",
   "execution_count": 80,
   "metadata": {},
   "outputs": [
    {
     "name": "stdout",
     "output_type": "stream",
     "text": [
      "59.70676288120109\n",
      "Energy per mol 831061.2282334098\n",
      "Enthalpy change in FeO in EAF in kWh 4.420538448050055\n",
      "0.06382978723404262\n",
      "0.04468085106382984\n"
     ]
    }
   ],
   "source": [
    "#Enthalpy contained in residual FeO in the slag stream : \n",
    "#https://webbook.nist.gov/cgi/cbook.cgi?ID=C1345251&Mask=2\n",
    "# The constants are used for a temperature range of 298-1650 K and the \n",
    "#fusion enthalpy is added in the mix to account for the latent heat of fusion , \n",
    "#which is an endothermic reaction\n",
    "def feo_enthalpy(T):\n",
    "    t=T/1000\n",
    "    A=45.75120\n",
    "    B=18.78553\n",
    "    C=-5.952201\n",
    "    D=0.852779\n",
    "    E=-0.081265\n",
    "    F=-286.7429\n",
    "    G=110.3120\n",
    "    H=-272.0441\n",
    "    H_t=A*t +(B*t*t)/2 +(C*t*t*t)/3 + (D*t*t*t*t)/4-(E/t)+F-H\n",
    "    return H_t\n",
    "mol_weight_feo=71.844 #in grams\n",
    "h7_feo=(feo_enthalpy(T7)-feo_enthalpy(T4))\n",
    "print(h7_feo)\n",
    "\n",
    "mol_per_ton=1000000/mol_weight_feo # 1 ton= 10^6 grams \n",
    "h7_feo_ton=h7_feo*mol_per_ton\n",
    "print(\"Energy per mol\",h7_feo_ton) #In Kj/ton\n",
    "#print((En_total)/3600)# Specific energy consumption KWh)\n",
    "H7_feo=(h7_feo_ton/3600)*(m4_feo-(m4_feo_reduced/1000))\n",
    "print(\"Enthalpy change in FeO in EAF in kWh\",H7_feo)\n",
    "print(m4_feo)\n",
    "print(m4_feo_reduced/1000)"
   ]
  },
  {
   "cell_type": "code",
   "execution_count": 81,
   "metadata": {},
   "outputs": [
    {
     "name": "stdout",
     "output_type": "stream",
     "text": [
      "54.259371801172406 239.1562224592892\n",
      "293.4155942604616\n",
      "m7 0.14913613821788518\n",
      "H7 54.259371801172406\n",
      "H6 239.1562224592892\n"
     ]
    }
   ],
   "source": [
    "# Energy contained in the slag \n",
    "m7=m1_sio2+m1_al2o3+(m11_cao/1000)+(m11_mgo/1000) +((m4_feo)-(m4_feo_reduced/1000))\n",
    "H7=H7_sio2+H7_AL2O3+H7_cao+H7_mgo+H7_feo\n",
    "print(H7,H6)\n",
    "Energy_out=H7+H6 # Refers to the amount of energy exiting from the molten steel and scrap stream of the EAF\n",
    "print(Energy_out) # in kWh\n",
    "\n",
    "print('m7',m7)\n",
    "print('H7',H7)\n",
    "print('H6',H6)\n",
    "\n"
   ]
  },
  {
   "cell_type": "markdown",
   "metadata": {},
   "source": [
    "## Final calculations for the electrical energy and the energy balance of the EAF\n",
    "\n",
    "Reference : https://www.sciencedirect.com/science/article/pii/S036054421100524X."
   ]
  },
  {
   "cell_type": "code",
   "execution_count": 82,
   "metadata": {},
   "outputs": [
    {
     "name": "stdout",
     "output_type": "stream",
     "text": [
      "Electrical energy input in kWh/ton of liquid steel 445.34642849298535\n"
     ]
    }
   ],
   "source": [
    "eta_chem=0.6 # Efficiency of heat transfer , \n",
    "#Energy taken away by the waste gases etc considered in this calculation\n",
    "eta_el=0.6 # Efficiency of the transformer, arc \n",
    "#, heat transfer, cooling losses, waste gas stream taken into consideration\n",
    "EL4=(Energy_out-(eta_chem*H_che_ent))/eta_el\n",
    "print (\"Electrical energy input in kWh/ton of liquid steel\", EL4)"
   ]
  },
  {
   "cell_type": "markdown",
   "metadata": {},
   "source": [
    "## Total energy consumption of Methane pyrolysis based HDRI-EAF system"
   ]
  },
  {
   "cell_type": "code",
   "execution_count": 83,
   "metadata": {},
   "outputs": [
    {
     "data": {
      "text/plain": [
       "284.0006036823013"
      ]
     },
     "execution_count": 83,
     "metadata": {},
     "output_type": "execute_result"
    }
   ],
   "source": [
    "E_total=[]\n",
    "E_total_MWh=[]\n",
    "for i in range(len(conversion_meth)):\n",
    "    E_total.append((H_per_ton_steel[i]*1000)+dri_elec[i]+EL4)\n",
    "    E_total_MWh.append((E_total[i]/1000))\n",
    "dri_elec[9]"
   ]
  },
  {
   "cell_type": "code",
   "execution_count": 84,
   "metadata": {},
   "outputs": [
    {
     "name": "stdout",
     "output_type": "stream",
     "text": [
      "[2.1355688828671604, 2.150425164097935, 2.1657427635644635, 2.125070350341337, 2.059401236204841, 2.007987012212169, 2.197339644645225, 2.1515459122170193, 2.0775882580418332, 2.0197017053335586]\n"
     ]
    }
   ],
   "source": [
    "print(E_total_MWh)"
   ]
  },
  {
   "cell_type": "markdown",
   "metadata": {},
   "source": [
    "## Emission calculations \n",
    "Institute for Global Environmental Strategies (2020). List of Grid Emission Factors, version 10.8. Available at: https://pub.iges.or.jp/pub/iges-list-grid-emission-factors\n",
    "All copyrights are reserved. The source must be clearly stated when this database is reproduced or transmitted in any form or by any means.\n",
    "\n",
    "Value for Germany taken from : https://www.carbonfootprint.com/docs/2018_8_electricity_factors_august_2018_-_online_sources.pdf"
   ]
  },
  {
   "cell_type": "code",
   "execution_count": 85,
   "metadata": {},
   "outputs": [
    {
     "data": {
      "text/plain": [
       "[0.6765525044297156,\n",
       " 0.6691319561993962,\n",
       " 0.6617214599934735,\n",
       " 0.6544004256133108,\n",
       " 0.6425799850687415,\n",
       " 0.6333254247500606,\n",
       " 1.1084002210392498,\n",
       " 1.085757764449748,\n",
       " 1.0491898132186839,\n",
       " 1.0205681288240371]"
      ]
     },
     "execution_count": 85,
     "metadata": {},
     "output_type": "execute_result"
    }
   ],
   "source": [
    "\n",
    "\n",
    "## CO2 emission\n",
    "##The emissions are generated by burning methane in the\n",
    "##gas fired heater and by using electricity from the grid. \n",
    "\n",
    "methane_ems=2.75 # kgCO2 released by burning 1 kg of CH4\n",
    "reac_ems_meth=[]\n",
    "reac_ems_el=[]\n",
    "grid_emission_factor=0.445 #ton/MWh\n",
    "dri_emission=[]\n",
    "eaf_emission=[]\n",
    "total_emission=[]\n",
    "for i in range(len(el_heat_reac)):\n",
    "    reac_ems_meth.append((extra_ng_req_tls[i]*methane_ems)/1000)\n",
    "    reac_ems_el.append((el_heat_reac[i]*grid_emission_factor))\n",
    "    dri_emission.append((dri_elec[i]*grid_emission_factor)/1000)\n",
    "    eaf_emission.append((((EL4*grid_emission_factor)+58)/1000))\n",
    "    total_emission.append((reac_ems_meth[i]+reac_ems_el[i]+dri_emission[i]+eaf_emission[i]))\n",
    "\n",
    "\n",
    "total_emission\n"
   ]
  },
  {
   "cell_type": "markdown",
   "metadata": {},
   "source": [
    "## Economic analysis"
   ]
  },
  {
   "cell_type": "code",
   "execution_count": 125,
   "metadata": {},
   "outputs": [],
   "source": [
    "plant_life=25\n",
    "carbon_price=200\n",
    "ng_price=6.58 #USD/MMBTU\n",
    "iron_ore_cost=90 #usd/ton\n",
    "electricity_cost=56.15 #USD/MWh # Germany\n",
    "emission_cost=50# USD 50 per ton \n",
    "carbon_steel_price=650 #USD/ton\n",
    "tax_rate=0.35"
   ]
  },
  {
   "cell_type": "markdown",
   "metadata": {},
   "source": [
    "### Capital cost"
   ]
  },
  {
   "cell_type": "code",
   "execution_count": 126,
   "metadata": {},
   "outputs": [],
   "source": [
    "EAF_cost_per_ton_yr=112\n",
    "        # The value includes installation costs \n",
    "        #https://iea-etsap.org/E-TechDS/PDF/I02-Iron&Steel-GS-AD-gct.pdf\n",
    "EAF_total_cost=(EAF_cost_per_ton_yr*steel_prod_yr)/10**6\n",
    "        #### DRI Cost \n",
    "        #Link : https://www2.deloitte.com/content/dam/Deloitte/global/Documents/Manufacturing/gx_remaking%20the%20global%20steel%20industry_06_13.pdf\n",
    "\n",
    "DRI_cost_per_ton_yr=275 #USD/ton/per year\n",
    "    # Cost of new DRI plant with 2 MT/annum =5.5 million euros or 6 million USD\n",
    "     # A reduction in cost is considered as larger plants have smaller costs. (0.6)\n",
    "    # The plant costs include all the costs including ISBL, OSBL, area development etc \n",
    "    # no Lang factor multiplication is required for such a plant\n",
    "    #https://www.voestalpine.com/group/en/media/press-releases/2013-07-04-\n",
    "     #voestalpine-entrusts-construction-of-the-direct-reduction-plant-in-texas-to-siemens-and-midrex/\n",
    "DRI_total_cost=(DRI_cost_per_ton_yr*steel_prod_yr)/10**6\n",
    "    #### Pressure swing adsorber \n",
    "\n",
    "PSA_cost=5 # Million USD \n",
    "\n",
    "    #### Gas fired metal furnace \n",
    "    #https://www.alibaba.com/showroom/gas-melting-furnace.html\n",
    "\n",
    "\n",
    "lang_factor_reac=10\n",
    "total_capital_cost=[]\n",
    "for i in range(len(reactor_cost)): \n",
    "    total_capital_cost.append(((reactor_cost[i]+PSA_cost)*lang_factor_reac)+(EAF_total_cost+DRI_total_cost+el_heater_cost[i]+gas_heater_cost[i]))\n"
   ]
  },
  {
   "cell_type": "code",
   "execution_count": 127,
   "metadata": {},
   "outputs": [],
   "source": [
    "  ##Operational cost\n",
    "eaf_op_cost_tls=32 #t/yr of dri\n",
    "dri_op_cost_tls=13#t/yr of dri\n",
    "ng_cost=[]\n",
    "iron_ore_cost_tls=[]\n",
    "electricity_cost_tls=[]\n",
    "for i in range(len(T_reactor)):\n",
    "    ng_cost.append((total_ng_req_tls[i]/20)*ng_price)\n",
    "    iron_ore_cost_tls.append(m1*iron_ore_cost)\n",
    "    electricity_cost_tls.append((electricity_cost*(el_heat_reac[i]*1000+EL4+dri_elec[i]))/1000)\n",
    "    operational_cost_annual=[]\n",
    "for i in range(len(electricity_cost_tls)):\n",
    "    operational_cost_annual.append((((ng_cost[i]+iron_ore_cost_tls[i]+electricity_cost_tls[i]+eaf_op_cost_tls+dri_op_cost_tls)*steel_prod_yr)/10**6))"
   ]
  },
  {
   "cell_type": "code",
   "execution_count": 128,
   "metadata": {},
   "outputs": [
    {
     "data": {
      "text/plain": [
       "[438.2388753320215,\n",
       " 400.14574758915796,\n",
       " 361.777203778223,\n",
       " 361.777203778223,\n",
       " 361.777203778223,\n",
       " 361.777203778223,\n",
       " 284.0006036823013,\n",
       " 284.0006036823013,\n",
       " 284.0006036823013,\n",
       " 284.0006036823013]"
      ]
     },
     "execution_count": 128,
     "metadata": {},
     "output_type": "execute_result"
    }
   ],
   "source": [
    "dri_elec"
   ]
  },
  {
   "cell_type": "code",
   "execution_count": 129,
   "metadata": {},
   "outputs": [],
   "source": [
    "#Maintenance cost\n",
    "maintenance_cost_percentage=0.10 \n",
    "labour_cost_tls=40 #USD/tls\n",
    "# 10% of the capital cost\n",
    "maintenance_cost_yr=[]\n",
    "labour_cost_yr=[]\n",
    "for i in range(len(T_reactor)):\n",
    "    maintenance_cost_yr.append((maintenance_cost_percentage*total_capital_cost[i]))\n",
    "    labour_cost_yr.append((labour_cost_tls*steel_prod_yr)/10**6)\n",
    " \n",
    "   "
   ]
  },
  {
   "cell_type": "code",
   "execution_count": 130,
   "metadata": {},
   "outputs": [],
   "source": [
    " #Emission cost\n",
    "total_emission_cost=[]\n",
    "for i in range(len(total_emission)):\n",
    "    total_emission_cost.append((total_emission[i]*emission_cost*steel_prod_yr)/10**6) # in Million USD"
   ]
  },
  {
   "cell_type": "code",
   "execution_count": 131,
   "metadata": {},
   "outputs": [],
   "source": [
    "# Depreciation cost\n",
    "depreciation_yr=[]\n",
    "for i in range(len(total_capital_cost)):\n",
    "    depreciation_yr.append(total_capital_cost[i]/25)"
   ]
  },
  {
   "cell_type": "markdown",
   "metadata": {},
   "source": [
    "## Revenue"
   ]
  },
  {
   "cell_type": "code",
   "execution_count": 132,
   "metadata": {},
   "outputs": [],
   "source": [
    "   # Revenue\n",
    "    # USD/ton\n",
    "revenue_steel=[]\n",
    "for i in range(len(T_reactor)):\n",
    "    revenue_steel.append(((carbon_steel_price*steel_prod_yr)/10**6))\n",
    "    #USD/ton\n",
    "    # Assume that 60% of the carbon produced could be sold\n",
    "carbon_sold=0.6\n",
    "revenue_carbon=[]\n",
    "    # Revenue generated in Million USD /year \n",
    "for i in range(len(T_reactor)):\n",
    "    revenue_carbon.append((carbon_price*carbon_per_year*carbon_sold)/10**9)\n",
    "total_revenue_usd_million=[]\n",
    "for i in range(len(revenue_carbon)):\n",
    "    total_revenue_usd_million.append(revenue_steel[i]+revenue_carbon[i])"
   ]
  },
  {
   "cell_type": "code",
   "execution_count": null,
   "metadata": {},
   "outputs": [],
   "source": []
  },
  {
   "cell_type": "code",
   "execution_count": 133,
   "metadata": {},
   "outputs": [
    {
     "data": {
      "text/html": [
       "<div>\n",
       "<style scoped>\n",
       "    .dataframe tbody tr th:only-of-type {\n",
       "        vertical-align: middle;\n",
       "    }\n",
       "\n",
       "    .dataframe tbody tr th {\n",
       "        vertical-align: top;\n",
       "    }\n",
       "\n",
       "    .dataframe thead th {\n",
       "        text-align: right;\n",
       "    }\n",
       "</style>\n",
       "<table border=\"1\" class=\"dataframe\">\n",
       "  <thead>\n",
       "    <tr style=\"text-align: right;\">\n",
       "      <th></th>\n",
       "      <th>Sno</th>\n",
       "      <th>Length m</th>\n",
       "      <th>Diameter m</th>\n",
       "      <th>Surface_area m^2</th>\n",
       "      <th>Volume m^3</th>\n",
       "      <th>Temperature C</th>\n",
       "      <th>Conversion rate</th>\n",
       "      <th>Methane feed rate kg/s</th>\n",
       "      <th>Heat source</th>\n",
       "      <th>Enthalpy carbon KWh/tls</th>\n",
       "      <th>...</th>\n",
       "      <th>Reactor cost USD mil</th>\n",
       "      <th>Total system cost USD mil</th>\n",
       "      <th>Operational cost USD mil</th>\n",
       "      <th>Maintenance cost USD mil</th>\n",
       "      <th>Labour cost USD mil</th>\n",
       "      <th>Emission cost USD mil</th>\n",
       "      <th>Depreciation USD mil</th>\n",
       "      <th>Revenue from steel USD mil</th>\n",
       "      <th>Revenue from carbon USD mil</th>\n",
       "      <th>Total Revenue  USD mil</th>\n",
       "    </tr>\n",
       "  </thead>\n",
       "  <tbody>\n",
       "    <tr>\n",
       "      <th>0</th>\n",
       "      <td>1</td>\n",
       "      <td>96.20</td>\n",
       "      <td>5.35</td>\n",
       "      <td>1661.84</td>\n",
       "      <td>2161.49</td>\n",
       "      <td>1000</td>\n",
       "      <td>0.65</td>\n",
       "      <td>40.70</td>\n",
       "      <td>FH</td>\n",
       "      <td>110.98</td>\n",
       "      <td>...</td>\n",
       "      <td>173.25</td>\n",
       "      <td>2756.05</td>\n",
       "      <td>1068.54</td>\n",
       "      <td>275.61</td>\n",
       "      <td>100.52</td>\n",
       "      <td>85.01</td>\n",
       "      <td>110.24</td>\n",
       "      <td>1633.46</td>\n",
       "      <td>72.0</td>\n",
       "      <td>1705.46</td>\n",
       "    </tr>\n",
       "    <tr>\n",
       "      <th>1</th>\n",
       "      <td>2</td>\n",
       "      <td>37.10</td>\n",
       "      <td>4.04</td>\n",
       "      <td>496.51</td>\n",
       "      <td>475.34</td>\n",
       "      <td>1050</td>\n",
       "      <td>0.65</td>\n",
       "      <td>40.70</td>\n",
       "      <td>FH</td>\n",
       "      <td>116.67</td>\n",
       "      <td>...</td>\n",
       "      <td>35.06</td>\n",
       "      <td>1374.11</td>\n",
       "      <td>1066.03</td>\n",
       "      <td>137.41</td>\n",
       "      <td>100.52</td>\n",
       "      <td>84.08</td>\n",
       "      <td>54.96</td>\n",
       "      <td>1633.46</td>\n",
       "      <td>72.0</td>\n",
       "      <td>1705.46</td>\n",
       "    </tr>\n",
       "    <tr>\n",
       "      <th>2</th>\n",
       "      <td>3</td>\n",
       "      <td>14.30</td>\n",
       "      <td>3.50</td>\n",
       "      <td>176.48</td>\n",
       "      <td>137.51</td>\n",
       "      <td>1100</td>\n",
       "      <td>0.65</td>\n",
       "      <td>40.70</td>\n",
       "      <td>FH</td>\n",
       "      <td>122.36</td>\n",
       "      <td>...</td>\n",
       "      <td>9.64</td>\n",
       "      <td>1119.91</td>\n",
       "      <td>1063.52</td>\n",
       "      <td>111.99</td>\n",
       "      <td>100.52</td>\n",
       "      <td>83.15</td>\n",
       "      <td>44.80</td>\n",
       "      <td>1633.46</td>\n",
       "      <td>72.0</td>\n",
       "      <td>1705.46</td>\n",
       "    </tr>\n",
       "    <tr>\n",
       "      <th>3</th>\n",
       "      <td>4</td>\n",
       "      <td>17.60</td>\n",
       "      <td>3.82</td>\n",
       "      <td>234.14</td>\n",
       "      <td>201.61</td>\n",
       "      <td>1100</td>\n",
       "      <td>0.70</td>\n",
       "      <td>37.79</td>\n",
       "      <td>FH</td>\n",
       "      <td>122.34</td>\n",
       "      <td>...</td>\n",
       "      <td>14.21</td>\n",
       "      <td>1165.66</td>\n",
       "      <td>1032.61</td>\n",
       "      <td>116.57</td>\n",
       "      <td>100.52</td>\n",
       "      <td>82.23</td>\n",
       "      <td>46.63</td>\n",
       "      <td>1633.46</td>\n",
       "      <td>72.0</td>\n",
       "      <td>1705.46</td>\n",
       "    </tr>\n",
       "    <tr>\n",
       "      <th>4</th>\n",
       "      <td>5</td>\n",
       "      <td>26.90</td>\n",
       "      <td>4.84</td>\n",
       "      <td>445.82</td>\n",
       "      <td>494.67</td>\n",
       "      <td>1100</td>\n",
       "      <td>0.80</td>\n",
       "      <td>33.07</td>\n",
       "      <td>FH</td>\n",
       "      <td>122.36</td>\n",
       "      <td>...</td>\n",
       "      <td>35.89</td>\n",
       "      <td>1382.47</td>\n",
       "      <td>982.54</td>\n",
       "      <td>138.25</td>\n",
       "      <td>100.52</td>\n",
       "      <td>80.74</td>\n",
       "      <td>55.30</td>\n",
       "      <td>1633.46</td>\n",
       "      <td>72.0</td>\n",
       "      <td>1705.46</td>\n",
       "    </tr>\n",
       "    <tr>\n",
       "      <th>5</th>\n",
       "      <td>6</td>\n",
       "      <td>43.10</td>\n",
       "      <td>8.18</td>\n",
       "      <td>1212.70</td>\n",
       "      <td>2263.88</td>\n",
       "      <td>1100</td>\n",
       "      <td>0.90</td>\n",
       "      <td>29.39</td>\n",
       "      <td>FH</td>\n",
       "      <td>122.33</td>\n",
       "      <td>...</td>\n",
       "      <td>185.21</td>\n",
       "      <td>2875.63</td>\n",
       "      <td>943.48</td>\n",
       "      <td>287.56</td>\n",
       "      <td>100.52</td>\n",
       "      <td>79.58</td>\n",
       "      <td>115.03</td>\n",
       "      <td>1633.46</td>\n",
       "      <td>72.0</td>\n",
       "      <td>1705.46</td>\n",
       "    </tr>\n",
       "    <tr>\n",
       "      <th>6</th>\n",
       "      <td>7</td>\n",
       "      <td>2.40</td>\n",
       "      <td>2.84</td>\n",
       "      <td>34.08</td>\n",
       "      <td>15.20</td>\n",
       "      <td>1200</td>\n",
       "      <td>0.65</td>\n",
       "      <td>40.70</td>\n",
       "      <td>EH</td>\n",
       "      <td>133.74</td>\n",
       "      <td>...</td>\n",
       "      <td>1.05</td>\n",
       "      <td>1082.99</td>\n",
       "      <td>1209.18</td>\n",
       "      <td>108.30</td>\n",
       "      <td>100.52</td>\n",
       "      <td>139.27</td>\n",
       "      <td>43.32</td>\n",
       "      <td>1633.46</td>\n",
       "      <td>72.0</td>\n",
       "      <td>1705.46</td>\n",
       "    </tr>\n",
       "    <tr>\n",
       "      <th>7</th>\n",
       "      <td>8</td>\n",
       "      <td>2.99</td>\n",
       "      <td>3.08</td>\n",
       "      <td>43.83</td>\n",
       "      <td>22.27</td>\n",
       "      <td>1200</td>\n",
       "      <td>0.70</td>\n",
       "      <td>37.79</td>\n",
       "      <td>EH</td>\n",
       "      <td>133.73</td>\n",
       "      <td>...</td>\n",
       "      <td>1.53</td>\n",
       "      <td>1087.83</td>\n",
       "      <td>1173.29</td>\n",
       "      <td>108.78</td>\n",
       "      <td>100.52</td>\n",
       "      <td>136.43</td>\n",
       "      <td>43.51</td>\n",
       "      <td>1633.46</td>\n",
       "      <td>72.0</td>\n",
       "      <td>1705.46</td>\n",
       "    </tr>\n",
       "    <tr>\n",
       "      <th>8</th>\n",
       "      <td>9</td>\n",
       "      <td>4.80</td>\n",
       "      <td>3.77</td>\n",
       "      <td>79.18</td>\n",
       "      <td>53.55</td>\n",
       "      <td>1200</td>\n",
       "      <td>0.80</td>\n",
       "      <td>33.07</td>\n",
       "      <td>EH</td>\n",
       "      <td>133.74</td>\n",
       "      <td>...</td>\n",
       "      <td>3.67</td>\n",
       "      <td>1109.25</td>\n",
       "      <td>1115.18</td>\n",
       "      <td>110.92</td>\n",
       "      <td>100.52</td>\n",
       "      <td>131.83</td>\n",
       "      <td>44.37</td>\n",
       "      <td>1633.46</td>\n",
       "      <td>72.0</td>\n",
       "      <td>1705.46</td>\n",
       "    </tr>\n",
       "    <tr>\n",
       "      <th>9</th>\n",
       "      <td>10</td>\n",
       "      <td>8.66</td>\n",
       "      <td>5.21</td>\n",
       "      <td>184.38</td>\n",
       "      <td>184.53</td>\n",
       "      <td>1200</td>\n",
       "      <td>0.90</td>\n",
       "      <td>29.39</td>\n",
       "      <td>EH</td>\n",
       "      <td>133.72</td>\n",
       "      <td>...</td>\n",
       "      <td>12.80</td>\n",
       "      <td>1200.53</td>\n",
       "      <td>1069.83</td>\n",
       "      <td>120.05</td>\n",
       "      <td>100.52</td>\n",
       "      <td>128.23</td>\n",
       "      <td>48.02</td>\n",
       "      <td>1633.46</td>\n",
       "      <td>72.0</td>\n",
       "      <td>1705.46</td>\n",
       "    </tr>\n",
       "  </tbody>\n",
       "</table>\n",
       "<p>10 rows × 35 columns</p>\n",
       "</div>"
      ],
      "text/plain": [
       "   Sno  Length m  Diameter m  Surface_area m^2  Volume m^3  Temperature C  \\\n",
       "0    1     96.20        5.35           1661.84     2161.49           1000   \n",
       "1    2     37.10        4.04            496.51      475.34           1050   \n",
       "2    3     14.30        3.50            176.48      137.51           1100   \n",
       "3    4     17.60        3.82            234.14      201.61           1100   \n",
       "4    5     26.90        4.84            445.82      494.67           1100   \n",
       "5    6     43.10        8.18           1212.70     2263.88           1100   \n",
       "6    7      2.40        2.84             34.08       15.20           1200   \n",
       "7    8      2.99        3.08             43.83       22.27           1200   \n",
       "8    9      4.80        3.77             79.18       53.55           1200   \n",
       "9   10      8.66        5.21            184.38      184.53           1200   \n",
       "\n",
       "   Conversion rate  Methane feed rate kg/s Heat source  \\\n",
       "0             0.65                   40.70          FH   \n",
       "1             0.65                   40.70          FH   \n",
       "2             0.65                   40.70          FH   \n",
       "3             0.70                   37.79          FH   \n",
       "4             0.80                   33.07          FH   \n",
       "5             0.90                   29.39          FH   \n",
       "6             0.65                   40.70          EH   \n",
       "7             0.70                   37.79          EH   \n",
       "8             0.80                   33.07          EH   \n",
       "9             0.90                   29.39          EH   \n",
       "\n",
       "   Enthalpy carbon KWh/tls  ...  Reactor cost USD mil  \\\n",
       "0                   110.98  ...                173.25   \n",
       "1                   116.67  ...                 35.06   \n",
       "2                   122.36  ...                  9.64   \n",
       "3                   122.34  ...                 14.21   \n",
       "4                   122.36  ...                 35.89   \n",
       "5                   122.33  ...                185.21   \n",
       "6                   133.74  ...                  1.05   \n",
       "7                   133.73  ...                  1.53   \n",
       "8                   133.74  ...                  3.67   \n",
       "9                   133.72  ...                 12.80   \n",
       "\n",
       "   Total system cost USD mil  Operational cost USD mil  \\\n",
       "0                    2756.05                   1068.54   \n",
       "1                    1374.11                   1066.03   \n",
       "2                    1119.91                   1063.52   \n",
       "3                    1165.66                   1032.61   \n",
       "4                    1382.47                    982.54   \n",
       "5                    2875.63                    943.48   \n",
       "6                    1082.99                   1209.18   \n",
       "7                    1087.83                   1173.29   \n",
       "8                    1109.25                   1115.18   \n",
       "9                    1200.53                   1069.83   \n",
       "\n",
       "   Maintenance cost USD mil  Labour cost USD mil  Emission cost USD mil  \\\n",
       "0                    275.61               100.52                  85.01   \n",
       "1                    137.41               100.52                  84.08   \n",
       "2                    111.99               100.52                  83.15   \n",
       "3                    116.57               100.52                  82.23   \n",
       "4                    138.25               100.52                  80.74   \n",
       "5                    287.56               100.52                  79.58   \n",
       "6                    108.30               100.52                 139.27   \n",
       "7                    108.78               100.52                 136.43   \n",
       "8                    110.92               100.52                 131.83   \n",
       "9                    120.05               100.52                 128.23   \n",
       "\n",
       "   Depreciation USD mil  Revenue from steel USD mil  \\\n",
       "0                110.24                     1633.46   \n",
       "1                 54.96                     1633.46   \n",
       "2                 44.80                     1633.46   \n",
       "3                 46.63                     1633.46   \n",
       "4                 55.30                     1633.46   \n",
       "5                115.03                     1633.46   \n",
       "6                 43.32                     1633.46   \n",
       "7                 43.51                     1633.46   \n",
       "8                 44.37                     1633.46   \n",
       "9                 48.02                     1633.46   \n",
       "\n",
       "   Revenue from carbon USD mil  Total Revenue  USD mil  \n",
       "0                         72.0                 1705.46  \n",
       "1                         72.0                 1705.46  \n",
       "2                         72.0                 1705.46  \n",
       "3                         72.0                 1705.46  \n",
       "4                         72.0                 1705.46  \n",
       "5                         72.0                 1705.46  \n",
       "6                         72.0                 1705.46  \n",
       "7                         72.0                 1705.46  \n",
       "8                         72.0                 1705.46  \n",
       "9                         72.0                 1705.46  \n",
       "\n",
       "[10 rows x 35 columns]"
      ]
     },
     "execution_count": 133,
     "metadata": {},
     "output_type": "execute_result"
    }
   ],
   "source": [
    "df_system=pd.DataFrame()\n",
    "df_system['Sno']=[1,2,3,4,5,6,7,8,9,10]\n",
    "df_system.set_index('Sno')\n",
    "df_system['Length m']=len_reac\n",
    "df_system['Diameter m']=dia_reac\n",
    "df_system['Surface_area m^2']=sur_area_reac\n",
    "df_system['Volume m^3']=vol_reac\n",
    "df_system['Temperature C']=T_reactor\n",
    "df_system['Conversion rate']=conversion_meth\n",
    "df_system['Methane feed rate kg/s']=met_feed_rate_kg\n",
    "#df_system['Hydrogen_rate kg/s']=(df_system['Conversion rate']*df_system['Methane feed rate kg/s'])/4\n",
    "\n",
    "df_system['Heat source']=heat_source\n",
    "df_system['Enthalpy carbon KWh/tls']=H_carbon_tls\n",
    "df_system['Enthalpy of hydrogen stream KWh/tls']=H_hydrogen_tls\n",
    "df_system['Methane heating KWh/tls']=H_methane_tls\n",
    "df_system['Reaction enthalpy KWh/tls']=H_reac_tls\n",
    "\n",
    "df_system['Reactor energy in MWh/tls']=H_per_ton_steel\n",
    "df_system['Electrical energy required in shaft furnace in KWh/tls']=dri_elec\n",
    "df_system['Electrical energy required in EAF in KWh/tls']=np.repeat(EL4,10).tolist()\n",
    "df_system['System energy consumption MWh/tls']=((df_system['Electrical energy required in shaft furnace in KWh/tls']/1000)+\n",
    "                                                     df_system['Reactor energy in MWh/tls']+(df_system['Electrical energy required in EAF in KWh/tls']/1000))\n",
    "df_system['Natural_gas for heating kg']=extra_ng_req_tls\n",
    "df_system['Electrical energy for reactor MWh/tls']=el_heat_reac\n",
    "df_system['Reactor emissions (elec) t/tls']=reac_ems_el\n",
    "df_system['Reactor emissions(methane) t/tls']=reac_ems_meth\n",
    "df_system['DRI emission t/tls']=dri_emission\n",
    "df_system['EAF emission t/tls']=eaf_emission\n",
    "df_system['Total emission t/tls']=total_emission\n",
    "df_system['Natural_gas total kg']=total_ng_req_tls\n",
    "df_system['Reactor cost USD mil']=reactor_cost\n",
    "df_system['Total system cost USD mil']=total_capital_cost\n",
    "df_system['Operational cost USD mil']=operational_cost_annual\n",
    "df_system['Maintenance cost USD mil']=maintenance_cost_yr\n",
    "df_system['Labour cost USD mil']=labour_cost_yr\n",
    "df_system['Emission cost USD mil']=total_emission_cost\n",
    "df_system['Depreciation USD mil']=depreciation_yr\n",
    "df_system['Revenue from steel USD mil']=revenue_steel\n",
    "df_system['Revenue from carbon USD mil']=revenue_carbon\n",
    "df_system['Total Revenue  USD mil']=total_revenue_usd_million\n",
    "df_system=df_system.round(2)\n",
    "df_system.reset_index(drop=True)\n"
   ]
  },
  {
   "cell_type": "code",
   "execution_count": 134,
   "metadata": {},
   "outputs": [
    {
     "data": {
      "image/png": "[encoded data removed]",
      "text/plain": [
       "<Figure size 540x540 with 1 Axes>"
      ]
     },
     "metadata": {
      "needs_background": "light"
     },
     "output_type": "display_data"
    }
   ],
   "source": [
    "plt.figure(figsize=(7.5,7.5))\n",
    "configuration=[1,2,3,4,5,6,7,8,9,10]\n",
    "plt.scatter(configuration,total_capital_cost,label='Capital cost')\n",
    "plt.scatter(configuration,operational_cost_annual,label=\"Operational cost\")\n",
    "plt.scatter(configuration,labour_cost_yr,label=\"Labour  cost\")\n",
    "plt.scatter(configuration,maintenance_cost_yr,label=\"Maintenance cost\")\n",
    "plt.scatter(configuration,total_emission_cost,label='Emission cost')\n",
    "plt.xlabel('Reactor diameter in m')\n",
    "plt.ylabel('Million USD')\n",
    "plt.legend()\n",
    "plt.savefig('Capital_cost.pdf',dpi=1200)"
   ]
  },
  {
   "cell_type": "code",
   "execution_count": 135,
   "metadata": {},
   "outputs": [
    {
     "data": {
      "text/plain": [
       "<Figure size 720x720 with 0 Axes>"
      ]
     },
     "metadata": {},
     "output_type": "display_data"
    },
    {
     "data": {
      "image/png": "[encoded data removed]",
      "text/plain": [
       "<Figure size 432x288 with 1 Axes>"
      ]
     },
     "metadata": {
      "needs_background": "light"
     },
     "output_type": "display_data"
    }
   ],
   "source": [
    "plt.figure(figsize=(10,10))\n",
    "df_system.reset_index().plot(\n",
    "    x=\"Sno\", y=['Total system cost USD mil','Operational cost USD mil','Maintenance cost USD mil','Labour cost USD mil','Emission cost USD mil'], kind=\"bar\"\n",
    ").legend(['Capital cost','Operational cost','Maintenance cost','Labour cost','Emission cost'])\n",
    "\n",
    "plt.xlabel(\"Reactor configuration\",fontsize=14)\n",
    "plt.ylabel(\"Cost in Million USD\",fontsize=14)\n",
    "plt.savefig('System_costs.pdf')"
   ]
  },
  {
   "cell_type": "code",
   "execution_count": 136,
   "metadata": {},
   "outputs": [
    {
     "data": {
      "image/png": "[encoded data removed]",
      "text/plain": [
       "<Figure size 720x720 with 1 Axes>"
      ]
     },
     "metadata": {
      "needs_background": "light"
     },
     "output_type": "display_data"
    }
   ],
   "source": [
    "plt.figure(figsize=(10,10))\n",
    "plt.bar([1,2,3,4,5,6,7,8,9,10],E_total_MWh,color='Green')\n",
    "plt.xlabel(\"Reactor configuration\")\n",
    "plt.ylabel(\"Energy consumption in MWh/tls\")\n",
    "plt.ylim(1.95,2.25)\n",
    "plt.savefig('system_energy.pdf')"
   ]
  },
  {
   "cell_type": "code",
   "execution_count": 137,
   "metadata": {},
   "outputs": [
    {
     "data": {
      "image/png": "[encoded data removed]",
      "text/plain": [
       "<Figure size 720x720 with 1 Axes>"
      ]
     },
     "metadata": {
      "needs_background": "light"
     },
     "output_type": "display_data"
    }
   ],
   "source": [
    "plt.figure(figsize=(10,10))\n",
    "if(grid_emission_factor==0.445):\n",
    "    a='Grid emission factor=0.446'\n",
    "else:\n",
    "    a='Grid emission factor =0.0164'\n",
    "plt.bar([1,2,3,4,5,6,7,8,9,10],total_emission,color='black',label=a)\n",
    "plt.xlabel(\"Reactor configuration\",fontsize=14)\n",
    "plt.ylabel(\"Emission in Kg/tls\",fontsize=14)\n",
    "#plt.ylim(0.6,1.25)\n",
    "plt.legend()\n",
    "plt.savefig('system_emission_norway.pdf')"
   ]
  },
  {
   "cell_type": "code",
   "execution_count": 138,
   "metadata": {},
   "outputs": [],
   "source": [
    "def cashflow_analysis(capital_cost,operation_cost,maintenance_cost,labour_cost,emission_cost,depreciation_cost,total_revenue):\n",
    "    #capital cost\n",
    "    #reactor cost calculation\n",
    "    plant_life=25\n",
    "    interest_rate=0.10\n",
    "    tax_rate=0.35\n",
    "    \n",
    "    years=np.arange(0,plant_life,1)\n",
    "    Years=np.round(years,0)\n",
    "    production_steel=np.repeat(steel_prod_yr/10**6,plant_life).tolist()\n",
    "    #production_hydrogen=np.repeat(h2_prod_yr/1000000,plant_life).tolist()\n",
    "    \n",
    "    \n",
    "       \n",
    "        \n",
    "       \n",
    "  \n",
    "    capital_cost_yr=np.repeat(0,plant_life).tolist()\n",
    "    capital_cost_yr[0]=(capital_cost/3)\n",
    "    capital_cost_yr[1]=(capital_cost)*(2/3)\n",
    "    operational_cost=np.repeat(operation_cost,plant_life).tolist()\n",
    "    maintenance_cost=np.repeat(maintenance_cost,plant_life).tolist()\n",
    "    labour_cost=np.repeat(labour_cost,plant_life).tolist()\n",
    "    emission_cost=np.repeat(emission_cost,plant_life).tolist()\n",
    "    depreciation_cost=np.repeat(depreciation_cost,plant_life).tolist()\n",
    "    total_revenue=np.repeat(total_revenue,plant_life).tolist()\n",
    "\n",
    "    for i in range(2):\n",
    "        production_steel[i]=0\n",
    "        operational_cost[i]=0\n",
    "        labour_cost[i]=0\n",
    "        maintenance_cost[i]=0\n",
    "        emission_cost[i]=0 \n",
    "        depreciation_cost[i]=0\n",
    "        total_revenue[i]=0\n",
    "    # tax calculation\n",
    "    tax_cost=[]\n",
    "    for i in range(len(operational_cost)):\n",
    "        tax_cost.append((total_revenue[i]-(operational_cost[i]+labour_cost[i]+maintenance_cost[i]+emission_cost[i]+depreciation_cost[i]))*tax_rate)\n",
    "    cash_flow=[]\n",
    "    for i in range(len(total_revenue)):\n",
    "        cash_flow.append(total_revenue[i]-(capital_cost_yr[i]+operational_cost[i]+labour_cost[i]+maintenance_cost[i]+emission_cost[i]+tax_cost[i]))\n",
    "    npv=np.npv(interest_rate,cash_flow)\n",
    "    irr=np.irr(cash_flow)\n",
    "    #return(NPV_methane_pyrolysis,IRR_system)\n",
    "    return(npv)\n",
    "    \n",
    "    \n"
   ]
  },
  {
   "cell_type": "code",
   "execution_count": 153,
   "metadata": {},
   "outputs": [
    {
     "data": {
      "image/png": "[encoded data removed]",
      "text/plain": [
       "<Figure size 540x540 with 1 Axes>"
      ]
     },
     "metadata": {
      "needs_background": "light"
     },
     "output_type": "display_data"
    }
   ],
   "source": [
    "NPV=[]\n",
    "IRR=[]\n",
    "for i in range(len(T_reactor)):\n",
    "    capital_cost=total_capital_cost[i]\n",
    "    operation_cost=operational_cost_annual[i]\n",
    "    maintenance_cost=maintenance_cost_yr[i]\n",
    "    labour_cost=labour_cost_yr[i]\n",
    "    emission_cost=total_emission_cost[i]\n",
    "    depreciation_cost=depreciation_yr[i]\n",
    "    total_revenue=total_revenue_usd_million[i]\n",
    "    NPV_yr=(cashflow_analysis(capital_cost,operation_cost,maintenance_cost,labour_cost,emission_cost,depreciation_cost,total_revenue))\n",
    "    NPV.append(NPV_yr)\n",
    "plt.rcParams[\"figure.figsize\"] = [7.5,7.5]    \n",
    "plt.bar([1,2,3,4,5,6,7,8,9,10],NPV)\n",
    "plt.xlabel(\"Reactor configuration\",fontsize=14)\n",
    "plt.ylabel(\"NPV in USD million\",fontsize=14)\n",
    "plt.savefig('NPV_configurations.pdf',dpi=1200)"
   ]
  },
  {
   "cell_type": "code",
   "execution_count": null,
   "metadata": {},
   "outputs": [],
   "source": []
  },
  {
   "cell_type": "code",
   "execution_count": 140,
   "metadata": {},
   "outputs": [
    {
     "data": {
      "text/plain": [
       "513.5326566754068"
      ]
     },
     "execution_count": 140,
     "metadata": {},
     "output_type": "execute_result"
    }
   ],
   "source": [
    "cashflow_analysis(capital_cost,operation_cost,maintenance_cost,labour_cost,emission_cost,depreciation_cost,total_revenue)"
   ]
  },
  {
   "cell_type": "code",
   "execution_count": 141,
   "metadata": {},
   "outputs": [],
   "source": [
    "def irr_analysis(capital_cost,operation_cost,maintenance_cost,labour_cost,emission_cost,depreciation_cost,total_revenue):\n",
    "    #capital cost\n",
    "    #reactor cost calculation\n",
    "    plant_life=25\n",
    "    interest_rate=0.10\n",
    "    tax_rate=0.35\n",
    "    \n",
    "    years=np.arange(0,plant_life,1)\n",
    "    Years=np.round(years,0)\n",
    "    production_steel=np.repeat(steel_prod_yr/10**6,plant_life).tolist()\n",
    "    #production_hydrogen=np.repeat(h2_prod_yr/1000000,plant_life).tolist()     \n",
    "        \n",
    "       \n",
    "  \n",
    "    capital_cost_yr=np.repeat(0,plant_life).tolist()\n",
    "    capital_cost_yr[0]=(capital_cost/3)\n",
    "    capital_cost_yr[1]=(capital_cost)*(2/3)\n",
    "    operational_cost=np.repeat(operation_cost,plant_life).tolist()\n",
    "    maintenance_cost=np.repeat(maintenance_cost,plant_life).tolist()\n",
    "    labour_cost=np.repeat(labour_cost,plant_life).tolist()\n",
    "    emission_cost=np.repeat(emission_cost,plant_life).tolist()\n",
    "    depreciation_cost=np.repeat(depreciation_cost,plant_life).tolist()\n",
    "    total_revenue=np.repeat(total_revenue,plant_life).tolist()\n",
    "\n",
    "    for i in range(2):\n",
    "        production_steel[i]=0\n",
    "        operational_cost[i]=0\n",
    "        labour_cost[i]=0\n",
    "        maintenance_cost[i]=0\n",
    "        emission_cost[i]=0 \n",
    "        depreciation_cost[i]=0\n",
    "        total_revenue[i]=0\n",
    "    # tax calculation\n",
    "    tax_cost=[]\n",
    "    for i in range(len(operational_cost)):\n",
    "        tax_cost.append((total_revenue[i]-(operational_cost[i]+labour_cost[i]+maintenance_cost[i]+emission_cost[i]+depreciation_cost[i]))*tax_rate)\n",
    "    cash_flow=[]\n",
    "    for i in range(len(total_revenue)):\n",
    "        cash_flow.append(total_revenue[i]-(capital_cost_yr[i]+operational_cost[i]+labour_cost[i]+maintenance_cost[i]+emission_cost[i]+tax_cost[i]))\n",
    "    npv=np.npv(interest_rate,cash_flow)\n",
    "    irr=np.irr(cash_flow)\n",
    "    #return(NPV_methane_pyrolysis,IRR_system)\n",
    "    return(irr)\n",
    "    \n",
    "    "
   ]
  },
  {
   "cell_type": "code",
   "execution_count": 155,
   "metadata": {},
   "outputs": [
    {
     "data": {
      "image/png": "[encoded data removed]",
      "text/plain": [
       "<Figure size 540x540 with 1 Axes>"
      ]
     },
     "metadata": {
      "needs_background": "light"
     },
     "output_type": "display_data"
    }
   ],
   "source": [
    "IRR=[]\n",
    "for i in range(len(T_reactor)):\n",
    "    capital_cost=total_capital_cost[i]\n",
    "    operation_cost=operational_cost_annual[i]\n",
    "    maintenance_cost=maintenance_cost_yr[i]\n",
    "    labour_cost=labour_cost_yr[i]\n",
    "    emission_cost=total_emission_cost[i]\n",
    "    depreciation_cost=depreciation_yr[i]\n",
    "    total_revenue=total_revenue_usd_million[i]\n",
    "    IRR_yr=(irr_analysis(capital_cost,operation_cost,maintenance_cost,labour_cost,emission_cost,depreciation_cost,total_revenue))\n",
    "    IRR.append(IRR_yr*100)\n",
    "plt.rcParams[\"figure.figsize\"] = [7.5,7.5]    \n",
    "plt.bar([1,2,3,4,5,6,7,8,9,10],IRR,color='Green')\n",
    "plt.xlabel(\"Reactor configuration\",fontsize=14)\n",
    "plt.ylabel(\"IRR in percentage\", fontsize=14)\n",
    "plt.savefig('IRR_configurations.pdf',dpi=1200)"
   ]
  },
  {
   "cell_type": "code",
   "execution_count": 143,
   "metadata": {},
   "outputs": [
    {
     "data": {
      "text/plain": [
       "[2.068673748049954,\n",
       " 15.005976946085786,\n",
       " 19.85085196571612,\n",
       " 20.52164207872813,\n",
       " 18.80183400232369,\n",
       " 5.6893162529843,\n",
       " 8.467993775616645,\n",
       " 10.999116209815195,\n",
       " 14.466783512917548,\n",
       " 15.513141642598583]"
      ]
     },
     "execution_count": 143,
     "metadata": {},
     "output_type": "execute_result"
    }
   ],
   "source": [
    "IRR"
   ]
  },
  {
   "cell_type": "code",
   "execution_count": 144,
   "metadata": {},
   "outputs": [
    {
     "data": {
      "text/plain": [
       "[-1354.6837113369818,\n",
       " 530.742272592554,\n",
       " 892.2748457199671,\n",
       " 997.5132173824917,\n",
       " 975.2069012126369,\n",
       " -831.3280677115023,\n",
       " -117.02752267241141,\n",
       " 79.71809101058727,\n",
       " 379.96409406966535,\n",
       " 513.5326566754068]"
      ]
     },
     "execution_count": 144,
     "metadata": {},
     "output_type": "execute_result"
    }
   ],
   "source": [
    "NPV"
   ]
  },
  {
   "cell_type": "code",
   "execution_count": 145,
   "metadata": {},
   "outputs": [],
   "source": [
    "df_reactor=pd.DataFrame()\n",
    "df_reactor['Sno']=[1,2,3,4,5,6,7,8,9,10]\n",
    "df_reactor.set_index('Sno')\n",
    "df_reactor['Length m']=len_reac\n",
    "df_reactor['Diameter m']=dia_reac\n",
    "df_reactor['Surface_area m^2']=sur_area_reac\n",
    "df_reactor['Volume m^3']=vol_reac\n",
    "df_reactor['Temperature C']=T_reactor\n",
    "df_reactor['Conversion rate']=conversion_meth\n",
    "df_energy_1=pd.DataFrame()\n",
    "df_energy_1['Natural gas']=total_ng_req_tls\n",
    "#df_reactor['Hydrogen_rate kg/s']=(df_reactor['Conversion rate']*df_reactor['Methane feed rate kg/s'])/4\n",
    "\n",
    "df_reactor['Heat source']=heat_source\n",
    "df_reactor['Reactor cost USD mil']=reactor_cost\n",
    "\n"
   ]
  },
  {
   "cell_type": "code",
   "execution_count": 146,
   "metadata": {},
   "outputs": [],
   "source": [
    "#df_reactor.round(2).to_latex(index=False)"
   ]
  },
  {
   "cell_type": "code",
   "execution_count": 147,
   "metadata": {},
   "outputs": [
    {
     "data": {
      "text/plain": [
       "'\\\\begin{tabular}{r}\\n\\\\toprule\\n Natural gas \\\\\\\\\\n\\\\midrule\\n      567.21 \\\\\\\\\\n      570.67 \\\\\\\\\\n      574.19 \\\\\\\\\\n      536.81 \\\\\\\\\\n      476.24 \\\\\\\\\\n      429.00 \\\\\\\\\\n      485.26 \\\\\\\\\\n      450.54 \\\\\\\\\\n      394.27 \\\\\\\\\\n      350.40 \\\\\\\\\\n\\\\bottomrule\\n\\\\end{tabular}\\n'"
      ]
     },
     "execution_count": 147,
     "metadata": {},
     "output_type": "execute_result"
    }
   ],
   "source": [
    "df_energy_1.round(2).to_latex(index=False)"
   ]
  },
  {
   "cell_type": "code",
   "execution_count": 148,
   "metadata": {},
   "outputs": [],
   "source": [
    "df_energy=pd.DataFrame()\n",
    "df_energy['Sno']=[1,2,3,4,5,6,7,8,9,10]\n",
    "df_energy['Reactor energy']=H_per_ton_steel\n",
    "df_energy['Shaft furnace']=df_system['Electrical energy required in shaft furnace in KWh/tls']/1000\n",
    "df_energy['EAF']=(df_system['Electrical energy required in EAF in KWh/tls']/1000)\n",
    "\n",
    "#df_energy['Natural gas feedstock']=(df_energy['Natural gas']*42000)/3600000\n",
    "df_energy['System']=((df_system['Electrical energy required in shaft furnace in KWh/tls']/1000)+df_system['Reactor energy in MWh/tls']+(df_system['Electrical energy required in EAF in KWh/tls']/1000))\n",
    "#df_energy['Reactor percentage']=(df_energy['Reactor energy MWh/tls']/df_energy['System energy consumption MWh/tls'])*100\n",
    "#df_energy['Shaft percentage']=((df_energy['Shaft furnace KWh/tls']/1000)/df_energy['System energy consumption MWh/tls'])*100\n",
    "#df_energy['EAF percentage']=((df_energy['EAF KWh/tls']/1000)/df_energy['System energy consumption MWh/tls'])*100\n",
    "#df_energy.round(2).to_latex(index=False)"
   ]
  },
  {
   "cell_type": "code",
   "execution_count": 149,
   "metadata": {},
   "outputs": [],
   "source": [
    "df_emission=pd.DataFrame()\n",
    "df_emission['Sno']=[1,2,3,4,5,6,7,8,9,10]\n",
    "df_emission['Reactor emissions (elec) t/tls']=reac_ems_el\n",
    "df_emission['Reactor emissions(methane) t/tls']=reac_ems_meth\n",
    "df_emission['DRI emission t/tls']=dri_emission\n",
    "df_emission['EAF emission t/tls']=eaf_emission\n",
    "df_emission['Total emission t/tls']=total_emission\n",
    "#df_emission.round(2).to_latex(index=False)"
   ]
  },
  {
   "cell_type": "markdown",
   "metadata": {},
   "source": []
  },
  {
   "cell_type": "code",
   "execution_count": 150,
   "metadata": {},
   "outputs": [
    {
     "data": {
      "text/html": [
       "<div>\n",
       "<style scoped>\n",
       "    .dataframe tbody tr th:only-of-type {\n",
       "        vertical-align: middle;\n",
       "    }\n",
       "\n",
       "    .dataframe tbody tr th {\n",
       "        vertical-align: top;\n",
       "    }\n",
       "\n",
       "    .dataframe thead th {\n",
       "        text-align: right;\n",
       "    }\n",
       "</style>\n",
       "<table border=\"1\" class=\"dataframe\">\n",
       "  <thead>\n",
       "    <tr style=\"text-align: right;\">\n",
       "      <th></th>\n",
       "      <th>Sno</th>\n",
       "      <th>Reactor emissions (elec) t/tls</th>\n",
       "      <th>Reactor emissions(methane) t/tls</th>\n",
       "      <th>DRI emission t/tls</th>\n",
       "      <th>EAF emission t/tls</th>\n",
       "      <th>Total emission t/tls</th>\n",
       "    </tr>\n",
       "  </thead>\n",
       "  <tbody>\n",
       "    <tr>\n",
       "      <th>0</th>\n",
       "      <td>1</td>\n",
       "      <td>0.000000</td>\n",
       "      <td>0.225357</td>\n",
       "      <td>0.195016</td>\n",
       "      <td>0.256179</td>\n",
       "      <td>0.676553</td>\n",
       "    </tr>\n",
       "    <tr>\n",
       "      <th>1</th>\n",
       "      <td>2</td>\n",
       "      <td>0.000000</td>\n",
       "      <td>0.234888</td>\n",
       "      <td>0.178065</td>\n",
       "      <td>0.256179</td>\n",
       "      <td>0.669132</td>\n",
       "    </tr>\n",
       "    <tr>\n",
       "      <th>2</th>\n",
       "      <td>3</td>\n",
       "      <td>0.000000</td>\n",
       "      <td>0.244551</td>\n",
       "      <td>0.160991</td>\n",
       "      <td>0.256179</td>\n",
       "      <td>0.661721</td>\n",
       "    </tr>\n",
       "    <tr>\n",
       "      <th>3</th>\n",
       "      <td>4</td>\n",
       "      <td>0.000000</td>\n",
       "      <td>0.237230</td>\n",
       "      <td>0.160991</td>\n",
       "      <td>0.256179</td>\n",
       "      <td>0.654400</td>\n",
       "    </tr>\n",
       "    <tr>\n",
       "      <th>4</th>\n",
       "      <td>5</td>\n",
       "      <td>0.000000</td>\n",
       "      <td>0.225410</td>\n",
       "      <td>0.160991</td>\n",
       "      <td>0.256179</td>\n",
       "      <td>0.642580</td>\n",
       "    </tr>\n",
       "    <tr>\n",
       "      <th>5</th>\n",
       "      <td>6</td>\n",
       "      <td>0.000000</td>\n",
       "      <td>0.216155</td>\n",
       "      <td>0.160991</td>\n",
       "      <td>0.256179</td>\n",
       "      <td>0.633325</td>\n",
       "    </tr>\n",
       "    <tr>\n",
       "      <th>6</th>\n",
       "      <td>7</td>\n",
       "      <td>0.725841</td>\n",
       "      <td>0.000000</td>\n",
       "      <td>0.126380</td>\n",
       "      <td>0.256179</td>\n",
       "      <td>1.108400</td>\n",
       "    </tr>\n",
       "    <tr>\n",
       "      <th>7</th>\n",
       "      <td>8</td>\n",
       "      <td>0.703198</td>\n",
       "      <td>0.000000</td>\n",
       "      <td>0.126380</td>\n",
       "      <td>0.256179</td>\n",
       "      <td>1.085758</td>\n",
       "    </tr>\n",
       "    <tr>\n",
       "      <th>8</th>\n",
       "      <td>9</td>\n",
       "      <td>0.666630</td>\n",
       "      <td>0.000000</td>\n",
       "      <td>0.126380</td>\n",
       "      <td>0.256179</td>\n",
       "      <td>1.049190</td>\n",
       "    </tr>\n",
       "    <tr>\n",
       "      <th>9</th>\n",
       "      <td>10</td>\n",
       "      <td>0.638009</td>\n",
       "      <td>0.000000</td>\n",
       "      <td>0.126380</td>\n",
       "      <td>0.256179</td>\n",
       "      <td>1.020568</td>\n",
       "    </tr>\n",
       "  </tbody>\n",
       "</table>\n",
       "</div>"
      ],
      "text/plain": [
       "   Sno  Reactor emissions (elec) t/tls  Reactor emissions(methane) t/tls  \\\n",
       "0    1                        0.000000                          0.225357   \n",
       "1    2                        0.000000                          0.234888   \n",
       "2    3                        0.000000                          0.244551   \n",
       "3    4                        0.000000                          0.237230   \n",
       "4    5                        0.000000                          0.225410   \n",
       "5    6                        0.000000                          0.216155   \n",
       "6    7                        0.725841                          0.000000   \n",
       "7    8                        0.703198                          0.000000   \n",
       "8    9                        0.666630                          0.000000   \n",
       "9   10                        0.638009                          0.000000   \n",
       "\n",
       "   DRI emission t/tls  EAF emission t/tls  Total emission t/tls  \n",
       "0            0.195016            0.256179              0.676553  \n",
       "1            0.178065            0.256179              0.669132  \n",
       "2            0.160991            0.256179              0.661721  \n",
       "3            0.160991            0.256179              0.654400  \n",
       "4            0.160991            0.256179              0.642580  \n",
       "5            0.160991            0.256179              0.633325  \n",
       "6            0.126380            0.256179              1.108400  \n",
       "7            0.126380            0.256179              1.085758  \n",
       "8            0.126380            0.256179              1.049190  \n",
       "9            0.126380            0.256179              1.020568  "
      ]
     },
     "execution_count": 150,
     "metadata": {},
     "output_type": "execute_result"
    }
   ],
   "source": [
    "df_emission"
   ]
  },
  {
   "cell_type": "code",
   "execution_count": 151,
   "metadata": {},
   "outputs": [
    {
     "data": {
      "text/plain": [
       "[567.2062266405063,\n",
       " 570.6720061369626,\n",
       " 574.1860082423966,\n",
       " 536.808014267656,\n",
       " 476.23955742655284,\n",
       " 429.0026478169903,\n",
       " 485.2582105577472,\n",
       " 450.5424109030657,\n",
       " 394.27229607816963,\n",
       " 350.4006811299456]"
      ]
     },
     "execution_count": 151,
     "metadata": {},
     "output_type": "execute_result"
    }
   ],
   "source": [
    "total_ng_req_tls"
   ]
  },
  {
   "cell_type": "code",
   "execution_count": null,
   "metadata": {},
   "outputs": [],
   "source": []
  },
  {
   "cell_type": "code",
   "execution_count": null,
   "metadata": {},
   "outputs": [],
   "source": []
  },
  {
   "cell_type": "code",
   "execution_count": null,
   "metadata": {},
   "outputs": [],
   "source": []
  },
  {
   "cell_type": "code",
   "execution_count": null,
   "metadata": {},
   "outputs": [],
   "source": []
  },
  {
   "cell_type": "code",
   "execution_count": null,
   "metadata": {},
   "outputs": [],
   "source": []
  },
  {
   "cell_type": "code",
   "execution_count": null,
   "metadata": {},
   "outputs": [],
   "source": []
  },
  {
   "cell_type": "code",
   "execution_count": null,
   "metadata": {},
   "outputs": [],
   "source": []
  },
  {
   "cell_type": "code",
   "execution_count": null,
   "metadata": {},
   "outputs": [],
   "source": []
  }
 ],
 "metadata": {
  "kernelspec": {
   "display_name": "Python 3",
   "language": "python",
   "name": "python3"
  },
  "language_info": {
   "codemirror_mode": {
    "name": "ipython",
    "version": 3
   },
   "file_extension": ".py",
   "mimetype": "text/x-python",
   "name": "python",
   "nbconvert_exporter": "python",
   "pygments_lexer": "ipython3",
   "version": "3.7.3"
  }
 },
 "nbformat": 4,
 "nbformat_minor": 2
}
