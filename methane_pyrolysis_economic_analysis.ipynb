{
 "cells": [
  {
   "cell_type": "code",
   "execution_count": 1,
   "metadata": {},
   "outputs": [],
   "source": [
    "import matplotlib.pyplot as plt\n",
    "import numpy as np\n",
    "import pandas as pd\n",
    "%matplotlib inline\n",
    "plt.rcParams['savefig.dpi'] = 1200\n",
    "plt.rcParams[\"figure.figsize\"] = [10,10]"
   ]
  },
  {
   "cell_type": "markdown",
   "metadata": {},
   "source": [
    "### Molecular weight of raw materials fed to the shaft furnace"
   ]
  },
  {
   "cell_type": "code",
   "execution_count": 2,
   "metadata": {},
   "outputs": [],
   "source": [
    "mol_weight_fe=55.845 #in grams\n",
    "mol_weight_fe2o3=159.688 #in grams \n",
    "mol_weight_Sio2=60.0843 #in grams\n",
    "mol_weight_al2o3=101.9613 #in grams\n",
    "mol_weight_feo=71.844 #in grams\n",
    "mol_weight_H2=2.01588 #in grams\n",
    "mol_weight_H2O=18.0153 #in grams\n",
    "mol_weight_cao=56.077#in grams\n",
    "mol_weight_mgo=40.3044 #in grams\n",
    "mol_weight_al2o3=101.9613 #in grams"
   ]
  },
  {
   "cell_type": "code",
   "execution_count": 3,
   "metadata": {},
   "outputs": [],
   "source": [
    "h2_prod_yr=200000000 #in kg per year "
   ]
  },
  {
   "cell_type": "code",
   "execution_count": 4,
   "metadata": {},
   "outputs": [],
   "source": [
    "# Plant is operational 95% of the time in an year \n",
    "operating_hours=365*24*0.95 "
   ]
  },
  {
   "cell_type": "code",
   "execution_count": 5,
   "metadata": {},
   "outputs": [],
   "source": [
    "h2_prod_hr=h2_prod_yr/operating_hours"
   ]
  },
  {
   "cell_type": "markdown",
   "metadata": {},
   "source": [
    "![title](reactor_config.jpg)"
   ]
  },
  {
   "cell_type": "markdown",
   "metadata": {},
   "source": [
    "\n",
    "## Stochiometric calculations for the amount of Hydrogen required for reduction of iron\n",
    "\n",
    "Iron ore is reducd by hydrogen at a temperature of 800-900 C in an endothermic reaction using 99.5 kJ/mol.<br />\n",
    "$Fe_{2}O_{3}+ 3H_{2}---> 2Fe + 3H_{2}O$\n",
    "\n"
   ]
  },
  {
   "cell_type": "code",
   "execution_count": 6,
   "metadata": {},
   "outputs": [
    {
     "name": "stdout",
     "output_type": "stream",
     "text": [
      "Hydrogen required to produce 1 ton of iron in kg/ton of iron: 54.146655922643035\n"
     ]
    }
   ],
   "source": [
    "# to produce 1 mole of iron 2/3 rd mole of hydrogen are required\n",
    "H2_per_mol=3/2 \n",
    "# Weight of H2 for producing one mole of Fe in gms\n",
    "H2_weight=(H2_per_mol)*mol_weight_H2 \n",
    "# Number of moles in 1 ton of Fe\n",
    "mol_per_ton_fe=(1000000)/mol_weight_fe\n",
    "# Weight of hydrogen in kg to reduce 1 ton of Fe2O3\n",
    "h2_per_ton_steel=(H2_weight*mol_per_ton_fe)/1000 \n",
    "\n",
    "print(\"Hydrogen required to produce 1 ton of iron in kg/ton of iron:\",h2_per_ton_steel)"
   ]
  },
  {
   "cell_type": "markdown",
   "metadata": {},
   "source": [
    "### Hydrogen required for reduction of iron oxide for  1 ton of Fe production (Actual)\n",
    " Actual amount of hydrogen entering the shaft furnace is higher than the stoichiometric value.The ration between the actual value and the stoichiometric value is defined as lambda_h2 in these calculations. The graph below shows the variation of mass flow rate of hydrogen with lamda_h2."
   ]
  },
  {
   "cell_type": "code",
   "execution_count": 7,
   "metadata": {},
   "outputs": [
    {
     "name": "stdout",
     "output_type": "stream",
     "text": [
      "Amount of actual hydrogen required for reduction of iron oxide to produce 1 ton of iron in kg : 79.59558420628527\n"
     ]
    }
   ],
   "source": [
    "#Excess hydrogen fed in the dri shaft furnace for complete reduction of iron ore \n",
    "lambda_h2=1.47\n",
    "\n",
    "h2_per_ton_actual=(h2_per_ton_steel*lambda_h2) \n",
    "print(\"Amount of actual hydrogen required for reduction of iron oxide to produce 1 ton of iron in kg :\",\n",
    "h2_per_ton_actual)"
   ]
  },
  {
   "cell_type": "code",
   "execution_count": 8,
   "metadata": {},
   "outputs": [
    {
     "name": "stdout",
     "output_type": "stream",
     "text": [
      "301.9348961440931\n"
     ]
    }
   ],
   "source": [
    "### Calculate the amount of steel produced per hour \n",
    "\n",
    "steel_prod_hr=h2_prod_hr/h2_per_ton_actual\n",
    "print(steel_prod_hr)"
   ]
  },
  {
   "cell_type": "code",
   "execution_count": 9,
   "metadata": {},
   "outputs": [],
   "source": [
    "## Steel produced annually\n",
    "steel_prod_yr=steel_prod_hr*operating_hours\n",
    "steel_prod_yr_MT=steel_prod_yr/10**6\n"
   ]
  },
  {
   "cell_type": "markdown",
   "metadata": {},
   "source": [
    "![title](mass_energy_balance_bubble_column.jpg)"
   ]
  },
  {
   "cell_type": "markdown",
   "metadata": {},
   "source": [
    "## Reactor specific data "
   ]
  },
  {
   "cell_type": "code",
   "execution_count": 10,
   "metadata": {},
   "outputs": [],
   "source": [
    "T_reactor=1200 #in C\n",
    "\n",
    "conversion_meth=0.90 # for the selected configuration\n",
    "\n",
    "met_feed_rate=1837 #mol/sec\n",
    "\n",
    "#Multiplied by the molecular weight of methane\n",
    "met_feed_rate_kg=met_feed_rate*0.016 \n",
    "\n",
    "\n",
    "met_feed_rate_kg_hr=met_feed_rate_kg*3600 \n",
    "met_feed_tls=met_feed_rate_kg_hr/steel_prod_hr\n",
    "\n",
    "#Reactor diameter\n",
    "dia_reac=5.21\n",
    "\n",
    "\n",
    "len_reac=8.66\n",
    "\n",
    "ratio=len_reac/dia_reac\n",
    "vol_reac=(3.14*dia_reac*dia_reac*len_reac)/4\n",
    "\n",
    "\n",
    "p_reac_bot=19.1\n",
    "p_reac_top=15.3\n",
    "\n",
    "gas_holdup_bot=0.22\n",
    "gas_holdup_top=0.32\n",
    "gas_holdup_avg=0.294\n",
    "\n",
    "v_metal=vol_reac*(1-gas_holdup_avg)\n",
    "\n"
   ]
  },
  {
   "cell_type": "markdown",
   "metadata": {},
   "source": [
    "### Carbon produced during the pyrolysis"
   ]
  },
  {
   "cell_type": "code",
   "execution_count": 11,
   "metadata": {},
   "outputs": [],
   "source": [
    "carbon_prod_yr=3*h2_prod_yr # in kg/year\n",
    "carbon_prod_yr_MT=carbon_prod_yr/10**6 #in kt/annum"
   ]
  },
  {
   "cell_type": "code",
   "execution_count": 12,
   "metadata": {},
   "outputs": [
    {
     "data": {
      "text/plain": [
       "72098.05335255948"
      ]
     },
     "execution_count": 12,
     "metadata": {},
     "output_type": "execute_result"
    }
   ],
   "source": [
    "carbon_prod_hr=carbon_prod_yr/operating_hours\n",
    "carbon_prod_hr"
   ]
  },
  {
   "cell_type": "markdown",
   "metadata": {},
   "source": [
    "### Enthalpy of carbon \n",
    "https://webbook.nist.gov/cgi/cbook.cgi?ID=C7440440&Type=JANAFG&Plot=on\n",
    "A*t + B*t2/2 + C*t3/3 + D*t4/4 − E/t + F − H\n",
    "\n",
    "It is assumed that 75% of the energy going out from th carbon stream is recovered by passing the incoming natural gas stream through the hot carbon bed. The outlet temperature should not be more than 800 C, otherwise natural gas pyrolysis will start before entering the bubble column reactor."
   ]
  },
  {
   "cell_type": "code",
   "execution_count": 13,
   "metadata": {},
   "outputs": [],
   "source": [
    "\n",
    "t=(T_reactor+273)/1000\n",
    "t_amb=(25+273)/1000\n",
    "\n",
    "# It is assumed that the carbon deposited at the top of the molten metal is at the same temperature as the reactor \n",
    "def carbon_enthalpy(temp):\n",
    "    A=21.17510\n",
    "    B=-0.812428\n",
    "    C=0.448537\n",
    "    D=-0.043256\n",
    "    E=-0.013103\n",
    "    F=710.3470\n",
    "    G=183.8734\n",
    "    H=716.6690\n",
    "#Enthalpy is given in kJ/mol by the shomate equation\n",
    "    H_carbon=(A*(temp) + (B*temp**2)/2+ (C*temp**3)/3) + ((D*temp**4)/4)-(E/temp)+ F-H\n",
    "    return H_carbon\n",
    "H_carbon_si_perkg=(carbon_enthalpy(t)/0.012)\n",
    "H_carbon_total_KWh=(H_carbon_si_perkg*carbon_prod_hr)/3600\n",
    "# calculate based on 1 ton of liquid steel \n",
    "H_carbon_tls=H_carbon_total_KWh/steel_prod_hr #in KWh\n",
    "\n"
   ]
  },
  {
   "cell_type": "markdown",
   "metadata": {},
   "source": [
    "### Enthalpy of hydrogen exiting the reactor \n",
    "H° − H°298.15= A*t + B*t2/2 + C*t3/3 + D*t4/4 − E/t + F − H\n",
    "source : https://webbook.nist.gov/cgi/cbook.cgi?ID=C1333740&Mask=1&Type=JANAFG&Plot=on"
   ]
  },
  {
   "cell_type": "code",
   "execution_count": 14,
   "metadata": {},
   "outputs": [
    {
     "data": {
      "text/plain": [
       "118226.74078271748"
      ]
     },
     "execution_count": 14,
     "metadata": {},
     "output_type": "execute_result"
    }
   ],
   "source": [
    "A_h=18.563083\n",
    "B_h=12.257357\n",
    "C_h=-2.859786\n",
    "D_h=0.268238\n",
    "E_h=1.977990\n",
    "F_h=-1.147438\n",
    "G_h=156.288133\n",
    "H_h=0\n",
    "\n",
    "H_hydrogen=A_h*(t) + (B_h*t**2)/2+ (C_h*t**3)/3 + ((D_h*t**4)/4)-(E_h/t)+ F_h-H_h\n",
    "H_hydrogen_si_perkg=H_hydrogen/0.002\n",
    "H_hydrogen_total= ((H_hydrogen_si_perkg*h2_prod_hr)/3600)\n",
    "\n",
    "H_hydrogen_total"
   ]
  },
  {
   "cell_type": "markdown",
   "metadata": {},
   "source": [
    "### Energy required to heat methane \n",
    "\n",
    "Source : https://webbook.nist.gov/cgi/cbook.cgi?ID=C74828&Units=SI&Mask=1&Type=JANAFG&Plot=on\n"
   ]
  },
  {
   "cell_type": "code",
   "execution_count": 15,
   "metadata": {},
   "outputs": [],
   "source": [
    "A_m=85.81217\n",
    "B_m=11.26467\n",
    "C_m=-2.114146\n",
    "D_m=0.138190\n",
    "E_m=-26.42221\n",
    "F_m=-153.5327\n",
    "G_m=224.4143\n",
    "H_m=-74.87310"
   ]
  },
  {
   "cell_type": "code",
   "execution_count": 16,
   "metadata": {},
   "outputs": [],
   "source": [
    "H_methane=((A_m*(t) + (B_m*t**2)/2+ (C_m*t**3)/3) + ((D_m*t**4)/4)-(E_m/t)+ F_m-H_m)\n",
    "H_methane_si_perkg=(H_methane/0.016)\n",
    "H_methane_total=((H_methane_si_perkg*met_feed_rate_kg_hr)/3600)"
   ]
  },
  {
   "cell_type": "markdown",
   "metadata": {},
   "source": [
    "### Reaction enthalpy calculation\n",
    "CH<sub>4</sub>---->>  C+2H<sub>2</sub>"
   ]
  },
  {
   "cell_type": "code",
   "execution_count": 17,
   "metadata": {},
   "outputs": [],
   "source": [
    "H_reac=74.5 #kj/mole\n",
    "H_reac_kg=H_reac/0.016"
   ]
  },
  {
   "cell_type": "code",
   "execution_count": 18,
   "metadata": {},
   "outputs": [
    {
     "data": {
      "text/plain": [
       "123170.85"
      ]
     },
     "execution_count": 18,
     "metadata": {},
     "output_type": "execute_result"
    }
   ],
   "source": [
    "H_reac_total=((met_feed_rate_kg_hr*H_reac_kg*conversion_meth)/3600)\n",
    "H_reac_total"
   ]
  },
  {
   "cell_type": "markdown",
   "metadata": {},
   "source": [
    "### Energy required per hour in BC reactor"
   ]
  },
  {
   "cell_type": "code",
   "execution_count": 19,
   "metadata": {},
   "outputs": [
    {
     "data": {
      "text/plain": [
       "390.85158768805695"
      ]
     },
     "execution_count": 19,
     "metadata": {},
     "output_type": "execute_result"
    }
   ],
   "source": [
    "  # 75% of the outgoing energy from the carbon stream is recovered, \n",
    "    # so only 25 % of the outgoing energy\n",
    "    # needs to be supplied.\n",
    "H_total_per_hr=(H_reac_total+H_methane_total+H_hydrogen_total+(H_carbon_total_KWh)*0.25)\n",
    "H_total_per_hr_MWh=(H_total_per_hr/1000)\n",
    "H_total_per_hr_MWh"
   ]
  },
  {
   "cell_type": "markdown",
   "metadata": {},
   "source": [
    "### Total energy requirement per ton of steel in BC reactor"
   ]
  },
  {
   "cell_type": "code",
   "execution_count": 20,
   "metadata": {},
   "outputs": [],
   "source": [
    "H_reac_tls=H_total_per_hr_MWh/steel_prod_hr"
   ]
  },
  {
   "cell_type": "code",
   "execution_count": 21,
   "metadata": {},
   "outputs": [
    {
     "data": {
      "text/plain": [
       "1.294489615739977"
      ]
     },
     "execution_count": 21,
     "metadata": {},
     "output_type": "execute_result"
    }
   ],
   "source": [
    "H_reac_tls"
   ]
  },
  {
   "cell_type": "markdown",
   "metadata": {},
   "source": [
    " "
   ]
  },
  {
   "cell_type": "code",
   "execution_count": 22,
   "metadata": {},
   "outputs": [
    {
     "data": {
      "text/plain": [
       "'ng_cal=42000 # Kj/kg\\nextra_ng_required_hr=((H_total_per_hr*3600)/ng_cal)\\nextra_ng_required_tls=extra_ng_required_hr/steel_prod_hr'"
      ]
     },
     "execution_count": 22,
     "metadata": {},
     "output_type": "execute_result"
    }
   ],
   "source": [
    "\"\"\"ng_cal=42000 # Kj/kg\n",
    "extra_ng_required_hr=((H_total_per_hr*3600)/ng_cal)\n",
    "extra_ng_required_tls=extra_ng_required_hr/steel_prod_hr\"\"\""
   ]
  },
  {
   "cell_type": "code",
   "execution_count": 23,
   "metadata": {},
   "outputs": [],
   "source": [
    "#print(extra_ng_required_hr)\n",
    "#print(extra_ng_required_tls)# in kg/tls"
   ]
  },
  {
   "cell_type": "code",
   "execution_count": 24,
   "metadata": {},
   "outputs": [],
   "source": [
    "total_ng_req_tls_MMBTU=(met_feed_tls/20)"
   ]
  },
  {
   "cell_type": "code",
   "execution_count": 25,
   "metadata": {},
   "outputs": [
    {
     "data": {
      "text/plain": [
       "17.522187953641414"
      ]
     },
     "execution_count": 25,
     "metadata": {},
     "output_type": "execute_result"
    }
   ],
   "source": [
    "total_ng_req_tls_MMBTU"
   ]
  },
  {
   "cell_type": "markdown",
   "metadata": {},
   "source": [
    "## Liquid tin thermophysical property calculation\n",
    "\n",
    "#### Reference : https://link.springer.com/content/pdf/10.1134/S0036029518020143.pdf"
   ]
  },
  {
   "cell_type": "code",
   "execution_count": 26,
   "metadata": {},
   "outputs": [
    {
     "name": "stdout",
     "output_type": "stream",
     "text": [
      "32856.068 32.856068 278.2761751503346\n",
      "278.27617515033455\n"
     ]
    }
   ],
   "source": [
    "T1=505\n",
    "#Calculation of delta h in j/mol\n",
    "\n",
    "h1=-5855.135+15.961*T1+((18.8702/1000)*T1*T1)-(6.2472334*10**-6*T1*T1*T1)-(123920/T1) \n",
    "\n",
    "h1_j_g=h1/118.07\n",
    "\n",
    "T2=800\n",
    "\n",
    "h2=9496.31+8.2590486*T2+((16.814429/1000)*T2*T2)-(5.24626*10**-6*(1/T2**3))-(2162488/T2)\n",
    "\n",
    "T3=1200\n",
    "\n",
    "h3=-1285.372+28.4512*T3\n",
    "\n",
    "H=h3\n",
    "H_kj=H/1000 # in kJ/mol\n",
    "H_kj_g=(H_kj)/118.07\n",
    "H_kj_kg=H_kj_g*1000\n",
    "\n",
    "print(H, H_kj,H_kj_kg)\n",
    "\n",
    "#### Heat required for heating tin inside the bubble column reactor from 298 K to T_final\n",
    "\n",
    "T_final=T_reactor\n",
    "# Converting kj/mol with the molecular weight of tin\n",
    "# Converting the weight to get kJ/kg\n",
    "H_tin=((-1285.372+28.4512*T_final)/118.07)\n",
    "print(H_tin)\n",
    "\n"
   ]
  },
  {
   "cell_type": "markdown",
   "metadata": {},
   "source": [
    "### Density variation of liquid tin with changing temperature\n",
    "\n",
    "Reference : https://sci-hub.se/https://doi.org/10.1063/1.3467496"
   ]
  },
  {
   "cell_type": "code",
   "execution_count": 27,
   "metadata": {},
   "outputs": [],
   "source": [
    "c3=6979 #kg/m3\n",
    "c4=0.652 \n",
    "t_ref=505.08\n",
    "rho_final=(c3-c4*(T_final-t_ref))"
   ]
  },
  {
   "cell_type": "markdown",
   "metadata": {},
   "source": [
    "### Calculation of weight of liquid tin "
   ]
  },
  {
   "cell_type": "code",
   "execution_count": 28,
   "metadata": {},
   "outputs": [],
   "source": [
    "weight_tin=(rho_final*v_metal)"
   ]
  },
  {
   "cell_type": "markdown",
   "metadata": {},
   "source": [
    "### Capital cost of the metal\n",
    "Source : http://www.metalary.com/tin-price/"
   ]
  },
  {
   "cell_type": "code",
   "execution_count": 29,
   "metadata": {},
   "outputs": [
    {
     "name": "stdout",
     "output_type": "stream",
     "text": [
      "Cost of tin in million Euros 12.68337847747413\n"
     ]
    }
   ],
   "source": [
    "weight_perkg=14918.53/1000 # Converted to Euros \n",
    "tin_cost=(weight_tin*weight_perkg)\n",
    "#Cost of tin in million Euros\n",
    "million=10**6\n",
    "tin_cost_million=tin_cost/million\n",
    "print(\"Cost of tin in million Euros\",tin_cost_million)"
   ]
  },
  {
   "cell_type": "markdown",
   "metadata": {},
   "source": [
    "## Heat required to raise the temperature of tin to 1200 C/1473 K\n",
    "This energy is not cyclic requirement, as the molten steel does not change its state. "
   ]
  },
  {
   "cell_type": "code",
   "execution_count": 30,
   "metadata": {},
   "outputs": [],
   "source": [
    "Heat_tin=(H_tin*weight_tin)"
   ]
  },
  {
   "cell_type": "markdown",
   "metadata": {},
   "source": [
    "## Total energy consumption of HDRI-EAF system"
   ]
  },
  {
   "cell_type": "code",
   "execution_count": 31,
   "metadata": {},
   "outputs": [],
   "source": [
    "dri_elec=284.0006036823013 #KWh\n",
    "EL4=445.3464\n",
    "el_heat_reac=1.4337274146203023\n",
    "E_total=((H_reac_tls*1000)+EL4 +dri_elec)\n",
    "E_total_MWh=E_total/1000"
   ]
  },
  {
   "cell_type": "code",
   "execution_count": 32,
   "metadata": {},
   "outputs": [
    {
     "name": "stdout",
     "output_type": "stream",
     "text": [
      "Amount of energy required per ton of steel 2.023836619422278\n"
     ]
    }
   ],
   "source": [
    "print(\"Amount of energy required per ton of steel\",E_total_MWh)"
   ]
  },
  {
   "cell_type": "code",
   "execution_count": 33,
   "metadata": {},
   "outputs": [],
   "source": [
    "E_total_MWH_yr=E_total_MWh*steel_prod_yr #in MWh\n"
   ]
  },
  {
   "cell_type": "code",
   "execution_count": 34,
   "metadata": {},
   "outputs": [],
   "source": [
    "Elec_per_yr=(EL4/1000)*steel_prod_yr #in MWh\n",
    "\n"
   ]
  },
  {
   "cell_type": "code",
   "execution_count": 35,
   "metadata": {},
   "outputs": [
    {
     "name": "stdout",
     "output_type": "stream",
     "text": [
      "5085298.737621341 1119022.881585517\n"
     ]
    }
   ],
   "source": [
    "print(E_total_MWH_yr,Elec_per_yr)"
   ]
  },
  {
   "cell_type": "markdown",
   "metadata": {},
   "source": [
    "## CO2 emission\n",
    "The emissions are generated by burning methane in the gas fired heater and by using electricity from the grid. "
   ]
  },
  {
   "cell_type": "code",
   "execution_count": 36,
   "metadata": {},
   "outputs": [
    {
     "data": {
      "text/plain": [
       "0"
      ]
     },
     "execution_count": 36,
     "metadata": {},
     "output_type": "execute_result"
    }
   ],
   "source": [
    "methane_ems=2.75 # amount of CO2 released by burning 1 kg of CH4\n",
    "extra_ng_required_tls=0\n",
    "reac_CO2=extra_ng_required_tls*methane_ems #kg/tls\n",
    "extra_ng_required_tls\n"
   ]
  },
  {
   "cell_type": "code",
   "execution_count": 37,
   "metadata": {},
   "outputs": [],
   "source": [
    "#print(reac_CO2)"
   ]
  },
  {
   "cell_type": "markdown",
   "metadata": {},
   "source": [
    "Institute for Global Environmental Strategies (2020). List of Grid Emission Factors, version 10.8. Available at: https://pub.iges.or.jp/pub/iges-list-grid-emission-factors\n",
    "All copyrights are reserved. The source must be clearly stated when this database is reproduced or transmitted in any form or by any means.\n",
    "\n",
    "Value for Germany taken from : https://www.carbonfootprint.com/docs/2018_8_electricity_factors_august_2018_-_online_sources.pdf"
   ]
  },
  {
   "cell_type": "code",
   "execution_count": 38,
   "metadata": {},
   "outputs": [],
   "source": [
    "grid_ef=0.445 #kgCo2/KWh\n",
    "grid_emission_factor=np.repeat(grid_ef,25).tolist()"
   ]
  },
  {
   "cell_type": "code",
   "execution_count": 39,
   "metadata": {},
   "outputs": [],
   "source": [
    "EAF_emission_chemical_rkn=58 # 0.058 TCO2/TLS\n",
    "EAF_emission=[]\n",
    "for i in range(len(grid_emission_factor)):\n",
    "    EAF_emission.append(EL4*grid_emission_factor[i] + (EAF_emission_chemical_rkn))"
   ]
  },
  {
   "cell_type": "code",
   "execution_count": 40,
   "metadata": {},
   "outputs": [],
   "source": [
    "system_emission=[]\n",
    "for i in range(len(EAF_emission)):\n",
    "    system_emission.append((reac_CO2+EAF_emission[i])/1000+(E_total_MWh*grid_emission_factor[i]))"
   ]
  },
  {
   "cell_type": "code",
   "execution_count": 41,
   "metadata": {},
   "outputs": [
    {
     "name": "stdout",
     "output_type": "stream",
     "text": [
      "Emission generated from a Methane pyrolysis based HDRI-EAF plant for steel production has an emission intensity of  [1.1567864436429138, 1.1567864436429138, 1.1567864436429138, 1.1567864436429138, 1.1567864436429138, 1.1567864436429138, 1.1567864436429138, 1.1567864436429138, 1.1567864436429138, 1.1567864436429138, 1.1567864436429138, 1.1567864436429138, 1.1567864436429138, 1.1567864436429138, 1.1567864436429138, 1.1567864436429138, 1.1567864436429138, 1.1567864436429138, 1.1567864436429138, 1.1567864436429138, 1.1567864436429138, 1.1567864436429138, 1.1567864436429138, 1.1567864436429138, 1.1567864436429138] kgCO2/tls\n"
     ]
    }
   ],
   "source": [
    "print(\"Emission generated from a Methane pyrolysis based HDRI-EAF plant for steel production has an emission intensity of \",system_emission,\"kgCO2/tls\")"
   ]
  },
  {
   "cell_type": "code",
   "execution_count": 42,
   "metadata": {},
   "outputs": [
    {
     "data": {
      "text/plain": [
       "2512702.2057111426"
      ]
     },
     "execution_count": 42,
     "metadata": {},
     "output_type": "execute_result"
    }
   ],
   "source": [
    "annual_emission_mtco2=[]\n",
    "for i in range(len(system_emission)):\n",
    "    annual_emission_mtco2.append((system_emission[i]*steel_prod_yr)/10**6)\n",
    "steel_prod_yr"
   ]
  },
  {
   "cell_type": "markdown",
   "metadata": {},
   "source": [
    "## Economic analysis     "
   ]
  },
  {
   "cell_type": "markdown",
   "metadata": {},
   "source": [
    "The costs of the proposed system are evaluated separately as capital costs and operational costs. The capital costs include the cost of the major equipment used for steel production using hydrogen direct reduction of iron ore. Operational costs include the cost of raw materials used for running the plant. Energy resources like natural gas and electricity are also accounted in the operational cost. Some assumptions regarding the lifetime of the plant and equipment, their salvage value are made to conduct a discounted cash flow analysis. Revenue is generated by selling steel and carbon produced by the system. Reduced carbon emissions are accounted as revenue as well. "
   ]
  },
  {
   "cell_type": "code",
   "execution_count": 43,
   "metadata": {},
   "outputs": [],
   "source": [
    "# It is assumed that the life of the plant is 25 years\n",
    "plant_life=25"
   ]
  },
  {
   "cell_type": "markdown",
   "metadata": {},
   "source": [
    "## Sensitivity analysis parameters"
   ]
  },
  {
   "cell_type": "code",
   "execution_count": 44,
   "metadata": {},
   "outputs": [
    {
     "data": {
      "text/plain": [
       "'carbon_price=np.repeat(100,plant_life) \\nng_price=np.repeat(3,plant_life) #USD/MMBTU\\niron_ore_cost=np.repeat(90,plant_life) #usd/ton\\nelectricity_cost=np.repeat(94.15,plant_life) #USD/MWh\\nemission_cost=np.repeat(50,plant_life) # USD 30 per ton \\ncarbon_steel_price=np.repeat(700,plant_life)\\ntax_rate=0.35'"
      ]
     },
     "execution_count": 44,
     "metadata": {},
     "output_type": "execute_result"
    }
   ],
   "source": [
    "\"\"\"carbon_price=np.repeat(100,plant_life) \n",
    "ng_price=np.repeat(3,plant_life) #USD/MMBTU\n",
    "iron_ore_cost=np.repeat(90,plant_life) #usd/ton\n",
    "electricity_cost=np.repeat(94.15,plant_life) #USD/MWh\n",
    "emission_cost=np.repeat(50,plant_life) # USD 30 per ton \n",
    "carbon_steel_price=np.repeat(700,plant_life)\n",
    "tax_rate=0.35\"\"\""
   ]
  },
  {
   "cell_type": "markdown",
   "metadata": {},
   "source": [
    "### Capital costs "
   ]
  },
  {
   "cell_type": "markdown",
   "metadata": {},
   "source": [
    "Includes both the inside battery limit costs (ISBL). Installed cost of equipment is calculated with the lang factor method. A lang factor of 10 is considered\n",
    "as the plant will be first of its kind to convert the purchased cost of equipment to installed cost of the plant.\n",
    "Purchased cost of major equipment will be calculated in the next sections."
   ]
  },
  {
   "cell_type": "markdown",
   "metadata": {},
   "source": [
    "#### Purchased cost of bubble column reactor\n",
    "It is considered that BC reactor is made of 45 mm thick carbon steel. The cost ofcarbon steel is assumed to be USD 600 /ton. The reactor is lined with refractory (magnesium oxide) layer of 500 mm and the cost of refractory bricks is 400 USD/ton. Fabrication costs are assumed to be 100 USD/ton. "
   ]
  },
  {
   "cell_type": "code",
   "execution_count": 45,
   "metadata": {},
   "outputs": [
    {
     "data": {
      "text/plain": [
       "'steel_density=7700 #kg/m3\\nrefractory_density=2970 #kg/m3\\nsteel_cost=500 #USD/ton\\nrefractory_cost=400 #USD/ton\\ntank_manufacturing=100 #USD/ton\\nrefractory_labour=50 #USD/ton\\nvol_steel_reactor=(np.pi*((dia_reac/2+0.045)**2-(dia_reac/2)**2)*len_reac)\\nvol_refractory=(np.pi*((dia_reac/2+0.4)**2-(dia_reac/2)**2)*len_reac)\\nweight_steel_reactor=((vol_steel_reactor*steel_density)/1000)\\nweight_refractory=((vol_refractory*refractory_density)/1000)'"
      ]
     },
     "execution_count": 45,
     "metadata": {},
     "output_type": "execute_result"
    }
   ],
   "source": [
    "\"\"\"steel_density=7700 #kg/m3\n",
    "refractory_density=2970 #kg/m3\n",
    "steel_cost=500 #USD/ton\n",
    "refractory_cost=400 #USD/ton\n",
    "tank_manufacturing=100 #USD/ton\n",
    "refractory_labour=50 #USD/ton\n",
    "vol_steel_reactor=(np.pi*((dia_reac/2+0.045)**2-(dia_reac/2)**2)*len_reac)\n",
    "vol_refractory=(np.pi*((dia_reac/2+0.4)**2-(dia_reac/2)**2)*len_reac)\n",
    "weight_steel_reactor=((vol_steel_reactor*steel_density)/1000)\n",
    "weight_refractory=((vol_refractory*refractory_density)/1000)\"\"\""
   ]
  },
  {
   "cell_type": "code",
   "execution_count": 46,
   "metadata": {},
   "outputs": [],
   "source": [
    "#reactor_cost=((weight_steel_reactor*steel_cost)+(weight_refractory*refractory_cost)+(weight_steel_reactor*100)+(weight_refractory*50))/10**6+(tin_cost_million)"
   ]
  },
  {
   "cell_type": "code",
   "execution_count": 47,
   "metadata": {},
   "outputs": [],
   "source": [
    "# Cost is calculated in USD Million\n",
    "#reactor_cost"
   ]
  },
  {
   "cell_type": "markdown",
   "metadata": {},
   "source": [
    "#### Cost of EAF \n",
    "The cost of an Electric arc furnace is related with its capacity. USD 80 /per ton /year.\n",
    "Value taken from IEA estimates. \n",
    "Link : https://iea-etsap.org/E-TechDS/PDF/I02-Iron&Steel-GS-AD-gct.pdf\n"
   ]
  },
  {
   "cell_type": "code",
   "execution_count": 48,
   "metadata": {},
   "outputs": [
    {
     "data": {
      "text/plain": [
       "'EAF_cost_per_ton_yr=112\\n# The value includes installation costs \\n#https://iea-etsap.org/E-TechDS/PDF/I02-Iron&Steel-GS-AD-gct.pdf\\nEAF_total_cost=(EAF_cost_per_ton_yr*steel_prod_yr)/10**6\\nEAF_total_cost'"
      ]
     },
     "execution_count": 48,
     "metadata": {},
     "output_type": "execute_result"
    }
   ],
   "source": [
    "\"\"\"EAF_cost_per_ton_yr=112\n",
    "# The value includes installation costs \n",
    "#https://iea-etsap.org/E-TechDS/PDF/I02-Iron&Steel-GS-AD-gct.pdf\n",
    "EAF_total_cost=(EAF_cost_per_ton_yr*steel_prod_yr)/10**6\n",
    "EAF_total_cost\"\"\""
   ]
  },
  {
   "cell_type": "markdown",
   "metadata": {},
   "source": [
    "#### DRI Cost \n",
    "Link : https://www2.deloitte.com/content/dam/Deloitte/global/Documents/Manufacturing/gx_remaking%20the%20global%20steel%20industry_06_13.pdf"
   ]
  },
  {
   "cell_type": "code",
   "execution_count": 49,
   "metadata": {},
   "outputs": [
    {
     "data": {
      "text/plain": [
       "'DRI_cost_per_ton_yr=275 #USD/ton/per year\\n# Cost of new DRI plant with 2 MT/annum =5.5 million euros or 6 million USD\\n# A reduction in cost is considered as larger plants have smaller costs. (0.6)\\n# The plant costs include all the costs including ISBL, OSBL, area development etc \\n# no Lang factor multiplication is required for such a plant\\n#https://www.voestalpine.com/group/en/media/press-releases/2013-07-04-\\n#voestalpine-entrusts-construction-of-the-direct-reduction-plant-in-texas-to-siemens-and-midrex/\\nDRI_total_cost=(DRI_cost_per_ton_yr*steel_prod_yr)/10**6\\nDRI_total_cost'"
      ]
     },
     "execution_count": 49,
     "metadata": {},
     "output_type": "execute_result"
    }
   ],
   "source": [
    "\"\"\"DRI_cost_per_ton_yr=275 #USD/ton/per year\n",
    "# Cost of new DRI plant with 2 MT/annum =5.5 million euros or 6 million USD\n",
    "# A reduction in cost is considered as larger plants have smaller costs. (0.6)\n",
    "# The plant costs include all the costs including ISBL, OSBL, area development etc \n",
    "# no Lang factor multiplication is required for such a plant\n",
    "#https://www.voestalpine.com/group/en/media/press-releases/2013-07-04-\n",
    "#voestalpine-entrusts-construction-of-the-direct-reduction-plant-in-texas-to-siemens-and-midrex/\n",
    "DRI_total_cost=(DRI_cost_per_ton_yr*steel_prod_yr)/10**6\n",
    "DRI_total_cost\"\"\""
   ]
  },
  {
   "cell_type": "markdown",
   "metadata": {},
   "source": [
    "#### Pressure swing adsorber "
   ]
  },
  {
   "cell_type": "code",
   "execution_count": 50,
   "metadata": {},
   "outputs": [
    {
     "data": {
      "text/plain": [
       "'PSA_cost=20 # Million USD '"
      ]
     },
     "execution_count": 50,
     "metadata": {},
     "output_type": "execute_result"
    }
   ],
   "source": [
    "\"\"\"PSA_cost=20 # Million USD \"\"\""
   ]
  },
  {
   "cell_type": "markdown",
   "metadata": {},
   "source": [
    "#### Gas fired metal furnace \n",
    "https://www.alibaba.com/showroom/gas-melting-furnace.html"
   ]
  },
  {
   "cell_type": "code",
   "execution_count": 51,
   "metadata": {},
   "outputs": [
    {
     "data": {
      "text/plain": [
       "'el_heater_cost=50 #Million USD '"
      ]
     },
     "execution_count": 51,
     "metadata": {},
     "output_type": "execute_result"
    }
   ],
   "source": [
    "\"\"\"el_heater_cost=50 #Million USD \"\"\""
   ]
  },
  {
   "cell_type": "markdown",
   "metadata": {},
   "source": [
    "## System capital cost evaluation"
   ]
  },
  {
   "cell_type": "code",
   "execution_count": 52,
   "metadata": {},
   "outputs": [
    {
     "data": {
      "text/plain": [
       "'lang_factor_reac=10'"
      ]
     },
     "execution_count": 52,
     "metadata": {},
     "output_type": "execute_result"
    }
   ],
   "source": [
    "\"\"\"lang_factor_reac=10\"\"\"\n"
   ]
  },
  {
   "cell_type": "code",
   "execution_count": 53,
   "metadata": {},
   "outputs": [
    {
     "data": {
      "text/plain": [
       "'total_capital_cost=((reactor_cost+PSA_cost)*lang_factor_reac)+(EAF_total_cost+DRI_total_cost+el_heater_cost)'"
      ]
     },
     "execution_count": 53,
     "metadata": {},
     "output_type": "execute_result"
    }
   ],
   "source": [
    "\"\"\"total_capital_cost=((reactor_cost+PSA_cost)*lang_factor_reac)+(EAF_total_cost+DRI_total_cost+el_heater_cost)\"\"\""
   ]
  },
  {
   "cell_type": "code",
   "execution_count": 54,
   "metadata": {},
   "outputs": [
    {
     "data": {
      "text/plain": [
       "'print(\"The ISBL cost for the system is \",total_capital_cost,\"Million USD \")'"
      ]
     },
     "execution_count": 54,
     "metadata": {},
     "output_type": "execute_result"
    }
   ],
   "source": [
    "\"\"\"print(\"The ISBL cost for the system is \",total_capital_cost,\"Million USD \")\"\"\""
   ]
  },
  {
   "cell_type": "markdown",
   "metadata": {},
   "source": [
    "## Operational cost "
   ]
  },
  {
   "cell_type": "markdown",
   "metadata": {},
   "source": [
    "The operational costs include the use of raw material and resources, as well as cost of the consumables used in the EAF and DRI. It also includes energy resources used by the plant for production.\n",
    "Electricity cost reference : https://reinhardbuetikofer.eu/wp-content/uploads/2017/09/Matthes-2017-Memo-Electricity-costs-of-energy-intensive-industries-in-Germany-1.pdf"
   ]
  },
  {
   "cell_type": "code",
   "execution_count": 55,
   "metadata": {},
   "outputs": [
    {
     "data": {
      "text/plain": [
       "'m1=1.599 # mass flow rate of iron ore in t/tls\\neaf_op_cost_tls=np.repeat(32,plant_life).tolist() #t/yr of dri\\ndri_op_cost_tls=np.repeat(13,plant_life).tolist() #t/yr of dri\\ntotal_ng_cost=[]\\niron_ore_cost_tls=[]\\nelectricity_cost_tls=[]\\nfor i in range(len(eaf_op_cost_tls)):\\n    total_ng_cost.append(total_ng_req_tls_MMBTU*ng_price[i])\\n    iron_ore_cost_tls.append(m1*iron_ore_cost[i])\\n    electricity_cost_tls.append((electricity_cost[i]*E_total_MWh)/1000)\\n'"
      ]
     },
     "execution_count": 55,
     "metadata": {},
     "output_type": "execute_result"
    }
   ],
   "source": [
    "\"\"\"m1=1.599 # mass flow rate of iron ore in t/tls\n",
    "eaf_op_cost_tls=np.repeat(32,plant_life).tolist() #t/yr of dri\n",
    "dri_op_cost_tls=np.repeat(13,plant_life).tolist() #t/yr of dri\n",
    "total_ng_cost=[]\n",
    "iron_ore_cost_tls=[]\n",
    "electricity_cost_tls=[]\n",
    "for i in range(len(eaf_op_cost_tls)):\n",
    "    total_ng_cost.append(total_ng_req_tls_MMBTU*ng_price[i])\n",
    "    iron_ore_cost_tls.append(m1*iron_ore_cost[i])\n",
    "    electricity_cost_tls.append((electricity_cost[i]*E_total_MWh)/1000)\n",
    "\"\"\"\n"
   ]
  },
  {
   "cell_type": "code",
   "execution_count": 56,
   "metadata": {},
   "outputs": [
    {
     "data": {
      "text/plain": [
       "'operational_cost_annual=[]\\nfor i in range(len(electricity_cost_tls)):\\n    operational_cost_annual.append((((ng_cost[i]+iron_ore_cost_tls[i]+electricity_cost_tls[i]+eaf_op_cost_tls[i]+dri_op_cost_tls[i])*steel_prod_yr)/10**6))'"
      ]
     },
     "execution_count": 56,
     "metadata": {},
     "output_type": "execute_result"
    }
   ],
   "source": [
    "\"\"\"operational_cost_annual=[]\n",
    "for i in range(len(electricity_cost_tls)):\n",
    "    operational_cost_annual.append((((ng_cost[i]+iron_ore_cost_tls[i]+electricity_cost_tls[i]+eaf_op_cost_tls[i]+dri_op_cost_tls[i])*steel_prod_yr)/10**6))\"\"\""
   ]
  },
  {
   "cell_type": "code",
   "execution_count": 57,
   "metadata": {},
   "outputs": [
    {
     "data": {
      "text/plain": [
       "'operational_cost_annual_tls=np.repeat(operational_cost_annual,plant_life)'"
      ]
     },
     "execution_count": 57,
     "metadata": {},
     "output_type": "execute_result"
    }
   ],
   "source": [
    "\"\"\"operational_cost_annual_tls=np.repeat(operational_cost_annual,plant_life)\"\"\"\n"
   ]
  },
  {
   "cell_type": "markdown",
   "metadata": {},
   "source": [
    "## Maintenance cost evaluation\n",
    "\n",
    "As there are very few moving parts in the system, the maintenance cost would not be high and a lower value of 3% of the total capital cost has been assumed per year. "
   ]
  },
  {
   "cell_type": "code",
   "execution_count": 58,
   "metadata": {},
   "outputs": [
    {
     "data": {
      "text/plain": [
       "'maintenance_cost_percentage=0.10 # 10% of the capital cost'"
      ]
     },
     "execution_count": 58,
     "metadata": {},
     "output_type": "execute_result"
    }
   ],
   "source": [
    "\"\"\"maintenance_cost_percentage=0.10 # 10% of the capital cost\"\"\""
   ]
  },
  {
   "cell_type": "code",
   "execution_count": 59,
   "metadata": {},
   "outputs": [
    {
     "data": {
      "text/plain": [
       "'maint_cost_yr=[]\\nfor i in range(len(operational_cost_annual)):\\n    maint_cost_yr.append((maintenance_cost_percentage*total_capital_cost))\\n'"
      ]
     },
     "execution_count": 59,
     "metadata": {},
     "output_type": "execute_result"
    }
   ],
   "source": [
    "\"\"\"maint_cost_yr=[]\n",
    "for i in range(len(operational_cost_annual)):\n",
    "    maint_cost_yr.append((maintenance_cost_percentage*total_capital_cost))\n",
    "\"\"\""
   ]
  },
  {
   "cell_type": "code",
   "execution_count": 60,
   "metadata": {},
   "outputs": [
    {
     "data": {
      "text/plain": [
       "'print(\"Maintenance cost for the plant is :\",maint_cost_yr,\"Million USD\")'"
      ]
     },
     "execution_count": 60,
     "metadata": {},
     "output_type": "execute_result"
    }
   ],
   "source": [
    "\"\"\"print(\"Maintenance cost for the plant is :\",maint_cost_yr,\"Million USD\")\"\"\""
   ]
  },
  {
   "cell_type": "markdown",
   "metadata": {},
   "source": [
    "## Labour cost evaluation \n",
    "A labour cost of 20 USD/tls has been taken for a highly automated plant."
   ]
  },
  {
   "cell_type": "code",
   "execution_count": 61,
   "metadata": {},
   "outputs": [
    {
     "data": {
      "text/plain": [
       "'labour_cost_tls=40 #USD/tls'"
      ]
     },
     "execution_count": 61,
     "metadata": {},
     "output_type": "execute_result"
    }
   ],
   "source": [
    "\"\"\"labour_cost_tls=40 #USD/tls\"\"\""
   ]
  },
  {
   "cell_type": "code",
   "execution_count": 62,
   "metadata": {},
   "outputs": [
    {
     "data": {
      "text/plain": [
       "'labour_cost_yr=np.repeat(((labour_cost_tls*steel_prod_yr)/10**6),plant_life)'"
      ]
     },
     "execution_count": 62,
     "metadata": {},
     "output_type": "execute_result"
    }
   ],
   "source": [
    "\"\"\"labour_cost_yr=np.repeat(((labour_cost_tls*steel_prod_yr)/10**6),plant_life)\"\"\""
   ]
  },
  {
   "cell_type": "code",
   "execution_count": 63,
   "metadata": {},
   "outputs": [
    {
     "data": {
      "text/plain": [
       "'print(\"Labour cost for the plant is :\",labour_cost_yr,\"Million USD\")'"
      ]
     },
     "execution_count": 63,
     "metadata": {},
     "output_type": "execute_result"
    }
   ],
   "source": [
    "\"\"\"print(\"Labour cost for the plant is :\",labour_cost_yr,\"Million USD\")\"\"\""
   ]
  },
  {
   "cell_type": "markdown",
   "metadata": {},
   "source": [
    "## Emission cost evaluation"
   ]
  },
  {
   "cell_type": "code",
   "execution_count": 64,
   "metadata": {},
   "outputs": [
    {
     "data": {
      "text/plain": [
       "'total_emission_cost=[]\\nfor i in range(len(emission_cost)):\\n    total_emission_cost.append(annual_emission_mtco2[i]*emission_cost[i]) # in Million USD'"
      ]
     },
     "execution_count": 64,
     "metadata": {},
     "output_type": "execute_result"
    }
   ],
   "source": [
    "\"\"\"total_emission_cost=[]\n",
    "for i in range(len(emission_cost)):\n",
    "    total_emission_cost.append(annual_emission_mtco2[i]*emission_cost[i]) # in Million USD\"\"\""
   ]
  },
  {
   "cell_type": "markdown",
   "metadata": {},
   "source": [
    "### Revenue estimation\n",
    "In order to consider the revenue from stainless steel production cost of alloys needs to be considered."
   ]
  },
  {
   "cell_type": "code",
   "execution_count": 65,
   "metadata": {},
   "outputs": [
    {
     "data": {
      "text/plain": [
       "'revenue_steel=[]\\nfor i in range(len(carbon_steel_price)):\\n   revenue_steel.append(((carbon_steel_price[i]*steel_prod_yr)/10**6))'"
      ]
     },
     "execution_count": 65,
     "metadata": {},
     "output_type": "execute_result"
    }
   ],
   "source": [
    " # USD/ton\n",
    "\n",
    "\"\"\"revenue_steel=[]\n",
    "for i in range(len(carbon_steel_price)):\n",
    "    revenue_steel.append(((carbon_steel_price[i]*steel_prod_yr)/10**6))\"\"\"\n"
   ]
  },
  {
   "cell_type": "code",
   "execution_count": 66,
   "metadata": {},
   "outputs": [
    {
     "data": {
      "text/plain": [
       "'#USD/ton\\n# Assume that 60% of the carbon produced could be sold\\ncarbon_sold=0.6\\nrevenue_carbon=[]\\n# Revenue generated in Million USD /year \\nfor i in range(len(carbon_price)):\\n    revenue_carbon.append((carbon_price[i]*carbon_prod_yr*carbon_sold)/10**9)'"
      ]
     },
     "execution_count": 66,
     "metadata": {},
     "output_type": "execute_result"
    }
   ],
   "source": [
    "\"\"\"#USD/ton\n",
    "# Assume that 60% of the carbon produced could be sold\n",
    "carbon_sold=0.6\n",
    "revenue_carbon=[]\n",
    "# Revenue generated in Million USD /year \n",
    "for i in range(len(carbon_price)):\n",
    "    revenue_carbon.append((carbon_price[i]*carbon_prod_yr*carbon_sold)/10**9)\"\"\"\n"
   ]
  },
  {
   "cell_type": "code",
   "execution_count": 67,
   "metadata": {},
   "outputs": [
    {
     "data": {
      "text/plain": [
       "'total_revenue_usd_million=[]\\nfor i in range(len(revenue_carbon)):\\n    total_revenue_usd_million.append(revenue_steel[i]+revenue_carbon[i])'"
      ]
     },
     "execution_count": 67,
     "metadata": {},
     "output_type": "execute_result"
    }
   ],
   "source": [
    "\"\"\"total_revenue_usd_million=[]\n",
    "for i in range(len(revenue_carbon)):\n",
    "    total_revenue_usd_million.append(revenue_steel[i]+revenue_carbon[i])\"\"\""
   ]
  },
  {
   "cell_type": "markdown",
   "metadata": {},
   "source": [
    "## Discounted cash flow analysis\n"
   ]
  },
  {
   "cell_type": "code",
   "execution_count": 68,
   "metadata": {},
   "outputs": [
    {
     "data": {
      "text/plain": [
       "'years=np.arange(0,plant_life,1)\\nYears=np.round(years,0).tolist()\\nproduction_steel=np.repeat(steel_prod_yr/10**6,plant_life).tolist()\\nproduction_hydrogen=np.repeat(h2_prod_yr/1000000,plant_life).tolist()\\nannual_emission=annual_emission_mtco2\\nfor i in range(2):\\n    production_steel[i]=0\\n    production_hydrogen[i]=0\\n    annual_emission[i]=0\\n '"
      ]
     },
     "execution_count": 68,
     "metadata": {},
     "output_type": "execute_result"
    }
   ],
   "source": [
    "\"\"\"years=np.arange(0,plant_life,1)\n",
    "Years=np.round(years,0).tolist()\n",
    "production_steel=np.repeat(steel_prod_yr/10**6,plant_life).tolist()\n",
    "production_hydrogen=np.repeat(h2_prod_yr/1000000,plant_life).tolist()\n",
    "annual_emission=annual_emission_mtco2\n",
    "for i in range(2):\n",
    "    production_steel[i]=0\n",
    "    production_hydrogen[i]=0\n",
    "    annual_emission[i]=0\n",
    " \"\"\""
   ]
  },
  {
   "cell_type": "code",
   "execution_count": 69,
   "metadata": {},
   "outputs": [
    {
     "data": {
      "text/plain": [
       "'# Converting revenue\\nrevenue=total_revenue_usd_million\\nrevenue_c=revenue_carbon\\nrevenue_s=revenue_steel\\n\\nrevenue_adj=np.round(revenue, 2)\\ncarbon_revenue=np.round(revenue_c, 2)\\nsteel_revenue=np.round(revenue_s, 2)\\nfor i in range(2):\\n    revenue_c[i]=0\\n    revenue_s[i]=0\\n    revenue[i]=0\\n    carbon_revenue[i]=0\\n    steel_revenue[i]=0'"
      ]
     },
     "execution_count": 69,
     "metadata": {},
     "output_type": "execute_result"
    }
   ],
   "source": [
    "\"\"\"# Converting revenue\n",
    "revenue=total_revenue_usd_million\n",
    "revenue_c=revenue_carbon\n",
    "revenue_s=revenue_steel\n",
    "\n",
    "revenue_adj=np.round(revenue, 2)\n",
    "carbon_revenue=np.round(revenue_c, 2)\n",
    "steel_revenue=np.round(revenue_s, 2)\n",
    "for i in range(2):\n",
    "    revenue_c[i]=0\n",
    "    revenue_s[i]=0\n",
    "    revenue[i]=0\n",
    "    carbon_revenue[i]=0\n",
    "    steel_revenue[i]=0\"\"\""
   ]
  },
  {
   "cell_type": "code",
   "execution_count": 70,
   "metadata": {},
   "outputs": [
    {
     "data": {
      "text/plain": [
       "'capital_cost=np.repeat(0,plant_life).tolist()\\ncapital_cost[0]=total_capital_cost/3\\ncapital_cost[1]=(total_capital_cost)*(2/3)\\nlen(capital_cost)'"
      ]
     },
     "execution_count": 70,
     "metadata": {},
     "output_type": "execute_result"
    }
   ],
   "source": [
    "\"\"\"capital_cost=np.repeat(0,plant_life).tolist()\n",
    "capital_cost[0]=total_capital_cost/3\n",
    "capital_cost[1]=(total_capital_cost)*(2/3)\n",
    "len(capital_cost)\"\"\""
   ]
  },
  {
   "cell_type": "code",
   "execution_count": 71,
   "metadata": {},
   "outputs": [
    {
     "data": {
      "text/plain": [
       "'operational_cost=operational_cost_annual\\nlabour_cost=labour_cost_yr\\nmaintenance_cost=maint_cost_yr\\nemission_cost=total_emission_cost\\n\\nfor i in range(2):\\n    operational_cost[i]=0\\n    labour_cost[i]=0\\n    maintenance_cost[i]=0\\n    emission_cost[i]=0\\n    \\n    '"
      ]
     },
     "execution_count": 71,
     "metadata": {},
     "output_type": "execute_result"
    }
   ],
   "source": [
    "\"\"\"operational_cost=operational_cost_annual\n",
    "labour_cost=labour_cost_yr\n",
    "maintenance_cost=maint_cost_yr\n",
    "emission_cost=total_emission_cost\n",
    "\n",
    "for i in range(2):\n",
    "    operational_cost[i]=0\n",
    "    labour_cost[i]=0\n",
    "    maintenance_cost[i]=0\n",
    "    emission_cost[i]=0\n",
    "    \n",
    "    \"\"\""
   ]
  },
  {
   "cell_type": "code",
   "execution_count": 72,
   "metadata": {},
   "outputs": [
    {
     "data": {
      "text/plain": [
       "'depreciation=(total_capital_cost-0)/plant_life'"
      ]
     },
     "execution_count": 72,
     "metadata": {},
     "output_type": "execute_result"
    }
   ],
   "source": [
    "\"\"\"depreciation=(total_capital_cost-0)/plant_life\"\"\""
   ]
  },
  {
   "cell_type": "code",
   "execution_count": 73,
   "metadata": {},
   "outputs": [
    {
     "data": {
      "text/plain": [
       "'depreciation_cost=[]\\nfor i in range(len(labour_cost_yr)):\\n    if(i<2):\\n        depreciation_cost.append(0)\\n    else:\\n        depreciation_cost.append(depreciation)\\n'"
      ]
     },
     "execution_count": 73,
     "metadata": {},
     "output_type": "execute_result"
    }
   ],
   "source": [
    "\"\"\"depreciation_cost=[]\n",
    "for i in range(len(labour_cost_yr)):\n",
    "    if(i<2):\n",
    "        depreciation_cost.append(0)\n",
    "    else:\n",
    "        depreciation_cost.append(depreciation)\n",
    "\"\"\"\n",
    "    "
   ]
  },
  {
   "cell_type": "markdown",
   "metadata": {},
   "source": [
    "### Tax calculation"
   ]
  },
  {
   "cell_type": "code",
   "execution_count": 74,
   "metadata": {},
   "outputs": [
    {
     "data": {
      "text/plain": [
       "'tax_cost=[]\\nfor i in range(len(labour_cost_yr)):\\n    tax_cost.append((revenue[i]-(operational_cost[i]+labour_cost[i]+maintenance_cost[i]+emission_cost[i]+depreciation_cost[i]))*tax_rate)\\n'"
      ]
     },
     "execution_count": 74,
     "metadata": {},
     "output_type": "execute_result"
    }
   ],
   "source": [
    "\"\"\"tax_cost=[]\n",
    "for i in range(len(labour_cost_yr)):\n",
    "    tax_cost.append((revenue[i]-(operational_cost[i]+labour_cost[i]+maintenance_cost[i]+emission_cost[i]+depreciation_cost[i]))*tax_rate)\n",
    "\"\"\""
   ]
  },
  {
   "cell_type": "code",
   "execution_count": 75,
   "metadata": {},
   "outputs": [
    {
     "data": {
      "text/plain": [
       "'#Empty dataframe\\ndf = pd.DataFrame()'"
      ]
     },
     "execution_count": 75,
     "metadata": {},
     "output_type": "execute_result"
    }
   ],
   "source": [
    "\"\"\"#Empty dataframe\n",
    "df = pd.DataFrame()\"\"\""
   ]
  },
  {
   "cell_type": "markdown",
   "metadata": {},
   "source": [
    "## Sensitivity analysis : Graphs "
   ]
  },
  {
   "cell_type": "code",
   "execution_count": 76,
   "metadata": {},
   "outputs": [],
   "source": [
    "def sensitivity_analysis(interest_rate,tax_rate,carbon_price,ng_price,iron_ore_cost,electricity_cost,emission_cost,carbon_steel_price):\n",
    "    #capital cost\n",
    "    #reactor cost calculation\n",
    "    plant_life=25\n",
    "    m1=1.599 # iron ore feed rate\n",
    "    #interest_rate=0.10\n",
    "    #tax_rate=0.35\n",
    "    steel_density=7700 #kg/m3\n",
    "    refractory_density=2970 #kg/m3\n",
    "    steel_cost=500 #USD/ton\n",
    "    refractory_cost=400 #USD/ton\n",
    "    tank_manufacturing=100 #USD/ton\n",
    "    refractory_labour=50 #USD/ton\n",
    "    vol_steel_reactor=(np.pi*((dia_reac/2+0.045)**2-(dia_reac/2)**2)*len_reac)\n",
    "    vol_refractory=(np.pi*((dia_reac/2+0.4)**2-(dia_reac/2)**2)*len_reac)\n",
    "    weight_steel_reactor=((vol_steel_reactor*steel_density)/1000)\n",
    "    weight_refractory=((vol_refractory*refractory_density)/1000)\n",
    "    reactor_cost=((weight_steel_reactor*steel_cost)+(weight_refractory*refractory_cost)+(weight_steel_reactor*100)+(weight_refractory*50))/10**6+(tin_cost_million)\n",
    "    EAF_cost_per_ton_yr=112\n",
    "    # The value includes installation costs \n",
    "    #https://iea-etsap.org/E-TechDS/PDF/I02-Iron&Steel-GS-AD-gct.pdf\n",
    "    EAF_total_cost=(EAF_cost_per_ton_yr*steel_prod_yr)/10**6\n",
    "    #### DRI Cost \n",
    "    #Link : https://www2.deloitte.com/content/dam/Deloitte/global/Documents/Manufacturing/gx_remaking%20the%20global%20steel%20industry_06_13.pdf\n",
    "\n",
    "    DRI_cost_per_ton_yr=275 #USD/ton/per year\n",
    "    # Cost of new DRI plant with 2 MT/annum =5.5 million euros or 6 million USD\n",
    "    # A reduction in cost is considered as larger plants have smaller costs. (0.6)\n",
    "    # The plant costs include all the costs including ISBL, OSBL, area development etc \n",
    "    # no Lang factor multiplication is required for such a plant\n",
    "    #https://www.voestalpine.com/group/en/media/press-releases/2013-07-04-\n",
    "    #voestalpine-entrusts-construction-of-the-direct-reduction-plant-in-texas-to-siemens-and-midrex/\n",
    "    DRI_total_cost=(DRI_cost_per_ton_yr*steel_prod_yr)/10**6\n",
    "    #### Pressure swing adsorber \n",
    "\n",
    "    PSA_cost=5 # Million USD \n",
    "   \n",
    "    \n",
    "\n",
    "    #### Gas fired metal furnace \n",
    "    #https://www.alibaba.com/showroom/gas-melting-furnace.html\n",
    "\n",
    "    el_heater_cost=50 #Million USD \n",
    "    lang_factor_reac=10\n",
    "    total_capital_cost=((reactor_cost+PSA_cost)*lang_factor_reac)+(EAF_total_cost+DRI_total_cost+ el_heater_cost)\n",
    "     ##Operational cost\n",
    "    eaf_op_cost_tls=np.repeat(32,plant_life).tolist() #t/yr of dri\n",
    "    dri_op_cost_tls=np.repeat(13,plant_life).tolist() #t/yr of dri\n",
    "    dri_elec=284.0006036823013 #KWh\n",
    "    EL4=445.3464\n",
    "    el_heat_reac=1.4337274146203023 #MWh\n",
    "    el_total=(dri_elec+EL4+(el_heat_reac*1000))/1000\n",
    "    ng_cost=[]\n",
    "    iron_ore_cost_tls=[]\n",
    "    electricity_cost_tls=[]\n",
    "    for i in range(len(eaf_op_cost_tls)):\n",
    "        ng_cost.append(total_ng_req_tls_MMBTU*ng_price)\n",
    "        iron_ore_cost_tls.append(m1*iron_ore_cost)\n",
    "        electricity_cost_tls.append((electricity_cost*(el_total)))\n",
    "    operational_cost_annual=[]\n",
    "    for i in range(len(eaf_op_cost_tls)):\n",
    "        operational_cost_annual.append((((ng_cost[i]+iron_ore_cost_tls[i]+electricity_cost_tls[i]+eaf_op_cost_tls[i]+dri_op_cost_tls[i])*steel_prod_yr)/10**6))\n",
    "    \n",
    "    #Maintenance cost\n",
    "    maintenance_cost_percentage=0.10 # 10% of the capital cost\n",
    "    maint_cost_yr=np.repeat((maintenance_cost_percentage*total_capital_cost),plant_life)\n",
    "    maint_cost_yr= maint_cost_yr.tolist()\n",
    "    #labour cost\n",
    "    labour_cost_tls=40 #USD/tls\n",
    "    labour_cost_yr=np.repeat(((labour_cost_tls*steel_prod_yr)/10**6),plant_life)\n",
    "    labour_cost_yr=labour_cost_yr.tolist()\n",
    "    #Emission cost\n",
    "    total_emission_cost=[]\n",
    "    for i in range(len(eaf_op_cost_tls)):\n",
    "        total_emission_cost.append(annual_emission_mtco2[i]*emission_cost) # in Million USD\n",
    "    depreciation=(total_capital_cost-0)/plant_life\n",
    "    depreciation_cost=[]\n",
    "    for i in range(len(eaf_op_cost_tls)):\n",
    "        if(i<2):\n",
    "            depreciation_cost.append(0)\n",
    "        else:\n",
    "            depreciation_cost.append(depreciation)\n",
    "    \n",
    "        # Revenue\n",
    "    # USD/ton\n",
    "    revenue_steel=[]\n",
    "    for i in range(len(eaf_op_cost_tls)):\n",
    "        revenue_steel.append(((carbon_steel_price*steel_prod_yr)/10**6))\n",
    "    #USD/ton\n",
    "    # Assume that 60% of the carbon produced could be sold\n",
    "    carbon_sold=0.6\n",
    "    revenue_carbon=[]\n",
    "    # Revenue generated in Million USD /year \n",
    "    for i in range(len(eaf_op_cost_tls)):\n",
    "        revenue_carbon.append((carbon_price*carbon_prod_yr*carbon_sold)/10**9)\n",
    "    total_revenue_usd_million=[]\n",
    "    for i in range(len(eaf_op_cost_tls)):\n",
    "        total_revenue_usd_million.append(revenue_steel[i]+revenue_carbon[i])\n",
    "    years=np.arange(0,plant_life,1)\n",
    "    Years=np.round(years,0)\n",
    "    production_steel=np.repeat(steel_prod_yr/10**6,plant_life).tolist()\n",
    "    production_hydrogen=np.repeat(h2_prod_yr/1000000,plant_life).tolist()\n",
    "    annual_emission=annual_emission_mtco2\n",
    "    for i in range(2):\n",
    "        production_steel[i]=0\n",
    "        production_hydrogen[i]=0\n",
    "        annual_emission[i]=0\n",
    "    # Converting revenue\n",
    "    revenue=total_revenue_usd_million\n",
    "    revenue_c=revenue_carbon\n",
    "    revenue_s=revenue_steel\n",
    "\n",
    "    \n",
    "    for i in range(2):\n",
    "        revenue_c[i]=0\n",
    "        revenue_s[i]=0\n",
    "        revenue[i]=0\n",
    "    capital_cost=np.repeat(0,plant_life).tolist()\n",
    "    capital_cost[0]=(total_capital_cost/3)\n",
    "    capital_cost[1]=(total_capital_cost)*(2/3)\n",
    "    operational_cost=operational_cost_annual\n",
    "    labour_cost=labour_cost_yr\n",
    "    maintenance_cost=maint_cost_yr\n",
    "    #emission_cost=total_emission_cost\n",
    "\n",
    "    for i in range(2):\n",
    "        operational_cost[i]=0\n",
    "        labour_cost[i]=0\n",
    "        maintenance_cost[i]=0\n",
    "        total_emission_cost[i]=0 \n",
    "    # tax calculation\n",
    "    tax_cost=[]\n",
    "    for i in range(len(eaf_op_cost_tls)):\n",
    "        tax_cost.append((revenue[i]-(operational_cost[i]+labour_cost[i]+maintenance_cost[i]+total_emission_cost[i]+depreciation_cost[i]))*tax_rate)\n",
    "    cash_flow=[]\n",
    "    for i in range(len(eaf_op_cost_tls)):\n",
    "        cash_flow.append(revenue[i]-(capital_cost[i]+operational_cost[i]+labour_cost[i]+maintenance_cost[i]+total_emission_cost[i]+tax_cost[i]))\n",
    "  \n",
    "    #return(NPV_methane_pyrolysis,IRR_system)\n",
    "    return(cash_flow)\n",
    "    \n",
    "    \n",
    "\n",
    "    \n",
    "\n",
    "\n",
    "   \n",
    "\n",
    "\n",
    "    "
   ]
  },
  {
   "cell_type": "code",
   "execution_count": 77,
   "metadata": {},
   "outputs": [],
   "source": [
    "# Base case values\n",
    "interest_rate=0.10\n",
    "tax_rate=0.35\n",
    "carbon_price=200\n",
    "ng_price=6.58 #USD/MMBTU\n",
    "iron_ore_cost=90\n",
    "electricity_cost=56.15\n",
    "emission_cost=50\n",
    "carbon_steel_price=650\n",
    "variation=np.arange(0.95,1.05,0.01).tolist()\n"
   ]
  },
  {
   "cell_type": "code",
   "execution_count": 78,
   "metadata": {},
   "outputs": [
    {
     "data": {
      "text/plain": [
       "'carbon_price=np.repeat(ca_base_price,plant_life).tolist()\\nng_price=np.repeat(ng_base_price,plant_life).tolist() #USD/MMBTU\\niron_ore_cost=np.repeat(iron_ore_base_price,plant_life).tolist() #usd/ton\\nelectricity_cost=np.repeat(electricity_base_price,plant_life).tolist()#USD/MWh\\nemission_cost=np.repeat(cer_base_price,plant_life).tolist() # USD 30 per ton \\ncarbon_steel_price=np.repeat(carbon_steel_base_price,plant_life).tolist()'"
      ]
     },
     "execution_count": 78,
     "metadata": {},
     "output_type": "execute_result"
    }
   ],
   "source": [
    "\n",
    "\"\"\"carbon_price=np.repeat(ca_base_price,plant_life).tolist()\n",
    "ng_price=np.repeat(ng_base_price,plant_life).tolist() #USD/MMBTU\n",
    "iron_ore_cost=np.repeat(iron_ore_base_price,plant_life).tolist() #usd/ton\n",
    "electricity_cost=np.repeat(electricity_base_price,plant_life).tolist()#USD/MWh\n",
    "emission_cost=np.repeat(cer_base_price,plant_life).tolist() # USD 30 per ton \n",
    "carbon_steel_price=np.repeat(carbon_steel_base_price,plant_life).tolist()\"\"\""
   ]
  },
  {
   "cell_type": "code",
   "execution_count": 79,
   "metadata": {},
   "outputs": [
    {
     "name": "stdout",
     "output_type": "stream",
     "text": [
      "424.40803356302587\n",
      "14.603321252210243\n"
     ]
    },
    {
     "name": "stderr",
     "output_type": "stream",
     "text": [
      "C:\\Users\\2919157\\Anaconda3\\lib\\site-packages\\ipykernel_launcher.py:3: DeprecationWarning: numpy.npv is deprecated and will be removed from NumPy 1.20. Use numpy_financial.npv instead (https://pypi.org/project/numpy-financial/).\n",
      "  This is separate from the ipykernel package so we can avoid doing imports until\n",
      "C:\\Users\\2919157\\Anaconda3\\lib\\site-packages\\ipykernel_launcher.py:4: DeprecationWarning: numpy.irr is deprecated and will be removed from NumPy 1.20. Use numpy_financial.irr instead (https://pypi.org/project/numpy-financial/).\n",
      "  after removing the cwd from sys.path.\n"
     ]
    }
   ],
   "source": [
    "cash_flow=sensitivity_analysis(interest_rate,tax_rate,carbon_price,ng_price,iron_ore_cost,electricity_cost,emission_cost,carbon_steel_price)\n",
    "\n",
    "NPV_methane_pyrolysis=np.npv(interest_rate,cash_flow)\n",
    "IRR_system=np.irr(cash_flow)*100\n",
    "print(NPV_methane_pyrolysis)\n",
    "print(IRR_system)"
   ]
  },
  {
   "cell_type": "code",
   "execution_count": 80,
   "metadata": {},
   "outputs": [
    {
     "data": {
      "text/plain": [
       "11"
      ]
     },
     "execution_count": 80,
     "metadata": {},
     "output_type": "execute_result"
    }
   ],
   "source": [
    "NPV_base=np.repeat(NPV_methane_pyrolysis,len(variation)).tolist()\n",
    "IRR_base=np.repeat(IRR_system,len(variation)).tolist()*100\n",
    "len(variation)"
   ]
  },
  {
   "cell_type": "code",
   "execution_count": 81,
   "metadata": {},
   "outputs": [
    {
     "name": "stdout",
     "output_type": "stream",
     "text": [
      "[405.5110052833767, 409.29041093930556, 413.06981659523586, 416.8492222511665, 420.62862790709687, 424.40803356302587, 428.18743921895623, 431.9668448748869, 435.7462505308155, 439.5256561867459, 443.3050618426746]\n"
     ]
    },
    {
     "name": "stderr",
     "output_type": "stream",
     "text": [
      "C:\\Users\\2919157\\Anaconda3\\lib\\site-packages\\ipykernel_launcher.py:10: DeprecationWarning: numpy.npv is deprecated and will be removed from NumPy 1.20. Use numpy_financial.npv instead (https://pypi.org/project/numpy-financial/).\n",
      "  # Remove the CWD from sys.path while we load stuff.\n",
      "C:\\Users\\2919157\\Anaconda3\\lib\\site-packages\\ipykernel_launcher.py:11: DeprecationWarning: numpy.irr is deprecated and will be removed from NumPy 1.20. Use numpy_financial.irr instead (https://pypi.org/project/numpy-financial/).\n",
      "  # This is added back by InteractiveShellApp.init_path()\n"
     ]
    }
   ],
   "source": [
    "NPV_carbon=[]\n",
    "IRR_carbon=[]\n",
    "carbon_price_change=[]\n",
    "for i in range(len(variation)):\n",
    "    carbon_price_change.append(variation[i]*carbon_price)\n",
    "for i in range(len(variation)):\n",
    "    a=carbon_price_change[i]\n",
    "    #carbon_price_sens=np.repeat(a,25).tolist()\n",
    "    cash_flow=sensitivity_analysis(interest_rate,tax_rate,a,ng_price,iron_ore_cost,electricity_cost,emission_cost,carbon_steel_price)\n",
    "    NPV_carbon.append(np.npv(interest_rate,cash_flow))\n",
    "    IRR_carbon.append(np.irr(cash_flow)*100)\n",
    "    \n",
    "print(NPV_carbon)\n"
   ]
  },
  {
   "cell_type": "code",
   "execution_count": 82,
   "metadata": {},
   "outputs": [
    {
     "name": "stdout",
     "output_type": "stream",
     "text": [
      "[462.55194561581504, 454.92316320525737, 447.29438079469946, 439.66559838414156, 432.03681597358366, 424.40803356302587, 416.77925115246774, 409.15046874190995, 401.52168633135204, 393.8929039207959, 386.2641215102361]\n"
     ]
    },
    {
     "name": "stderr",
     "output_type": "stream",
     "text": [
      "C:\\Users\\2919157\\Anaconda3\\lib\\site-packages\\ipykernel_launcher.py:10: DeprecationWarning: numpy.npv is deprecated and will be removed from NumPy 1.20. Use numpy_financial.npv instead (https://pypi.org/project/numpy-financial/).\n",
      "  # Remove the CWD from sys.path while we load stuff.\n",
      "C:\\Users\\2919157\\Anaconda3\\lib\\site-packages\\ipykernel_launcher.py:11: DeprecationWarning: numpy.irr is deprecated and will be removed from NumPy 1.20. Use numpy_financial.irr instead (https://pypi.org/project/numpy-financial/).\n",
      "  # This is added back by InteractiveShellApp.init_path()\n"
     ]
    }
   ],
   "source": [
    "NPV_emission=[]\n",
    "IRR_emission=[]\n",
    "emission_price_change=[]\n",
    "for i in range(len(variation)):\n",
    "    emission_price_change.append(variation[i]*emission_cost)\n",
    "for i in range(len(variation)):\n",
    "    b=emission_price_change[i]\n",
    "    #emission_price_sens=np.repeat(a,25).tolist()\n",
    "    cash_flow=sensitivity_analysis(interest_rate,tax_rate,carbon_price,ng_price,iron_ore_cost,electricity_cost,b,carbon_steel_price)\n",
    "    NPV_emission.append(np.npv(interest_rate,cash_flow))\n",
    "    IRR_emission.append(np.irr(cash_flow)*100)\n",
    "print(NPV_emission)"
   ]
  },
  {
   "cell_type": "code",
   "execution_count": 83,
   "metadata": {},
   "outputs": [
    {
     "name": "stdout",
     "output_type": "stream",
     "text": [
      "[500.4435089727729, 485.2364138908246, 470.02931880887434, 454.8222237269244, 439.6151286449759, 424.40803356302587, 409.20093848107547, 393.99384339912706, 378.786748317177, 363.57965323522683, 348.37255815327825]\n"
     ]
    },
    {
     "name": "stderr",
     "output_type": "stream",
     "text": [
      "C:\\Users\\2919157\\Anaconda3\\lib\\site-packages\\ipykernel_launcher.py:10: DeprecationWarning: numpy.irr is deprecated and will be removed from NumPy 1.20. Use numpy_financial.irr instead (https://pypi.org/project/numpy-financial/).\n",
      "  # Remove the CWD from sys.path while we load stuff.\n",
      "C:\\Users\\2919157\\Anaconda3\\lib\\site-packages\\ipykernel_launcher.py:11: DeprecationWarning: numpy.npv is deprecated and will be removed from NumPy 1.20. Use numpy_financial.npv instead (https://pypi.org/project/numpy-financial/).\n",
      "  # This is added back by InteractiveShellApp.init_path()\n",
      "C:\\Users\\2919157\\Anaconda3\\lib\\site-packages\\ipykernel_launcher.py:12: DeprecationWarning: numpy.irr is deprecated and will be removed from NumPy 1.20. Use numpy_financial.irr instead (https://pypi.org/project/numpy-financial/).\n",
      "  if sys.path[0] == '':\n"
     ]
    }
   ],
   "source": [
    "NPV_natural_gas=[]\n",
    "IRR_ng=[]\n",
    "ng_price_change=[]\n",
    "for i in range(len(variation)):\n",
    "    ng_price_change.append(variation[i]*ng_price)\n",
    "for i in range(len(variation)):\n",
    "    d=ng_price_change[i]\n",
    "    #ng_price_sens=np.repeat(a,25).tolist()\n",
    "    cash_flow=sensitivity_analysis(interest_rate,tax_rate,carbon_price,d,iron_ore_cost,electricity_cost,emission_cost,carbon_steel_price)\n",
    "    IRR_system=np.irr(cash_flow)\n",
    "    NPV_natural_gas.append(np.npv(interest_rate,cash_flow))\n",
    "    IRR_ng.append(np.irr(cash_flow)*100)\n",
    "print(NPV_natural_gas)"
   ]
  },
  {
   "cell_type": "code",
   "execution_count": 84,
   "metadata": {},
   "outputs": [
    {
     "name": "stdout",
     "output_type": "stream",
     "text": [
      "53.342499999999994\n",
      "53.903999999999996\n",
      "54.4655\n",
      "55.027\n",
      "55.588499999999996\n",
      "56.15\n",
      "56.7115\n",
      "57.272999999999996\n",
      "57.8345\n",
      "58.396\n",
      "58.9575\n",
      "[504.5063262865756, 488.4866677418645, 472.4670091971534, 456.44735065244413, 440.4276921077349, 424.40803356302587, 408.3883750183164, 392.36871647360533, 376.3490579288961, 360.3293993841868, 344.3097408394759]\n"
     ]
    },
    {
     "name": "stderr",
     "output_type": "stream",
     "text": [
      "C:\\Users\\2919157\\Anaconda3\\lib\\site-packages\\ipykernel_launcher.py:11: DeprecationWarning: numpy.npv is deprecated and will be removed from NumPy 1.20. Use numpy_financial.npv instead (https://pypi.org/project/numpy-financial/).\n",
      "  # This is added back by InteractiveShellApp.init_path()\n",
      "C:\\Users\\2919157\\Anaconda3\\lib\\site-packages\\ipykernel_launcher.py:12: DeprecationWarning: numpy.irr is deprecated and will be removed from NumPy 1.20. Use numpy_financial.irr instead (https://pypi.org/project/numpy-financial/).\n",
      "  if sys.path[0] == '':\n"
     ]
    }
   ],
   "source": [
    "NPV_electricity=[]\n",
    "IRR_electricity=[]\n",
    "elec_price_change=[]\n",
    "for i in range(len(variation)):\n",
    "    elec_price_change.append(variation[i]*electricity_cost)\n",
    "for i in range(len(variation)):\n",
    "    e=elec_price_change[i]\n",
    "    print(e)\n",
    "    #elec_price_sens=np.repeat(a,25).tolist()\n",
    "    cash_flow=sensitivity_analysis(interest_rate,tax_rate,carbon_price,ng_price,iron_ore_cost,e,emission_cost,carbon_steel_price)\n",
    "    NPV_electricity.append(np.npv(interest_rate,cash_flow))\n",
    "    IRR_electricity.append(np.irr(cash_flow)*100)\n",
    "print(NPV_electricity)"
   ]
  },
  {
   "cell_type": "code",
   "execution_count": 85,
   "metadata": {},
   "outputs": [
    {
     "name": "stdout",
     "output_type": "stream",
     "text": [
      "[519.3138895865486, 500.3327183818438, 481.35154717713885, 462.37037597243557, 443.38920476772876, 424.40803356302587, 405.42686235832264, 386.4456911536159, 367.4645199489107, 348.4833487442057, 329.5021775395027]\n"
     ]
    },
    {
     "name": "stderr",
     "output_type": "stream",
     "text": [
      "C:\\Users\\2919157\\Anaconda3\\lib\\site-packages\\ipykernel_launcher.py:10: DeprecationWarning: numpy.npv is deprecated and will be removed from NumPy 1.20. Use numpy_financial.npv instead (https://pypi.org/project/numpy-financial/).\n",
      "  # Remove the CWD from sys.path while we load stuff.\n",
      "C:\\Users\\2919157\\Anaconda3\\lib\\site-packages\\ipykernel_launcher.py:11: DeprecationWarning: numpy.irr is deprecated and will be removed from NumPy 1.20. Use numpy_financial.irr instead (https://pypi.org/project/numpy-financial/).\n",
      "  # This is added back by InteractiveShellApp.init_path()\n"
     ]
    }
   ],
   "source": [
    "NPV_ironore=[]\n",
    "IRR_ironore=[]\n",
    "ironore_price_change=[]\n",
    "for i in range(len(variation)):\n",
    "    ironore_price_change.append(variation[i]*iron_ore_cost)\n",
    "for i in range(len(variation)):\n",
    "    f=ironore_price_change[i]\n",
    "    #ironore_price_sens=np.repeat(a,25).tolist()\n",
    "    cash_flow=sensitivity_analysis(interest_rate,tax_rate,carbon_price,ng_price,f,electricity_cost,emission_cost,carbon_steel_price)\n",
    "    NPV_ironore.append(np.npv(interest_rate,cash_flow))\n",
    "    IRR_ironore.append(np.irr(cash_flow)*100)\n",
    "print(NPV_ironore)"
   ]
  },
  {
   "cell_type": "code",
   "execution_count": 86,
   "metadata": {},
   "outputs": [
    {
     "name": "stdout",
     "output_type": "stream",
     "text": [
      "[487.43858460956324, 474.4923699117061, 461.7189706250845, 449.1155978776837, 436.6795144186463, 424.40803356302587, 412.2985181598737, 400.3483795830346, 388.5550767441937, 376.9161151275724, 365.42904584585176]\n"
     ]
    },
    {
     "name": "stderr",
     "output_type": "stream",
     "text": [
      "C:\\Users\\2919157\\Anaconda3\\lib\\site-packages\\ipykernel_launcher.py:9: DeprecationWarning: numpy.npv is deprecated and will be removed from NumPy 1.20. Use numpy_financial.npv instead (https://pypi.org/project/numpy-financial/).\n",
      "  if __name__ == '__main__':\n",
      "C:\\Users\\2919157\\Anaconda3\\lib\\site-packages\\ipykernel_launcher.py:10: DeprecationWarning: numpy.irr is deprecated and will be removed from NumPy 1.20. Use numpy_financial.irr instead (https://pypi.org/project/numpy-financial/).\n",
      "  # Remove the CWD from sys.path while we load stuff.\n"
     ]
    }
   ],
   "source": [
    "interest_rate_change=[]\n",
    "NPV_interest_rate=[]\n",
    "IRR_interest_rate=[]\n",
    "for i in range(len(variation)):\n",
    "    interest_rate_change.append(variation[i]*interest_rate)\n",
    "for i in range(len(variation)):\n",
    "    g=interest_rate_change[i]\n",
    "    cash_flow=sensitivity_analysis(g,tax_rate,carbon_price,ng_price,iron_ore_cost,electricity_cost,emission_cost,carbon_steel_price)\n",
    "    NPV_interest_rate.append(np.npv(g,cash_flow))\n",
    "    IRR_interest_rate.append(np.irr(cash_flow)*100)\n",
    "print(NPV_interest_rate)\n",
    "\n",
    "\n"
   ]
  },
  {
   "cell_type": "code",
   "execution_count": 87,
   "metadata": {},
   "outputs": [
    {
     "name": "stdout",
     "output_type": "stream",
     "text": [
      "[455.75384445099843, 449.4846822734039, 443.2155200958093, 436.9463579182148, 430.67719574062005, 424.40803356302587, 418.138871385431, 411.86970920783654, 405.6005470302438, 399.3313848526492, 393.0622226750548]\n"
     ]
    },
    {
     "name": "stderr",
     "output_type": "stream",
     "text": [
      "C:\\Users\\2919157\\Anaconda3\\lib\\site-packages\\ipykernel_launcher.py:9: DeprecationWarning: numpy.npv is deprecated and will be removed from NumPy 1.20. Use numpy_financial.npv instead (https://pypi.org/project/numpy-financial/).\n",
      "  if __name__ == '__main__':\n",
      "C:\\Users\\2919157\\Anaconda3\\lib\\site-packages\\ipykernel_launcher.py:10: DeprecationWarning: numpy.irr is deprecated and will be removed from NumPy 1.20. Use numpy_financial.irr instead (https://pypi.org/project/numpy-financial/).\n",
      "  # Remove the CWD from sys.path while we load stuff.\n"
     ]
    }
   ],
   "source": [
    "tax_rate_change=[]\n",
    "NPV_tax_rate=[]\n",
    "IRR_tax_rate=[]\n",
    "for i in range(len(variation)):\n",
    "    tax_rate_change.append(variation[i]*tax_rate)\n",
    "for i in range(len(variation)):\n",
    "    h=tax_rate_change[i]\n",
    "    cash_flow=sensitivity_analysis(interest_rate,h,carbon_price,ng_price,iron_ore_cost,electricity_cost,emission_cost,carbon_steel_price)\n",
    "    NPV_tax_rate.append(np.npv(interest_rate,cash_flow))\n",
    "    IRR_tax_rate.append(np.irr(cash_flow)*100)\n",
    "print(NPV_tax_rate)"
   ]
  },
  {
   "cell_type": "code",
   "execution_count": null,
   "metadata": {},
   "outputs": [],
   "source": []
  },
  {
   "cell_type": "markdown",
   "metadata": {},
   "source": [
    "## Sensitivity analysis graphical representation"
   ]
  },
  {
   "cell_type": "code",
   "execution_count": 88,
   "metadata": {},
   "outputs": [
    {
     "data": {
      "image/png": "[encoded data removed]",
      "text/plain": [
       "<Figure size 540x540 with 1 Axes>"
      ]
     },
     "metadata": {
      "needs_background": "light"
     },
     "output_type": "display_data"
    }
   ],
   "source": [
    "variations=['-5%','-4%','-3%','-2%','-1%','Base','+1%','+2%','+3%','+4%','+5%']\n",
    "#NPV_base=[632.86,632.86,632.86,632.86,632.86,632.86,632.86,632.86,632.86]\n",
    "#NPV_carbon=[557.27,576.17,595.06,613.96,632.86,651.76,670.65,689.55,708.45]\n",
    "#NPV_emission=[699.54,682.87,666.20,649.53,632.86,616.19,599.52,582.84,566.17]\n",
    "#NPV_electricity=[742.65,715.20,687.75,660.31,632.86,605,578,551,523]\n",
    "#NPV_taxes=[1142.96,1015.44,887.91,760.38,632.86,505.33,378,250.28,123]\n",
    "#NPV_interest=[1507.29,1265.52,1040.04,829.5,632.86,448.90,276.68,115.31,-36.62]\n",
    "#NPV_emission_intensity=[761,729,697,665,632.86,601,569,537,505]\n",
    "#NPV_steel=[-1204.35,-745.05,-285.75,173.56,632.86,1092.16,1551.46,2010.77,2470.07]\n",
    "NPV_carbon_change=[]\n",
    "NPV_emission_change=[]\n",
    "NPV_electricity_change=[]\n",
    "NPV_taxes_change=[]\n",
    "NPV_interest_change=[]\n",
    "NPV_ironore_change=[]\n",
    "NPV_ng_change=[]\n",
    "for i in range(len(NPV_base)):\n",
    "    NPV_carbon_change.append(((NPV_carbon[i]-NPV_base[i])/NPV_base[i])*100)\n",
    "    NPV_emission_change.append(((NPV_emission[i]-NPV_base[i])/NPV_base[i])*100)\n",
    "    NPV_electricity_change.append(((NPV_electricity[i]-NPV_base[i])/NPV_base[i])*100)\n",
    "    NPV_taxes_change.append(((NPV_tax_rate[i]-NPV_base[i])/NPV_base[i])*100)\n",
    "    NPV_interest_change.append(((NPV_interest_rate[i]-NPV_base[i])/NPV_base[i])*100)\n",
    "    NPV_ironore_change.append(((NPV_ironore[i]-NPV_base[i])/NPV_base[i])*100)\n",
    "    NPV_ng_change.append(((NPV_natural_gas[i]-NPV_base[i])/NPV_base[i])*100)\n",
    "    #NPV_emission_intensity_change.append(((NPV_emission_intensity[i]-NPV_base[i])/NPV_base[i])*100)\n",
    "    #NPV_steel_change.append(((NPV_steel[i]-NPV_base[i])/NPV_base[i])*100)\n",
    "plt.figure(figsize=(7.5,7.5))\n",
    "#plt.plot(variations,NPV_carbon_change,color='Blue',label='NPV_carbon')\n",
    "plt.plot(variations,NPV_emission_change,color='Black',label='Emission cost')\n",
    "plt.plot(variations,NPV_electricity_change,color='Blue',label='Electricity')\n",
    "plt.plot(variations,NPV_ironore_change,color='Red',label='Iron ore')\n",
    "plt.plot(variations,NPV_interest_change,label='Interest rate')\n",
    "plt.plot(variations,NPV_taxes_change,label='Tax')\n",
    "plt.plot(variations,NPV_ng_change,label='NG price')\n",
    "plt.ylabel('Variation of NPV in %',fontsize=14)\n",
    "plt.xlabel('Variation of parameters in %',fontsize=14)\n",
    "plt.legend()\n",
    "plt.savefig('Sensitivity_analysis_npv.pdf',dpi=1200)"
   ]
  },
  {
   "cell_type": "code",
   "execution_count": 89,
   "metadata": {},
   "outputs": [
    {
     "data": {
      "text/plain": [
       "'\"variations=[\\'-20%\\',\\'-15%\\',\\'-10%\\',\\'-5%\\',\\'Base\\',\\'+5%\\',\\'+10%\\',\\'+15%\\',\\'+20%\\']\\n#IRR_base=[632.86,632.86,632.86,632.86,632.86,632.86,632.86,632.86,632.86]\\n#IRR_carbon=[557.27,576.17,595.06,613.96,632.86,651.76,670.65,689.55,708.45]\\n#IRR_emission=[699.54,682.87,666.20,649.53,632.86,616.19,599.52,582.84,566.17]\\n#IRR_electricity=[742.65,715.20,687.75,660.31,632.86,605,578,551,523]\\n#IRR_taxes=[1142.96,1015.44,887.91,760.38,632.86,505.33,378,250.28,123]\\n#IRR_interest=[1507.29,1265.52,1040.04,829.5,632.86,448.90,276.68,115.31,-36.62]\\n#IRR_emission_intensity=[761,729,697,665,632.86,601,569,537,505]\\n#IRR_steel=[-1204.35,-745.05,-285.75,173.56,632.86,1092.16,1551.46,2010.77,2470.07]\\nIRR_carbon_change=[]\\nIRR_emission_change=[]\\nIRR_electricity_change=[]\\nIRR_taxes_change=[]\\nIRR_interest_change=[]\\nIRR_ironore_change=[]\\nIRR_ng_change=[]\\nfor i in range(len(IRR_base)):\\n    IRR_carbon_change.append(((IRR_carbon[i]-IRR_base[i])/IRR_base[i])*100)\\n    IRR_emission_change.append(((IRR_emission[i]-IRR_base[i])/IRR_base[i])*100)\\n    IRR_electricity_change.append(((IRR_electricity[i]-IRR_base[i])/IRR_base[i])*100)\\n    IRR_taxes_change.append(((IRR_tax_rate[i]-IRR_base[i])/IRR_base[i])*100)\\n    IRR_interest_change.append(((IRR_interest_rate[i]-IRR_base[i])/IRR_base[i])*100)\\n    IRR_ironore_change.append(((IRR_ironore[i]-IRR_base[i])/IRR_base[i])*100)\\n    #IRR_emission_intensity_change.append(((IRR_emission_intensity[i]-IRR_base[i])/IRR_base[i])*100)\\n    #IRR_steel_change.append(((IRR_steel[i]-IRR_base[i])/IRR_base[i])*100)\\nplt.figure(figsize=(7.5,7.5))\\nplt.plot(variations,IRR_carbon_change,color=\\'Blue\\',label=\\'IRR_carbon\\')\\nplt.plot(variations,IRR_emission_change,color=\\'Green\\',label=\\'IRR_emission\\')\\nplt.plot(variations,IRR_electricity_change,color=\\'Black\\',label=\\'IRR_electricity\\')\\nplt.plot(variations,IRR_ironore_change,color=\\'red\\',label=\\'IRR_iron_ore\\')\\nplt.plot(variations,IRR_interest_change,label=\\'IRR_interest_rate\\')\\nplt.plot(variations,IRR_taxes_change,label=\\'IRR_taxes\\')\\nplt.ylabel(\\'Variation of IRR for Methane pyrolysis based HDRI-EAF system in %\\',fontsize=12)\\nplt.xlabel(\\'Variation of parameters in %\\',fontsize=12)\\nplt.legend()\\nplt.savefig(\\'Sensitivity_analysis.pdf\\',dpi=1200)'"
      ]
     },
     "execution_count": 89,
     "metadata": {},
     "output_type": "execute_result"
    }
   ],
   "source": [
    "\"\"\"\"variations=['-20%','-15%','-10%','-5%','Base','+5%','+10%','+15%','+20%']\n",
    "#IRR_base=[632.86,632.86,632.86,632.86,632.86,632.86,632.86,632.86,632.86]\n",
    "#IRR_carbon=[557.27,576.17,595.06,613.96,632.86,651.76,670.65,689.55,708.45]\n",
    "#IRR_emission=[699.54,682.87,666.20,649.53,632.86,616.19,599.52,582.84,566.17]\n",
    "#IRR_electricity=[742.65,715.20,687.75,660.31,632.86,605,578,551,523]\n",
    "#IRR_taxes=[1142.96,1015.44,887.91,760.38,632.86,505.33,378,250.28,123]\n",
    "#IRR_interest=[1507.29,1265.52,1040.04,829.5,632.86,448.90,276.68,115.31,-36.62]\n",
    "#IRR_emission_intensity=[761,729,697,665,632.86,601,569,537,505]\n",
    "#IRR_steel=[-1204.35,-745.05,-285.75,173.56,632.86,1092.16,1551.46,2010.77,2470.07]\n",
    "IRR_carbon_change=[]\n",
    "IRR_emission_change=[]\n",
    "IRR_electricity_change=[]\n",
    "IRR_taxes_change=[]\n",
    "IRR_interest_change=[]\n",
    "IRR_ironore_change=[]\n",
    "IRR_ng_change=[]\n",
    "for i in range(len(IRR_base)):\n",
    "    IRR_carbon_change.append(((IRR_carbon[i]-IRR_base[i])/IRR_base[i])*100)\n",
    "    IRR_emission_change.append(((IRR_emission[i]-IRR_base[i])/IRR_base[i])*100)\n",
    "    IRR_electricity_change.append(((IRR_electricity[i]-IRR_base[i])/IRR_base[i])*100)\n",
    "    IRR_taxes_change.append(((IRR_tax_rate[i]-IRR_base[i])/IRR_base[i])*100)\n",
    "    IRR_interest_change.append(((IRR_interest_rate[i]-IRR_base[i])/IRR_base[i])*100)\n",
    "    IRR_ironore_change.append(((IRR_ironore[i]-IRR_base[i])/IRR_base[i])*100)\n",
    "    #IRR_emission_intensity_change.append(((IRR_emission_intensity[i]-IRR_base[i])/IRR_base[i])*100)\n",
    "    #IRR_steel_change.append(((IRR_steel[i]-IRR_base[i])/IRR_base[i])*100)\n",
    "plt.figure(figsize=(7.5,7.5))\n",
    "plt.plot(variations,IRR_carbon_change,color='Blue',label='IRR_carbon')\n",
    "plt.plot(variations,IRR_emission_change,color='Green',label='IRR_emission')\n",
    "plt.plot(variations,IRR_electricity_change,color='Black',label='IRR_electricity')\n",
    "plt.plot(variations,IRR_ironore_change,color='red',label='IRR_iron_ore')\n",
    "plt.plot(variations,IRR_interest_change,label='IRR_interest_rate')\n",
    "plt.plot(variations,IRR_taxes_change,label='IRR_taxes')\n",
    "plt.ylabel('Variation of IRR for Methane pyrolysis based HDRI-EAF system in %',fontsize=12)\n",
    "plt.xlabel('Variation of parameters in %',fontsize=12)\n",
    "plt.legend()\n",
    "plt.savefig('Sensitivity_analysis.pdf',dpi=1200)\"\"\""
   ]
  },
  {
   "cell_type": "code",
   "execution_count": 90,
   "metadata": {},
   "outputs": [
    {
     "data": {
      "image/png": "[encoded data removed]",
      "text/plain": [
       "<Figure size 540x540 with 1 Axes>"
      ]
     },
     "metadata": {
      "needs_background": "light"
     },
     "output_type": "display_data"
    }
   ],
   "source": [
    "plt.figure(figsize=(7.5,7.5))\n",
    "#plt.plot(variations,IRR_carbon ,color='Blue',label='IRR_carbon')\n",
    "plt.plot(variations,IRR_emission ,color='Black',label='Emission cost')\n",
    "plt.plot(variations,IRR_electricity ,color='Blue',label='Electricity')\n",
    "plt.plot(variations,IRR_ironore,color='Red',label='Iron ore')\n",
    "#plt.plot(variations,IRR_interest_rate,label='IRR_interest_rate')\n",
    "plt.plot(variations,IRR_tax_rate ,label='Tax')\n",
    "plt.plot(variations,IRR_ng ,color='green',label='NG price')\n",
    "plt.ylabel('Variation of IRR in %',fontsize=14)\n",
    "plt.xlabel('Variation of parameters in %',fontsize=14)\n",
    "plt.legend()\n",
    "plt.savefig('Sensitivity_analysis_irr.pdf',dpi=1200)"
   ]
  },
  {
   "cell_type": "code",
   "execution_count": 91,
   "metadata": {},
   "outputs": [],
   "source": [
    "# https://onlinelibrary-wiley-com.ezproxy.uis.no/doi/epdf/10.1002/srin.201700248"
   ]
  },
  {
   "cell_type": "markdown",
   "metadata": {},
   "source": [
    "# Scenario analysis "
   ]
  },
  {
   "cell_type": "code",
   "execution_count": 92,
   "metadata": {},
   "outputs": [
    {
     "data": {
      "text/plain": [
       "'# Base case business as usual\\ninterest_rate=0.10\\ntax_rate=0.35\\nca_base_price=200\\nng_base_price=3\\niron_ore_base_price=90\\nelectricity_base_price=94.15\\ncer_base_price=50\\ncarbon_steel_base_price=600\\ncarbon_price=np.repeat(ca_base_price,plant_life).tolist()\\nng_price=np.repeat(ng_base_price,plant_life).tolist() #USD/MMBTU\\niron_ore_cost=np.repeat(iron_ore_base_price,plant_life).tolist() #usd/ton\\nelectricity_cost=np.repeat(electricity_base_price,plant_life).tolist()#USD/MWh\\nemission_cost=np.repeat(cer_base_price,plant_life).tolist() # USD 30 per ton \\ncarbon_steel_price=np.repeat(carbon_steel_base_price,plant_life).tolist()\\ncash_flow=sensitivity_analysis(interest_rate,tax_rate,carbon_price,ng_price,iron_ore_cost,electricity_cost,emission_cost,carbon_steel_price)\\n\\nNPV_methane_pyrolysis=np.npv(interest_rate,cash_flow)\\nIRR_system=np.irr(cash_flow)*100\\nprint(NPV_methane_pyrolysis)\\nprint(IRR_system)'"
      ]
     },
     "execution_count": 92,
     "metadata": {},
     "output_type": "execute_result"
    }
   ],
   "source": [
    "\"\"\"# Base case business as usual\n",
    "interest_rate=0.10\n",
    "tax_rate=0.35\n",
    "ca_base_price=200\n",
    "ng_base_price=3\n",
    "iron_ore_base_price=90\n",
    "electricity_base_price=94.15\n",
    "cer_base_price=50\n",
    "carbon_steel_base_price=600\n",
    "carbon_price=np.repeat(ca_base_price,plant_life).tolist()\n",
    "ng_price=np.repeat(ng_base_price,plant_life).tolist() #USD/MMBTU\n",
    "iron_ore_cost=np.repeat(iron_ore_base_price,plant_life).tolist() #usd/ton\n",
    "electricity_cost=np.repeat(electricity_base_price,plant_life).tolist()#USD/MWh\n",
    "emission_cost=np.repeat(cer_base_price,plant_life).tolist() # USD 30 per ton \n",
    "carbon_steel_price=np.repeat(carbon_steel_base_price,plant_life).tolist()\n",
    "cash_flow=sensitivity_analysis(interest_rate,tax_rate,carbon_price,ng_price,iron_ore_cost,electricity_cost,emission_cost,carbon_steel_price)\n",
    "\n",
    "NPV_methane_pyrolysis=np.npv(interest_rate,cash_flow)\n",
    "IRR_system=np.irr(cash_flow)*100\n",
    "print(NPV_methane_pyrolysis)\n",
    "print(IRR_system)\"\"\""
   ]
  },
  {
   "cell_type": "markdown",
   "metadata": {},
   "source": [
    "#### Carbon constrained world\n",
    "#### It is assumed that in a climate constrained world, the emission cost would increase \n",
    "#### from 50 USD to 200 USD/ton linearly\n",
    "#### The cost of electricity would reduce upto 45 USD/MWh linearly\n",
    "#### The average cost of NG would decrease to 2 USD/MMBTU owing to lack of demand of NG\n",
    "#### The price of carbon would reduce from 200 to 50 USD/ton linearly due to excess supply"
   ]
  },
  {
   "cell_type": "code",
   "execution_count": 93,
   "metadata": {},
   "outputs": [
    {
     "data": {
      "text/plain": [
       "'\\ninterest_rate_cc=0.10\\ntax_rate_cc=0.35\\nca_base_price_cc=200\\nng_base_price_cc=2\\niron_ore_base_price_cc=90\\nelectricity_base_price_cc=94.15\\ncer_base_price_cc=50\\ncarbon_steel_base_price_cc=600'"
      ]
     },
     "execution_count": 93,
     "metadata": {},
     "output_type": "execute_result"
    }
   ],
   "source": [
    "\"\"\"\n",
    "interest_rate_cc=0.10\n",
    "tax_rate_cc=0.35\n",
    "ca_base_price_cc=200\n",
    "ng_base_price_cc=2\n",
    "iron_ore_base_price_cc=90\n",
    "electricity_base_price_cc=94.15\n",
    "cer_base_price_cc=50\n",
    "carbon_steel_base_price_cc=600\"\"\"\n"
   ]
  },
  {
   "cell_type": "code",
   "execution_count": 94,
   "metadata": {},
   "outputs": [
    {
     "data": {
      "text/plain": [
       "'carbon_price_cc=np.arange(200,0,-8).tolist()\\nng_price_cc=np.repeat(ng_base_price_cc,plant_life).tolist() #USD/MMBTU\\niron_ore_cost_cc=np.repeat(iron_ore_base_price,plant_life).tolist() #usd/ton\\nelectricity_cost_cc=np.arange(94.15,30,-2.6729166666).tolist()#USD/MWh\\nemission_cost_cc=np.arange(50,250,8).tolist() # USD 30 per ton \\ncarbon_steel_price_cc=np.repeat(carbon_steel_base_price,plant_life).tolist()\\n#print(len(electricity_cost_cc))\\n#print(len(carbon_price_cc))\\n#print(len(emission_cost_cc))\\n#electricity_cost_cc'"
      ]
     },
     "execution_count": 94,
     "metadata": {},
     "output_type": "execute_result"
    }
   ],
   "source": [
    "\"\"\"carbon_price_cc=np.arange(200,0,-8).tolist()\n",
    "ng_price_cc=np.repeat(ng_base_price_cc,plant_life).tolist() #USD/MMBTU\n",
    "iron_ore_cost_cc=np.repeat(iron_ore_base_price,plant_life).tolist() #usd/ton\n",
    "electricity_cost_cc=np.arange(94.15,30,-2.6729166666).tolist()#USD/MWh\n",
    "emission_cost_cc=np.arange(50,250,8).tolist() # USD 30 per ton \n",
    "carbon_steel_price_cc=np.repeat(carbon_steel_base_price,plant_life).tolist()\n",
    "#print(len(electricity_cost_cc))\n",
    "#print(len(carbon_price_cc))\n",
    "#print(len(emission_cost_cc))\n",
    "#electricity_cost_cc\"\"\""
   ]
  },
  {
   "cell_type": "code",
   "execution_count": 95,
   "metadata": {},
   "outputs": [
    {
     "data": {
      "text/plain": [
       "'cash_flow_cc=sensitivity_analysis(interest_rate_cc,tax_rate_cc,\\n                                  carbon_price_cc,ng_price_cc,iron_ore_cost_cc,\\n                                  electricity_cost_cc,emission_cost_cc,carbon_steel_price_cc)\\n\\nNPV_methane_pyrolysis_cc=np.npv(interest_rate,cash_flow_cc)\\nIRR_system_cc=np.irr(cash_flow_cc)*100\\nprint(NPV_methane_pyrolysis_cc)\\nprint(IRR_system_cc)\\n\\n'"
      ]
     },
     "execution_count": 95,
     "metadata": {},
     "output_type": "execute_result"
    }
   ],
   "source": [
    "\"\"\"cash_flow_cc=sensitivity_analysis(interest_rate_cc,tax_rate_cc,\n",
    "                                  carbon_price_cc,ng_price_cc,iron_ore_cost_cc,\n",
    "                                  electricity_cost_cc,emission_cost_cc,carbon_steel_price_cc)\n",
    "\n",
    "NPV_methane_pyrolysis_cc=np.npv(interest_rate,cash_flow_cc)\n",
    "IRR_system_cc=np.irr(cash_flow_cc)*100\n",
    "print(NPV_methane_pyrolysis_cc)\n",
    "print(IRR_system_cc)\n",
    "\n",
    "\"\"\""
   ]
  },
  {
   "cell_type": "markdown",
   "metadata": {},
   "source": [
    "## Urgent climate action"
   ]
  },
  {
   "cell_type": "markdown",
   "metadata": {},
   "source": [
    "#### The world sees the severe impact of climate change and within 5 years the price of emission increases to 200 USD/ton.\n",
    "#### cost of electricity falls to 30 USD/MWh in the next 10 years and remains the same for the rest of the period. \n",
    "####  Price of carbon falls to zero in the next 10 years and additional cost of 100 is imposed to transport and store the carbon.\n",
    "#### NG price falls to 1 USD/MMBTU in the next 10 yeas and remains the same for the next 15 years "
   ]
  },
  {
   "cell_type": "code",
   "execution_count": 96,
   "metadata": {},
   "outputs": [
    {
     "data": {
      "text/plain": [
       "'interest_rate_uc=0.10\\ntax_rate_uc=0.35\\nca_base_price_uc=200\\nng_base_price_uc=2\\niron_ore_base_price_uc=90\\nelectricity_base_price_uc=94.15\\ncer_base_price_uc=50\\ncarbon_steel_base_price_uc=600'"
      ]
     },
     "execution_count": 96,
     "metadata": {},
     "output_type": "execute_result"
    }
   ],
   "source": [
    "\n",
    "\"\"\"interest_rate_uc=0.10\n",
    "tax_rate_uc=0.35\n",
    "ca_base_price_uc=200\n",
    "ng_base_price_uc=2\n",
    "iron_ore_base_price_uc=90\n",
    "electricity_base_price_uc=94.15\n",
    "cer_base_price_uc=50\n",
    "carbon_steel_base_price_uc=600\"\"\""
   ]
  },
  {
   "cell_type": "code",
   "execution_count": 97,
   "metadata": {},
   "outputs": [
    {
     "data": {
      "text/plain": [
       "'carbon_price_uc=np.arange(200,0,-8).tolist()\\nng_price_uc=np.repeat(ng_base_price_uc,plant_life).tolist() #USD/MMBTU\\niron_ore_cost_uc=np.repeat(iron_ore_base_price,plant_life).tolist() #usd/ton\\nelectricity_cost_uc=np.arange(94.15,30,-2.6729166666).tolist()#USD/MWh\\nemission_cost_uc=np.arange(50,250,8).tolist() # USD 30 per ton \\ncarbon_steel_price_uc=np.repeat(carbon_steel_base_price,plant_life).tolist()'"
      ]
     },
     "execution_count": 97,
     "metadata": {},
     "output_type": "execute_result"
    }
   ],
   "source": [
    "\"\"\"carbon_price_uc=np.arange(200,0,-8).tolist()\n",
    "ng_price_uc=np.repeat(ng_base_price_uc,plant_life).tolist() #USD/MMBTU\n",
    "iron_ore_cost_uc=np.repeat(iron_ore_base_price,plant_life).tolist() #usd/ton\n",
    "electricity_cost_uc=np.arange(94.15,30,-2.6729166666).tolist()#USD/MWh\n",
    "emission_cost_uc=np.arange(50,250,8).tolist() # USD 30 per ton \n",
    "carbon_steel_price_uc=np.repeat(carbon_steel_base_price,plant_life).tolist()\"\"\""
   ]
  },
  {
   "cell_type": "code",
   "execution_count": null,
   "metadata": {},
   "outputs": [],
   "source": []
  },
  {
   "cell_type": "code",
   "execution_count": 98,
   "metadata": {},
   "outputs": [],
   "source": [
    "def npv_analysis(interest_rate,tax_rate,carbon_price,ng_price,iron_ore_cost,electricity_cost,emission_cost,carbon_steel_price):\n",
    "    #capital cost\n",
    "    #reactor cost calculation\n",
    "    plant_life=25\n",
    "    m1=1.599\n",
    "    #interest_rate=0.10\n",
    "    #tax_rate=0.35\n",
    "    steel_density=7700 #kg/m3\n",
    "    refractory_density=2970 #kg/m3\n",
    "    steel_cost=500 #USD/ton\n",
    "    refractory_cost=400 #USD/ton\n",
    "    tank_manufacturing=100 #USD/ton\n",
    "    refractory_labour=50 #USD/ton\n",
    "    vol_steel_reactor=(np.pi*((dia_reac/2+0.045)**2-(dia_reac/2)**2)*len_reac)\n",
    "    vol_refractory=(np.pi*((dia_reac/2+0.4)**2-(dia_reac/2)**2)*len_reac)\n",
    "    weight_steel_reactor=((vol_steel_reactor*steel_density)/1000)\n",
    "    weight_refractory=((vol_refractory*refractory_density)/1000)\n",
    "    reactor_cost=((weight_steel_reactor*steel_cost)+(weight_refractory*refractory_cost)+(weight_steel_reactor*100)+(weight_refractory*50))/10**6+(tin_cost_million)\n",
    "    EAF_cost_per_ton_yr=112\n",
    "    # The value includes installation costs \n",
    "    #https://iea-etsap.org/E-TechDS/PDF/I02-Iron&Steel-GS-AD-gct.pdf\n",
    "    EAF_total_cost=(EAF_cost_per_ton_yr*steel_prod_yr)/10**6\n",
    "    #### DRI Cost \n",
    "    #Link : https://www2.deloitte.com/content/dam/Deloitte/global/Documents/Manufacturing/gx_remaking%20the%20global%20steel%20industry_06_13.pdf\n",
    "\n",
    "    DRI_cost_per_ton_yr=275 #USD/ton/per year\n",
    "    # Cost of new DRI plant with 2 MT/annum =5.5 million euros or 6 million USD\n",
    "    # A reduction in cost is considered as larger plants have smaller costs. (0.6)\n",
    "    # The plant costs include all the costs including ISBL, OSBL, area development etc \n",
    "    # no Lang factor multiplication is required for such a plant\n",
    "    #https://www.voestalpine.com/group/en/media/press-releases/2013-07-04-\n",
    "    #voestalpine-entrusts-construction-of-the-direct-reduction-plant-in-texas-to-siemens-and-midrex/\n",
    "    DRI_total_cost=(DRI_cost_per_ton_yr*steel_prod_yr)/10**6\n",
    "    #### Pressure swing adsorber \n",
    "\n",
    "    PSA_cost=5 # Million USD \n",
    "   \n",
    "    \n",
    "\n",
    "    #### Gas fired metal furnace \n",
    "    #https://www.alibaba.com/showroom/gas-melting-furnace.html\n",
    "\n",
    "    el_heater_cost=50 #Million USD \n",
    "    lang_factor_reac=10\n",
    "    total_capital_cost=((reactor_cost+PSA_cost)*lang_factor_reac)+(EAF_total_cost+DRI_total_cost+ el_heater_cost)\n",
    "     ##Operational cost\n",
    "    eaf_op_cost_tls=np.repeat(32,plant_life).tolist() #t/yr of dri\n",
    "    dri_op_cost_tls=np.repeat(13,plant_life).tolist() #t/yr of dri\n",
    "    dri_elec=284.0006036823013 #KWh\n",
    "    EL4=445.3464\n",
    "    el_heat_reac=1.4337274146203023 #MWh\n",
    "    el_total=(dri_elec+EL4+(el_heat_reac*1000))/1000\n",
    "    ng_cost=[]\n",
    "    iron_ore_cost_tls=[]\n",
    "    electricity_cost_tls=[]\n",
    "    for i in range(len(eaf_op_cost_tls)):\n",
    "        ng_cost.append(total_ng_req_tls_MMBTU*ng_price)\n",
    "        iron_ore_cost_tls.append(m1*iron_ore_cost)\n",
    "        electricity_cost_tls.append((electricity_cost*(el_total)))\n",
    "    operational_cost_annual=[]\n",
    "    for i in range(len(eaf_op_cost_tls)):\n",
    "        operational_cost_annual.append((((ng_cost[i]+iron_ore_cost_tls[i]+electricity_cost_tls[i]+eaf_op_cost_tls[i]+dri_op_cost_tls[i])*steel_prod_yr)/10**6))\n",
    "    \n",
    "    #Maintenance cost\n",
    "    maintenance_cost_percentage=0.10 # 10% of the capital cost\n",
    "    maint_cost_yr=np.repeat((maintenance_cost_percentage*total_capital_cost),plant_life)\n",
    "    maint_cost_yr= maint_cost_yr.tolist()\n",
    "    #labour cost\n",
    "    labour_cost_tls=40 #USD/tls\n",
    "    labour_cost_yr=np.repeat(((labour_cost_tls*steel_prod_yr)/10**6),plant_life)\n",
    "    labour_cost_yr=labour_cost_yr.tolist()\n",
    "    #Emission cost\n",
    "    total_emission_cost=[]\n",
    "    for i in range(len(eaf_op_cost_tls)):\n",
    "        total_emission_cost.append(annual_emission_mtco2[i]*emission_cost) # in Million USD\n",
    "    depreciation=(total_capital_cost-0)/plant_life\n",
    "    depreciation_cost=[]\n",
    "    for i in range(len(labour_cost_yr)):\n",
    "        if(i<2):\n",
    "            depreciation_cost.append(0)\n",
    "        else:\n",
    "            depreciation_cost.append(depreciation)\n",
    "    \n",
    "        # Revenue\n",
    "    # USD/ton\n",
    "    revenue_steel=[]\n",
    "    for i in range(len(eaf_op_cost_tls)):\n",
    "        revenue_steel.append(((carbon_steel_price*steel_prod_yr)/10**6))\n",
    "    #USD/ton\n",
    "    # Assume that 60% of the carbon produced could be sold\n",
    "    carbon_sold=0.6\n",
    "    revenue_carbon=[]\n",
    "    # Revenue generated in Million USD /year \n",
    "    for i in range(len(eaf_op_cost_tls)):\n",
    "        revenue_carbon.append((carbon_price*carbon_prod_yr*carbon_sold)/10**9)\n",
    "    total_revenue_usd_million=[]\n",
    "    for i in range(len(revenue_carbon)):\n",
    "        total_revenue_usd_million.append(revenue_steel[i]+revenue_carbon[i])\n",
    "    years=np.arange(0,plant_life,1)\n",
    "    Years=np.round(years,0)\n",
    "    production_steel=np.repeat(steel_prod_yr/10**6,plant_life).tolist()\n",
    "    production_hydrogen=np.repeat(h2_prod_yr/1000000,plant_life).tolist()\n",
    "    annual_emission=annual_emission_mtco2\n",
    "    for i in range(2):\n",
    "        production_steel[i]=0\n",
    "        production_hydrogen[i]=0\n",
    "        annual_emission[i]=0\n",
    "    # Converting revenue\n",
    "    revenue=total_revenue_usd_million\n",
    "    revenue_c=revenue_carbon\n",
    "    revenue_s=revenue_steel\n",
    "\n",
    "    \n",
    "    for i in range(2):\n",
    "        revenue_c[i]=0\n",
    "        revenue_s[i]=0\n",
    "        revenue[i]=0\n",
    "    capital_cost=np.repeat(0,plant_life).tolist()\n",
    "    capital_cost[0]=(total_capital_cost/3)\n",
    "    capital_cost[1]=(total_capital_cost)*(2/3)\n",
    "    operational_cost=operational_cost_annual\n",
    "    labour_cost=labour_cost_yr\n",
    "    maintenance_cost=maint_cost_yr\n",
    "    #emission_cost=total_emission_cost\n",
    "\n",
    "    for i in range(2):\n",
    "        operational_cost[i]=0\n",
    "        labour_cost[i]=0\n",
    "        maintenance_cost[i]=0\n",
    "        total_emission_cost[i]=0 \n",
    "    # tax calculation\n",
    "    tax_cost=[]\n",
    "    for i in range(len(labour_cost_yr)):\n",
    "        tax_cost.append((revenue[i]-(operational_cost[i]+labour_cost[i]+maintenance_cost[i]+total_emission_cost[i]+depreciation_cost[i]))*tax_rate)\n",
    "    cash_flow=[]\n",
    "    for i in range(len(revenue)):\n",
    "        cash_flow.append(revenue[i]-(capital_cost[i]+operational_cost[i]+labour_cost[i]+maintenance_cost[i]+total_emission_cost[i]+tax_cost[i]))\n",
    "    NPV_methane_pyrolysis=np.npv(interest_rate,cash_flow)\n",
    "    IRR=np.irr(cash_flow)\n",
    "    return(None,NPV_methane_pyrolysis)\n",
    "    \n",
    "\n",
    "    \n",
    "\n",
    "\n",
    "   \n",
    "\n",
    "\n",
    "    "
   ]
  },
  {
   "cell_type": "code",
   "execution_count": 99,
   "metadata": {},
   "outputs": [],
   "source": [
    "interest_rate=0.10\n",
    "tax_rate=0.35\n",
    "ca_base_price=200\n",
    "ng_base_price=2\n",
    "iron_ore_base_price=90\n",
    "electricity_base_price=94.15\n",
    "cer_base_price=50\n",
    "carbon_steel_base_price=600"
   ]
  },
  {
   "cell_type": "code",
   "execution_count": null,
   "metadata": {},
   "outputs": [],
   "source": []
  },
  {
   "cell_type": "code",
   "execution_count": 100,
   "metadata": {},
   "outputs": [
    {
     "name": "stdout",
     "output_type": "stream",
     "text": [
      "(None, 424.40803356302587)\n"
     ]
    },
    {
     "name": "stderr",
     "output_type": "stream",
     "text": [
      "C:\\Users\\2919157\\Anaconda3\\lib\\site-packages\\ipykernel_launcher.py:138: DeprecationWarning: numpy.npv is deprecated and will be removed from NumPy 1.20. Use numpy_financial.npv instead (https://pypi.org/project/numpy-financial/).\n",
      "C:\\Users\\2919157\\Anaconda3\\lib\\site-packages\\ipykernel_launcher.py:139: DeprecationWarning: numpy.irr is deprecated and will be removed from NumPy 1.20. Use numpy_financial.irr instead (https://pypi.org/project/numpy-financial/).\n"
     ]
    }
   ],
   "source": [
    "p=npv_analysis(interest_rate,tax_rate,carbon_price,ng_price,iron_ore_cost,electricity_cost,emission_cost,carbon_steel_price)\n",
    "print(p)"
   ]
  },
  {
   "cell_type": "code",
   "execution_count": 101,
   "metadata": {},
   "outputs": [
    {
     "ename": "ModuleNotFoundError",
     "evalue": "No module named 'uncertainpy'",
     "output_type": "error",
     "traceback": [
      "\u001b[1;31m---------------------------------------------------------------------------\u001b[0m",
      "\u001b[1;31mModuleNotFoundError\u001b[0m                       Traceback (most recent call last)",
      "\u001b[1;32m<ipython-input-101-26cb4081b2f0>\u001b[0m in \u001b[0;36m<module>\u001b[1;34m\u001b[0m\n\u001b[1;32m----> 1\u001b[1;33m \u001b[1;32mimport\u001b[0m \u001b[0muncertainpy\u001b[0m \u001b[1;32mas\u001b[0m \u001b[0mun\u001b[0m\u001b[1;33m\u001b[0m\u001b[1;33m\u001b[0m\u001b[0m\n\u001b[0m\u001b[0;32m      2\u001b[0m \u001b[1;32mimport\u001b[0m \u001b[0mchaospy\u001b[0m \u001b[1;32mas\u001b[0m \u001b[0mcp\u001b[0m                       \u001b[1;31m# To create distributions\u001b[0m\u001b[1;33m\u001b[0m\u001b[1;33m\u001b[0m\u001b[0m\n\u001b[0;32m      3\u001b[0m \u001b[1;32mimport\u001b[0m \u001b[0mnumpy\u001b[0m \u001b[1;32mas\u001b[0m \u001b[0mnp\u001b[0m\u001b[1;33m\u001b[0m\u001b[1;33m\u001b[0m\u001b[0m\n",
      "\u001b[1;31mModuleNotFoundError\u001b[0m: No module named 'uncertainpy'"
     ]
    }
   ],
   "source": [
    "import uncertainpy as un\n",
    "import chaospy as cp                       # To create distributions\n",
    "import numpy as np "
   ]
  },
  {
   "cell_type": "code",
   "execution_count": null,
   "metadata": {},
   "outputs": [],
   "source": [
    "model = un.Model(run=npv_analysis)\n"
   ]
  },
  {
   "cell_type": "code",
   "execution_count": null,
   "metadata": {},
   "outputs": [],
   "source": [
    "# Create the distributions\n",
    "interest_dist = cp.Uniform(0.10, 0.20)\n",
    "tax_rate_dist = cp.Uniform(30,35)\n",
    "carbon_price_dist=cp.Uniform(50,200)\n",
    "ng_price_dist=cp.Uniform(2,6)\n",
    "iron_ore_cost_dist=cp.Uniform(80,100)\n",
    "electricity_cost_dist=cp.Uniform(45,94.15)\n",
    "emission_cost_dist=cp.Uniform(50,100)\n",
    "carbon_steel_price_dist=cp.Uniform(600,650)\n",
    "# Define the parameter dictionary\n",
    "parameters = {\"interest_rate\": interest_dist, \"tax_rate\":tax_rate_dist, \"carbon_price\":carbon_price_dist,\"ng_price\":ng_price_dist,\n",
    "             \"iron_ore_cost\":iron_ore_cost_dist,\"electricity_cost\":electricity_cost_dist,\"emission_cost\":emission_cost_dist,\n",
    "            \"carbon_steel_price\":carbon_steel_price_dist}"
   ]
  },
  {
   "cell_type": "code",
   "execution_count": null,
   "metadata": {
    "scrolled": false
   },
   "outputs": [],
   "source": [
    "# Set up the uncertainty quantification\n",
    "UQ = un.UncertaintyQuantification(model=model, parameters=parameters)\n",
    "# Perform the uncertainty quantification using\n",
    "# polynomial chaos with point collocation (by default)\n",
    "# We set the seed to easier be able to reproduce the result\n",
    "data = UQ.quantify( method=\"mc\",\n",
    "    pc_method=\"collocation\",\n",
    "    rosenblatt=True,seed=10)"
   ]
  },
  {
   "cell_type": "code",
   "execution_count": null,
   "metadata": {},
   "outputs": [],
   "source": [
    "print(data)"
   ]
  },
  {
   "cell_type": "code",
   "execution_count": null,
   "metadata": {},
   "outputs": [],
   "source": [
    "from SALib.sample import saltelli\n",
    "from SALib.analyze import sobol\n",
    "from SALib.test_functions import Ishigami\n",
    "import numpy as np"
   ]
  },
  {
   "cell_type": "code",
   "execution_count": null,
   "metadata": {},
   "outputs": [],
   "source": [
    "problem = {\n",
    "    'num_vars': 8,\n",
    "    'names': ['interest_rate','tax_rate','carbon_price','ng_price','iron_ore_cost','electricity_cost','emission_cost','carbon_steel_price'],\n",
    "    'bounds': [[0.10, 0.2],\n",
    "               [0.25, 0.35],\n",
    "               [50, 200],[2,6],[80,100],[45,94],[50,100],[600,650]\n",
    "              ]\n",
    "}"
   ]
  },
  {
   "cell_type": "code",
   "execution_count": null,
   "metadata": {},
   "outputs": [],
   "source": [
    "param_values = saltelli.sample(problem, 1000)"
   ]
  },
  {
   "cell_type": "code",
   "execution_count": null,
   "metadata": {},
   "outputs": [],
   "source": [
    "param_values"
   ]
  },
  {
   "cell_type": "code",
   "execution_count": null,
   "metadata": {},
   "outputs": [],
   "source": [
    "Y = np.zeros([param_values.shape[0]])\n",
    "\n",
    "for i, X in enumerate(param_values):\n",
    "    Y[i] = npv_analysis(X)"
   ]
  },
  {
   "cell_type": "code",
   "execution_count": null,
   "metadata": {},
   "outputs": [],
   "source": [
    "NPV_94=[-458.2909148363127,\n",
    " 1454.413398266894,\n",
    " 1843.4762222366012,\n",
    " 1860.4565206116745,\n",
    " 1695.1340943102166,\n",
    " -222.93812385770912,\n",
    " -154.43625058723788,\n",
    " -14.157230570279598,\n",
    " 194.41373268892409,\n",
    " 256.63196390392307]"
   ]
  },
  {
   "cell_type": "code",
   "execution_count": null,
   "metadata": {},
   "outputs": [],
   "source": [
    "IRR_94=[7.607518290889925,\n",
    " 22.78786902182275,\n",
    " 29.102613348886265,\n",
    " 28.57722677677923,\n",
    " 24.625006283515603,\n",
    " 8.908821424855407,\n",
    " 7.960831674233382,\n",
    " 9.819440646297227,\n",
    " 12.345913595626289,\n",
    " 12.842897610665371]"
   ]
  },
  {
   "cell_type": "code",
   "execution_count": null,
   "metadata": {},
   "outputs": [],
   "source": [
    "IRR_60=[9.696110099961231,\n",
    " 25.807804038421843,\n",
    " 32.46641931192935,\n",
    " 31.821992415947076,\n",
    " 27.447769856771863,\n",
    " 10.670041066551384,\n",
    " 20.334662573511686,\n",
    " 21.50840731471424,\n",
    " 23.024033338025696,\n",
    " 22.422354630310394]"
   ]
  },
  {
   "cell_type": "code",
   "execution_count": null,
   "metadata": {},
   "outputs": [],
   "source": [
    "NPV_60=[-60.25284314900094,\n",
    " 1835.291253452562,\n",
    " 2207.0697913144722,\n",
    " 2224.0500896895455,\n",
    " 2058.727663388088,\n",
    " 140.65544522016035,\n",
    " 908.9007428446213,\n",
    " 1026.2584408439864,\n",
    " 1197.8110804783792,\n",
    " 1231.0551214546845]"
   ]
  },
  {
   "cell_type": "code",
   "execution_count": null,
   "metadata": {},
   "outputs": [],
   "source": [
    "Configurations=['1','2','3','4','5','6','7','8','9','10']"
   ]
  },
  {
   "cell_type": "code",
   "execution_count": null,
   "metadata": {},
   "outputs": [],
   "source": [
    "plt.bar(Configurations,NPV_94,label='Electricity price=94.15')\n",
    "plt.bar(Configurations,NPV_60,label='Electricity price=60')\n",
    "plt.legend()"
   ]
  },
  {
   "cell_type": "code",
   "execution_count": null,
   "metadata": {},
   "outputs": [],
   "source": []
  },
  {
   "cell_type": "code",
   "execution_count": null,
   "metadata": {},
   "outputs": [],
   "source": []
  }
 ],
 "metadata": {
  "kernelspec": {
   "display_name": "Python 3",
   "language": "python",
   "name": "python3"
  },
  "language_info": {
   "codemirror_mode": {
    "name": "ipython",
    "version": 3
   },
   "file_extension": ".py",
   "mimetype": "text/x-python",
   "name": "python",
   "nbconvert_exporter": "python",
   "pygments_lexer": "ipython3",
   "version": "3.7.6"
  }
 },
 "nbformat": 4,
 "nbformat_minor": 2
}
